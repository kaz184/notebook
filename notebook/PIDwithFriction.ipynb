{
 "cells": [
  {
   "cell_type": "code",
   "execution_count": 1,
   "id": "e8115d27-9c94-47c4-8064-837a9e70ad18",
   "metadata": {},
   "outputs": [
    {
     "name": "stderr",
     "output_type": "stream",
     "text": [
      "\u001b[0;1;31mSystem has not been booted with systemd as init system (PID 1). Can't operate.\u001b[0m\n",
      "\u001b[0;1;31mFailed to create bus connection: Host is down\u001b[0m\n",
      "┌ Warning: RCall.jl: Loading required package: tidyverse\n",
      "│ Warning in system(\"timedatectl\", intern = TRUE) :\n",
      "│   running command 'timedatectl' had status 1\n",
      "│ ── Attaching packages ─────────────────────────────────────── tidyverse 1.3.1 ──\n",
      "│ ✔ ggplot2 3.3.5     ✔ purrr   0.3.4\n",
      "│ ✔ tibble  3.1.6     ✔ dplyr   1.0.8\n",
      "│ ✔ tidyr   1.2.0     ✔ stringr 1.4.0\n",
      "│ ✔ readr   2.1.2     ✔ forcats 0.5.1\n",
      "│ ── Conflicts ────────────────────────────────────────── tidyverse_conflicts() ──\n",
      "│ ✖ dplyr::filter() masks stats::filter()\n",
      "│ ✖ dplyr::lag()    masks stats::lag()\n",
      "└ @ RCall /home/jovyan/.julia/packages/RCall/6kphM/src/io.jl:172\n"
     ]
    },
    {
     "data": {
      "text/plain": [
       "RObject{LglSxp}\n",
       "[1] TRUE\n"
      ]
     },
     "execution_count": 1,
     "metadata": {},
     "output_type": "execute_result"
    }
   ],
   "source": [
    "using Parameters\n",
    "using DifferentialEquations\n",
    "using MLStyle\n",
    "using RCall\n",
    "R\"require('tidyverse')\""
   ]
  },
  {
   "cell_type": "markdown",
   "id": "88a2551f-bc53-41f2-9001-434d0f547418",
   "metadata": {},
   "source": [
    "$$\n",
    "m\\ddot x + c\\dot x + k x = D\\dot e + P e + I \\int_0^t e du\\\\\n",
    "e(t) = r(t) - x(t)\n",
    "$$"
   ]
  },
  {
   "cell_type": "code",
   "execution_count": 127,
   "id": "ad516655-5171-43f5-a8da-c1dd879418c6",
   "metadata": {},
   "outputs": [
    {
     "name": "stderr",
     "output_type": "stream",
     "text": [
      "WARNING: replacing module T.\n"
     ]
    },
    {
     "data": {
      "text/plain": [
       "Main.T"
      ]
     },
     "execution_count": 127,
     "metadata": {},
     "output_type": "execute_result"
    }
   ],
   "source": [
    "module T\n",
    "\n",
    "using Parameters\n",
    "using MLStyle\n",
    "using DifferentialEquations\n",
    "\n",
    "@with_kw mutable struct Params\n",
    "    m = 1.0\n",
    "    c = 8.4\n",
    "    k = 40.0\n",
    "    P = 1.0\n",
    "    I = 1.0\n",
    "    D = 1.0\n",
    "    ṙ = 0.0\n",
    "    g = 9.8\n",
    "end\n",
    "\n",
    "dynamics = (du,u,p,t) -> begin\n",
    "    @unpack_Params p\n",
    "    ∫r,r,∫x,x,ẋ = u\n",
    "    d∫r = r\n",
    "    dr = ṙ\n",
    "    d∫x = x\n",
    "    dx = ẋ\n",
    "    dẋ = (D*(ṙ-ẋ) + P*(r-x) + I*(∫r-∫x) - c*ẋ - k*x)/m\n",
    "    du .= d∫r,dr,d∫x,dx,dẋ\n",
    "end\n",
    "\n",
    "condition = (out, u,t,int) -> begin\n",
    "    out[1] = t - 5\n",
    "    out[2] = t - 5.1\n",
    "end\n",
    "\n",
    "affect! = (int,idx) -> begin\n",
    "    @match idx begin\n",
    "        1 => begin int.p.ṙ += 1/0.1 end\n",
    "        2 => begin int.p.ṙ -= 1/0.1 end\n",
    "    end\n",
    "end\n",
    "\n",
    "callback = VectorContinuousCallback(condition, affect!, 2)\n",
    "\n",
    "end"
   ]
  },
  {
   "cell_type": "code",
   "execution_count": 221,
   "id": "6c501fad-0de4-4eec-aaef-38d16757350d",
   "metadata": {},
   "outputs": [
    {
     "name": "stderr",
     "output_type": "stream",
     "text": [
      "\u001b[32m\u001b[1m    Building\u001b[22m\u001b[39m WebIO ───────→ `~/.julia/scratchspaces/44cfe95a-1eb2-52ea-b672-e2afdf69b78f/c9529be473e97fa0b3b2642cdafcd0896b4c9494/build.log`\n",
      "\u001b[32m\u001b[1m    Building\u001b[22m\u001b[39m Knockout ────→ `~/.julia/scratchspaces/44cfe95a-1eb2-52ea-b672-e2afdf69b78f/deb74017e1061d76050ff68d219217413be4ef59/build.log`\n",
      "\u001b[32m\u001b[1m    Building\u001b[22m\u001b[39m InteractBase → `~/.julia/scratchspaces/44cfe95a-1eb2-52ea-b672-e2afdf69b78f/3ace4760fab1c9700ec9c68ab0e36e0856f05556/build.log`\n",
      "\u001b[32m\u001b[1m    Building\u001b[22m\u001b[39m Interact ────→ `~/.julia/scratchspaces/44cfe95a-1eb2-52ea-b672-e2afdf69b78f/311f9130aeb50ac93a12dd076fa02c9a430be525/build.log`\n"
     ]
    }
   ],
   "source": [
    "Pkg.build(\"Interact\")"
   ]
  },
  {
   "cell_type": "code",
   "execution_count": null,
   "id": "3975fc67-1f46-4c3a-a644-b88c613ba049",
   "metadata": {},
   "outputs": [],
   "source": [
    "using Conda\n",
    "Conda.pip_interop(true)\n",
    "Conda.pip(\"install\", \"webio_jupyter_extension\")"
   ]
  },
  {
   "cell_type": "code",
   "execution_count": 2,
   "id": "e5c2b6f7-c74c-42d8-be05-9eb9b06f092d",
   "metadata": {},
   "outputs": [
    {
     "data": {
      "application/vnd.webio.node+json": {
       "children": [
        {
         "children": [
          {
           "children": [
            "Press me!"
           ],
           "instanceArgs": {
            "namespace": "html",
            "tag": "button"
           },
           "nodeType": "DOM",
           "props": {
            "attributes": {
             "data-bind": "click: function (){this.clicks(this.clicks()+1)}, css: {'is-loading' : loading}"
            },
            "className": "is-medium button is-primary",
            "style": {}
           },
           "type": "node"
          }
         ],
         "instanceArgs": {
          "handlers": {
           "clicks": [
            "(function (val){return (val!=this.model[\"clicks\"]()) ? (this.valueFromJulia[\"clicks\"]=true, this.model[\"clicks\"](val)) : undefined})"
           ],
           "loading": [
            "(function (val){return (val!=this.model[\"loading\"]()) ? (this.valueFromJulia[\"loading\"]=true, this.model[\"loading\"](val)) : undefined})"
           ]
          },
          "id": "11707325516160219434",
          "imports": {
           "data": [
            {
             "name": "knockout",
             "type": "js",
             "url": "/assetserver/117607f99ba030a2b8090961a2e6c203c2c1dbe8-knockout.js"
            },
            {
             "name": "knockout_punches",
             "type": "js",
             "url": "/assetserver/51598d5dea55a6a749e938fe53154156d71db97c-knockout_punches.js"
            },
            {
             "name": null,
             "type": "js",
             "url": "/assetserver/31e01accaf8a33eeb594cd9f8ec3589d5768078a-all.js"
            },
            {
             "name": null,
             "type": "css",
             "url": "/assetserver/a9eba31bb88853607ce3744dc6128f7914b77586-style.css"
            },
            {
             "name": null,
             "type": "css",
             "url": "/assetserver/4b954697fe88e80c553ff03b9130e0aa1c39f9f6-bulma_confined.min.css"
            }
           ],
           "type": "async_block"
          },
          "mount_callbacks": [
           "function () {\n    var handler = (function (ko, koPunches) {\n    ko.punches.enableAll();\n    ko.bindingHandlers.numericValue = {\n        init: function(element, valueAccessor, allBindings, data, context) {\n            var stringified = ko.observable(ko.unwrap(valueAccessor()));\n            stringified.subscribe(function(value) {\n                var val = parseFloat(value);\n                if (!isNaN(val)) {\n                    valueAccessor()(val);\n                }\n            });\n            valueAccessor().subscribe(function(value) {\n                var str = JSON.stringify(value);\n                if ((str == \"0\") && ([\"-0\", \"-0.\"].indexOf(stringified()) >= 0))\n                     return;\n                 if ([\"null\", \"\"].indexOf(str) >= 0)\n                     return;\n                stringified(str);\n            });\n            ko.applyBindingsToNode(\n                element,\n                {\n                    value: stringified,\n                    valueUpdate: allBindings.get('valueUpdate'),\n                },\n                context,\n            );\n        }\n    };\n    var json_data = {\"loading\":WebIO.getval({\"name\":\"loading\",\"scope\":\"11707325516160219434\",\"id\":\"8040762734615988690\",\"type\":\"observable\"}),\"clicks\":WebIO.getval({\"name\":\"clicks\",\"scope\":\"11707325516160219434\",\"id\":\"15019455535775659418\",\"type\":\"observable\"})};\n    var self = this;\n    function AppViewModel() {\n        for (var key in json_data) {\n            var el = json_data[key];\n            this[key] = Array.isArray(el) ? ko.observableArray(el) : ko.observable(el);\n        }\n        \n        \n        [this[\"loading\"].subscribe((function (val){!(this.valueFromJulia[\"loading\"]) ? (WebIO.setval({\"name\":\"loading\",\"scope\":\"11707325516160219434\",\"id\":\"8040762734615988690\",\"type\":\"observable\"},val)) : undefined; return this.valueFromJulia[\"loading\"]=false}),self),this[\"clicks\"].subscribe((function (val){!(this.valueFromJulia[\"clicks\"]) ? (WebIO.setval({\"name\":\"clicks\",\"scope\":\"11707325516160219434\",\"id\":\"15019455535775659418\",\"type\":\"observable\"},val)) : undefined; return this.valueFromJulia[\"clicks\"]=false}),self)]\n        \n    }\n    self.model = new AppViewModel();\n    self.valueFromJulia = {};\n    for (var key in json_data) {\n        self.valueFromJulia[key] = false;\n    }\n    ko.applyBindings(self.model, self.dom);\n}\n);\n    (WebIO.importBlock({\"data\":[{\"name\":\"knockout\",\"type\":\"js\",\"url\":\"/assetserver/117607f99ba030a2b8090961a2e6c203c2c1dbe8-knockout.js\"},{\"name\":\"knockout_punches\",\"type\":\"js\",\"url\":\"/assetserver/51598d5dea55a6a749e938fe53154156d71db97c-knockout_punches.js\"}],\"type\":\"async_block\"})).then((imports) => handler.apply(this, imports));\n}\n"
          ],
          "observables": {
           "clicks": {
            "id": "15019455535775659418",
            "sync": false,
            "value": 0
           },
           "loading": {
            "id": "8040762734615988690",
            "sync": false,
            "value": false
           }
          },
          "systemjs_options": null
         },
         "nodeType": "Scope",
         "props": {},
         "type": "node"
        }
       ],
       "instanceArgs": {
        "namespace": "html",
        "tag": "div"
       },
       "nodeType": "DOM",
       "props": {
        "className": "field interact-widget"
       },
       "type": "node"
      },
      "text/html": [
       "<div\n",
       "    class=\"webio-mountpoint\"\n",
       "    data-webio-mountpoint=\"4168583149215373297\"\n",
       ">\n",
       "    <script>\n",
       "    (function(){\n",
       "    // Some integrations (namely, IJulia/Jupyter) use an alternate render pathway than\n",
       "    // just putting the html on the page. If WebIO isn't defined, then it's pretty likely\n",
       "    // that we're in one of those situations and the integration just isn't installed\n",
       "    // correctly.\n",
       "    if (typeof window.WebIO === \"undefined\") {\n",
       "        document\n",
       "            .querySelector('[data-webio-mountpoint=\"4168583149215373297\"]')\n",
       "            .innerHTML = (\n",
       "                '<div style=\"padding: 1em; background-color: #f8d6da; border: 1px solid #f5c6cb; font-weight: bold;\">' +\n",
       "                '<p><strong>WebIO not detected.</strong></p>' +\n",
       "                '<p>Please read ' +\n",
       "                '<a href=\"https://juliagizmos.github.io/WebIO.jl/latest/troubleshooting/not-detected/\" target=\"_blank\">the troubleshooting guide</a> ' +\n",
       "                'for more information on how to resolve this issue.</p>' +\n",
       "                '<p><a href=\"https://juliagizmos.github.io/WebIO.jl/latest/troubleshooting/not-detected/\" target=\"_blank\">https://juliagizmos.github.io/WebIO.jl/latest/troubleshooting/not-detected/</a></p>' +\n",
       "                '</div>'\n",
       "            );\n",
       "        return;\n",
       "    }\n",
       "    WebIO.mount(\n",
       "        document.querySelector('[data-webio-mountpoint=\"4168583149215373297\"]'),\n",
       "        {\"props\":{\"className\":\"field interact-widget\"},\"nodeType\":\"DOM\",\"type\":\"node\",\"instanceArgs\":{\"namespace\":\"html\",\"tag\":\"div\"},\"children\":[{\"props\":{},\"nodeType\":\"Scope\",\"type\":\"node\",\"instanceArgs\":{\"imports\":{\"data\":[{\"name\":\"knockout\",\"type\":\"js\",\"url\":\"\\/assetserver\\/117607f99ba030a2b8090961a2e6c203c2c1dbe8-knockout.js\"},{\"name\":\"knockout_punches\",\"type\":\"js\",\"url\":\"\\/assetserver\\/51598d5dea55a6a749e938fe53154156d71db97c-knockout_punches.js\"},{\"name\":null,\"type\":\"js\",\"url\":\"\\/assetserver\\/31e01accaf8a33eeb594cd9f8ec3589d5768078a-all.js\"},{\"name\":null,\"type\":\"css\",\"url\":\"\\/assetserver\\/a9eba31bb88853607ce3744dc6128f7914b77586-style.css\"},{\"name\":null,\"type\":\"css\",\"url\":\"\\/assetserver\\/4b954697fe88e80c553ff03b9130e0aa1c39f9f6-bulma_confined.min.css\"}],\"type\":\"async_block\"},\"id\":\"11707325516160219434\",\"handlers\":{\"loading\":[\"(function (val){return (val!=this.model[\\\"loading\\\"]()) ? (this.valueFromJulia[\\\"loading\\\"]=true, this.model[\\\"loading\\\"](val)) : undefined})\"],\"clicks\":[\"(function (val){return (val!=this.model[\\\"clicks\\\"]()) ? (this.valueFromJulia[\\\"clicks\\\"]=true, this.model[\\\"clicks\\\"](val)) : undefined})\"]},\"systemjs_options\":null,\"mount_callbacks\":[\"function () {\\n    var handler = (function (ko, koPunches) {\\n    ko.punches.enableAll();\\n    ko.bindingHandlers.numericValue = {\\n        init: function(element, valueAccessor, allBindings, data, context) {\\n            var stringified = ko.observable(ko.unwrap(valueAccessor()));\\n            stringified.subscribe(function(value) {\\n                var val = parseFloat(value);\\n                if (!isNaN(val)) {\\n                    valueAccessor()(val);\\n                }\\n            });\\n            valueAccessor().subscribe(function(value) {\\n                var str = JSON.stringify(value);\\n                if ((str == \\\"0\\\") && ([\\\"-0\\\", \\\"-0.\\\"].indexOf(stringified()) >= 0))\\n                     return;\\n                 if ([\\\"null\\\", \\\"\\\"].indexOf(str) >= 0)\\n                     return;\\n                stringified(str);\\n            });\\n            ko.applyBindingsToNode(\\n                element,\\n                {\\n                    value: stringified,\\n                    valueUpdate: allBindings.get('valueUpdate'),\\n                },\\n                context,\\n            );\\n        }\\n    };\\n    var json_data = {\\\"loading\\\":WebIO.getval({\\\"name\\\":\\\"loading\\\",\\\"scope\\\":\\\"11707325516160219434\\\",\\\"id\\\":\\\"8040762734615988690\\\",\\\"type\\\":\\\"observable\\\"}),\\\"clicks\\\":WebIO.getval({\\\"name\\\":\\\"clicks\\\",\\\"scope\\\":\\\"11707325516160219434\\\",\\\"id\\\":\\\"15019455535775659418\\\",\\\"type\\\":\\\"observable\\\"})};\\n    var self = this;\\n    function AppViewModel() {\\n        for (var key in json_data) {\\n            var el = json_data[key];\\n            this[key] = Array.isArray(el) ? ko.observableArray(el) : ko.observable(el);\\n        }\\n        \\n        \\n        [this[\\\"loading\\\"].subscribe((function (val){!(this.valueFromJulia[\\\"loading\\\"]) ? (WebIO.setval({\\\"name\\\":\\\"loading\\\",\\\"scope\\\":\\\"11707325516160219434\\\",\\\"id\\\":\\\"8040762734615988690\\\",\\\"type\\\":\\\"observable\\\"},val)) : undefined; return this.valueFromJulia[\\\"loading\\\"]=false}),self),this[\\\"clicks\\\"].subscribe((function (val){!(this.valueFromJulia[\\\"clicks\\\"]) ? (WebIO.setval({\\\"name\\\":\\\"clicks\\\",\\\"scope\\\":\\\"11707325516160219434\\\",\\\"id\\\":\\\"15019455535775659418\\\",\\\"type\\\":\\\"observable\\\"},val)) : undefined; return this.valueFromJulia[\\\"clicks\\\"]=false}),self)]\\n        \\n    }\\n    self.model = new AppViewModel();\\n    self.valueFromJulia = {};\\n    for (var key in json_data) {\\n        self.valueFromJulia[key] = false;\\n    }\\n    ko.applyBindings(self.model, self.dom);\\n}\\n);\\n    (WebIO.importBlock({\\\"data\\\":[{\\\"name\\\":\\\"knockout\\\",\\\"type\\\":\\\"js\\\",\\\"url\\\":\\\"\\/assetserver\\/117607f99ba030a2b8090961a2e6c203c2c1dbe8-knockout.js\\\"},{\\\"name\\\":\\\"knockout_punches\\\",\\\"type\\\":\\\"js\\\",\\\"url\\\":\\\"\\/assetserver\\/51598d5dea55a6a749e938fe53154156d71db97c-knockout_punches.js\\\"}],\\\"type\\\":\\\"async_block\\\"})).then((imports) => handler.apply(this, imports));\\n}\\n\"],\"observables\":{\"loading\":{\"sync\":false,\"id\":\"8040762734615988690\",\"value\":false},\"clicks\":{\"sync\":false,\"id\":\"15019455535775659418\",\"value\":0}}},\"children\":[{\"props\":{\"attributes\":{\"data-bind\":\"click: function (){this.clicks(this.clicks()+1)}, css: {'is-loading' : loading}\"},\"className\":\"is-medium button is-primary\",\"style\":{}},\"nodeType\":\"DOM\",\"type\":\"node\",\"instanceArgs\":{\"namespace\":\"html\",\"tag\":\"button\"},\"children\":[\"Press me!\"]}]}]},\n",
       "        window,\n",
       "    );\n",
       "    })()\n",
       "    </script>\n",
       "</div>\n"
      ],
      "text/plain": [
       "(div { className=\"field interact-widget\" }\n",
       "    (button { attributes=Dict{Any, Any}(\"data-bind\" => \"click: function (){this.clicks(this.clicks()+1)}, css: {'is-loading' : loading}\") className=\"is-medium button is-primary\" style=Dict{String, Any}() }\n",
       "    \"Press me!\"))"
      ]
     },
     "metadata": {
      "@webio": {
       "kernelId": "c0cd5d2e-4a44-4af1-aba4-33c2c5a3555d"
      }
     },
     "output_type": "display_data"
    }
   ],
   "source": [
    "using Interact\n",
    "ui = button()\n",
    "display(ui)"
   ]
  },
  {
   "cell_type": "code",
   "execution_count": 4,
   "id": "dcd7770a-a0a3-4919-8fd8-c12480f590b0",
   "metadata": {},
   "outputs": [
    {
     "data": {
      "application/vnd.webio.node+json": {
       "children": [
        {
         "children": [
          {
           "children": [
            "Press me!"
           ],
           "instanceArgs": {
            "namespace": "html",
            "tag": "button"
           },
           "nodeType": "DOM",
           "props": {
            "attributes": {
             "data-bind": "click: function (){this.clicks(this.clicks()+1)}, css: {'is-loading' : loading}"
            },
            "className": "is-medium button is-primary",
            "style": {}
           },
           "type": "node"
          }
         ],
         "instanceArgs": {
          "handlers": {
           "clicks": [
            "(function (val){return (val!=this.model[\"clicks\"]()) ? (this.valueFromJulia[\"clicks\"]=true, this.model[\"clicks\"](val)) : undefined})"
           ],
           "loading": [
            "(function (val){return (val!=this.model[\"loading\"]()) ? (this.valueFromJulia[\"loading\"]=true, this.model[\"loading\"](val)) : undefined})"
           ]
          },
          "id": "11707325516160219434",
          "imports": {
           "data": [
            {
             "name": "knockout",
             "type": "js",
             "url": "/assetserver/117607f99ba030a2b8090961a2e6c203c2c1dbe8-knockout.js"
            },
            {
             "name": "knockout_punches",
             "type": "js",
             "url": "/assetserver/51598d5dea55a6a749e938fe53154156d71db97c-knockout_punches.js"
            },
            {
             "name": null,
             "type": "js",
             "url": "/assetserver/31e01accaf8a33eeb594cd9f8ec3589d5768078a-all.js"
            },
            {
             "name": null,
             "type": "css",
             "url": "/assetserver/a9eba31bb88853607ce3744dc6128f7914b77586-style.css"
            },
            {
             "name": null,
             "type": "css",
             "url": "/assetserver/4b954697fe88e80c553ff03b9130e0aa1c39f9f6-bulma_confined.min.css"
            }
           ],
           "type": "async_block"
          },
          "mount_callbacks": [
           "function () {\n    var handler = (function (ko, koPunches) {\n    ko.punches.enableAll();\n    ko.bindingHandlers.numericValue = {\n        init: function(element, valueAccessor, allBindings, data, context) {\n            var stringified = ko.observable(ko.unwrap(valueAccessor()));\n            stringified.subscribe(function(value) {\n                var val = parseFloat(value);\n                if (!isNaN(val)) {\n                    valueAccessor()(val);\n                }\n            });\n            valueAccessor().subscribe(function(value) {\n                var str = JSON.stringify(value);\n                if ((str == \"0\") && ([\"-0\", \"-0.\"].indexOf(stringified()) >= 0))\n                     return;\n                 if ([\"null\", \"\"].indexOf(str) >= 0)\n                     return;\n                stringified(str);\n            });\n            ko.applyBindingsToNode(\n                element,\n                {\n                    value: stringified,\n                    valueUpdate: allBindings.get('valueUpdate'),\n                },\n                context,\n            );\n        }\n    };\n    var json_data = {\"loading\":WebIO.getval({\"name\":\"loading\",\"scope\":\"11707325516160219434\",\"id\":\"8040762734615988690\",\"type\":\"observable\"}),\"clicks\":WebIO.getval({\"name\":\"clicks\",\"scope\":\"11707325516160219434\",\"id\":\"15019455535775659418\",\"type\":\"observable\"})};\n    var self = this;\n    function AppViewModel() {\n        for (var key in json_data) {\n            var el = json_data[key];\n            this[key] = Array.isArray(el) ? ko.observableArray(el) : ko.observable(el);\n        }\n        \n        \n        [this[\"loading\"].subscribe((function (val){!(this.valueFromJulia[\"loading\"]) ? (WebIO.setval({\"name\":\"loading\",\"scope\":\"11707325516160219434\",\"id\":\"8040762734615988690\",\"type\":\"observable\"},val)) : undefined; return this.valueFromJulia[\"loading\"]=false}),self),this[\"clicks\"].subscribe((function (val){!(this.valueFromJulia[\"clicks\"]) ? (WebIO.setval({\"name\":\"clicks\",\"scope\":\"11707325516160219434\",\"id\":\"15019455535775659418\",\"type\":\"observable\"},val)) : undefined; return this.valueFromJulia[\"clicks\"]=false}),self)]\n        \n    }\n    self.model = new AppViewModel();\n    self.valueFromJulia = {};\n    for (var key in json_data) {\n        self.valueFromJulia[key] = false;\n    }\n    ko.applyBindings(self.model, self.dom);\n}\n);\n    (WebIO.importBlock({\"data\":[{\"name\":\"knockout\",\"type\":\"js\",\"url\":\"/assetserver/117607f99ba030a2b8090961a2e6c203c2c1dbe8-knockout.js\"},{\"name\":\"knockout_punches\",\"type\":\"js\",\"url\":\"/assetserver/51598d5dea55a6a749e938fe53154156d71db97c-knockout_punches.js\"}],\"type\":\"async_block\"})).then((imports) => handler.apply(this, imports));\n}\n"
          ],
          "observables": {
           "clicks": {
            "id": "15019455535775659418",
            "sync": false,
            "value": 0
           },
           "loading": {
            "id": "8040762734615988690",
            "sync": false,
            "value": false
           }
          },
          "systemjs_options": null
         },
         "nodeType": "Scope",
         "props": {},
         "type": "node"
        }
       ],
       "instanceArgs": {
        "namespace": "html",
        "tag": "div"
       },
       "nodeType": "DOM",
       "props": {
        "className": "field interact-widget"
       },
       "type": "node"
      },
      "text/html": [
       "<div\n",
       "    class=\"webio-mountpoint\"\n",
       "    data-webio-mountpoint=\"10350936276183021325\"\n",
       ">\n",
       "    <script>\n",
       "    (function(){\n",
       "    // Some integrations (namely, IJulia/Jupyter) use an alternate render pathway than\n",
       "    // just putting the html on the page. If WebIO isn't defined, then it's pretty likely\n",
       "    // that we're in one of those situations and the integration just isn't installed\n",
       "    // correctly.\n",
       "    if (typeof window.WebIO === \"undefined\") {\n",
       "        document\n",
       "            .querySelector('[data-webio-mountpoint=\"10350936276183021325\"]')\n",
       "            .innerHTML = (\n",
       "                '<div style=\"padding: 1em; background-color: #f8d6da; border: 1px solid #f5c6cb; font-weight: bold;\">' +\n",
       "                '<p><strong>WebIO not detected.</strong></p>' +\n",
       "                '<p>Please read ' +\n",
       "                '<a href=\"https://juliagizmos.github.io/WebIO.jl/latest/troubleshooting/not-detected/\" target=\"_blank\">the troubleshooting guide</a> ' +\n",
       "                'for more information on how to resolve this issue.</p>' +\n",
       "                '<p><a href=\"https://juliagizmos.github.io/WebIO.jl/latest/troubleshooting/not-detected/\" target=\"_blank\">https://juliagizmos.github.io/WebIO.jl/latest/troubleshooting/not-detected/</a></p>' +\n",
       "                '</div>'\n",
       "            );\n",
       "        return;\n",
       "    }\n",
       "    WebIO.mount(\n",
       "        document.querySelector('[data-webio-mountpoint=\"10350936276183021325\"]'),\n",
       "        {\"props\":{\"className\":\"field interact-widget\"},\"nodeType\":\"DOM\",\"type\":\"node\",\"instanceArgs\":{\"namespace\":\"html\",\"tag\":\"div\"},\"children\":[{\"props\":{},\"nodeType\":\"Scope\",\"type\":\"node\",\"instanceArgs\":{\"imports\":{\"data\":[{\"name\":\"knockout\",\"type\":\"js\",\"url\":\"\\/assetserver\\/117607f99ba030a2b8090961a2e6c203c2c1dbe8-knockout.js\"},{\"name\":\"knockout_punches\",\"type\":\"js\",\"url\":\"\\/assetserver\\/51598d5dea55a6a749e938fe53154156d71db97c-knockout_punches.js\"},{\"name\":null,\"type\":\"js\",\"url\":\"\\/assetserver\\/31e01accaf8a33eeb594cd9f8ec3589d5768078a-all.js\"},{\"name\":null,\"type\":\"css\",\"url\":\"\\/assetserver\\/a9eba31bb88853607ce3744dc6128f7914b77586-style.css\"},{\"name\":null,\"type\":\"css\",\"url\":\"\\/assetserver\\/4b954697fe88e80c553ff03b9130e0aa1c39f9f6-bulma_confined.min.css\"}],\"type\":\"async_block\"},\"id\":\"11707325516160219434\",\"handlers\":{\"loading\":[\"(function (val){return (val!=this.model[\\\"loading\\\"]()) ? (this.valueFromJulia[\\\"loading\\\"]=true, this.model[\\\"loading\\\"](val)) : undefined})\"],\"clicks\":[\"(function (val){return (val!=this.model[\\\"clicks\\\"]()) ? (this.valueFromJulia[\\\"clicks\\\"]=true, this.model[\\\"clicks\\\"](val)) : undefined})\"]},\"systemjs_options\":null,\"mount_callbacks\":[\"function () {\\n    var handler = (function (ko, koPunches) {\\n    ko.punches.enableAll();\\n    ko.bindingHandlers.numericValue = {\\n        init: function(element, valueAccessor, allBindings, data, context) {\\n            var stringified = ko.observable(ko.unwrap(valueAccessor()));\\n            stringified.subscribe(function(value) {\\n                var val = parseFloat(value);\\n                if (!isNaN(val)) {\\n                    valueAccessor()(val);\\n                }\\n            });\\n            valueAccessor().subscribe(function(value) {\\n                var str = JSON.stringify(value);\\n                if ((str == \\\"0\\\") && ([\\\"-0\\\", \\\"-0.\\\"].indexOf(stringified()) >= 0))\\n                     return;\\n                 if ([\\\"null\\\", \\\"\\\"].indexOf(str) >= 0)\\n                     return;\\n                stringified(str);\\n            });\\n            ko.applyBindingsToNode(\\n                element,\\n                {\\n                    value: stringified,\\n                    valueUpdate: allBindings.get('valueUpdate'),\\n                },\\n                context,\\n            );\\n        }\\n    };\\n    var json_data = {\\\"loading\\\":WebIO.getval({\\\"name\\\":\\\"loading\\\",\\\"scope\\\":\\\"11707325516160219434\\\",\\\"id\\\":\\\"8040762734615988690\\\",\\\"type\\\":\\\"observable\\\"}),\\\"clicks\\\":WebIO.getval({\\\"name\\\":\\\"clicks\\\",\\\"scope\\\":\\\"11707325516160219434\\\",\\\"id\\\":\\\"15019455535775659418\\\",\\\"type\\\":\\\"observable\\\"})};\\n    var self = this;\\n    function AppViewModel() {\\n        for (var key in json_data) {\\n            var el = json_data[key];\\n            this[key] = Array.isArray(el) ? ko.observableArray(el) : ko.observable(el);\\n        }\\n        \\n        \\n        [this[\\\"loading\\\"].subscribe((function (val){!(this.valueFromJulia[\\\"loading\\\"]) ? (WebIO.setval({\\\"name\\\":\\\"loading\\\",\\\"scope\\\":\\\"11707325516160219434\\\",\\\"id\\\":\\\"8040762734615988690\\\",\\\"type\\\":\\\"observable\\\"},val)) : undefined; return this.valueFromJulia[\\\"loading\\\"]=false}),self),this[\\\"clicks\\\"].subscribe((function (val){!(this.valueFromJulia[\\\"clicks\\\"]) ? (WebIO.setval({\\\"name\\\":\\\"clicks\\\",\\\"scope\\\":\\\"11707325516160219434\\\",\\\"id\\\":\\\"15019455535775659418\\\",\\\"type\\\":\\\"observable\\\"},val)) : undefined; return this.valueFromJulia[\\\"clicks\\\"]=false}),self)]\\n        \\n    }\\n    self.model = new AppViewModel();\\n    self.valueFromJulia = {};\\n    for (var key in json_data) {\\n        self.valueFromJulia[key] = false;\\n    }\\n    ko.applyBindings(self.model, self.dom);\\n}\\n);\\n    (WebIO.importBlock({\\\"data\\\":[{\\\"name\\\":\\\"knockout\\\",\\\"type\\\":\\\"js\\\",\\\"url\\\":\\\"\\/assetserver\\/117607f99ba030a2b8090961a2e6c203c2c1dbe8-knockout.js\\\"},{\\\"name\\\":\\\"knockout_punches\\\",\\\"type\\\":\\\"js\\\",\\\"url\\\":\\\"\\/assetserver\\/51598d5dea55a6a749e938fe53154156d71db97c-knockout_punches.js\\\"}],\\\"type\\\":\\\"async_block\\\"})).then((imports) => handler.apply(this, imports));\\n}\\n\"],\"observables\":{\"loading\":{\"sync\":false,\"id\":\"8040762734615988690\",\"value\":false},\"clicks\":{\"sync\":false,\"id\":\"15019455535775659418\",\"value\":0}}},\"children\":[{\"props\":{\"attributes\":{\"data-bind\":\"click: function (){this.clicks(this.clicks()+1)}, css: {'is-loading' : loading}\"},\"className\":\"is-medium button is-primary\",\"style\":{}},\"nodeType\":\"DOM\",\"type\":\"node\",\"instanceArgs\":{\"namespace\":\"html\",\"tag\":\"button\"},\"children\":[\"Press me!\"]}]}]},\n",
       "        window,\n",
       "    );\n",
       "    })()\n",
       "    </script>\n",
       "</div>\n"
      ],
      "text/plain": [
       "(div { className=\"field interact-widget\" }\n",
       "    (button { attributes=Dict{Any, Any}(\"data-bind\" => \"click: function (){this.clicks(this.clicks()+1)}, css: {'is-loading' : loading}\") className=\"is-medium button is-primary\" style=Dict{String, Any}() }\n",
       "    \"Press me!\"))"
      ]
     },
     "metadata": {
      "@webio": {
       "kernelId": "c0cd5d2e-4a44-4af1-aba4-33c2c5a3555d"
      }
     },
     "output_type": "display_data"
    }
   ],
   "source": [
    "display(ui)"
   ]
  },
  {
   "cell_type": "code",
   "execution_count": 211,
   "id": "48c65af7-047d-4dd6-92d1-60f62c3b8aff",
   "metadata": {
    "tags": []
   },
   "outputs": [],
   "source": [
    "u0 = Float64[0,0,0,0,0]\n",
    "p0 = T.Params(P=10.0, I=0.0, D=0.0, k = 0.0)\n",
    "tspan = (0.0, 10.0)\n",
    "prob = ODEProblem(T.dynamics, u0, tspan, p0)\n",
    "sol = solve(prob, Tsit5(), callback = T.callback)\n",
    ";"
   ]
  },
  {
   "cell_type": "code",
   "execution_count": 212,
   "id": "a782e275-2f64-482e-aa31-bf78e7a0b934",
   "metadata": {
    "tags": []
   },
   "outputs": [
    {
     "data": {
      "image/png": "[encoded data removed]"
     },
     "metadata": {},
     "output_type": "display_data"
    },
    {
     "data": {
      "text/plain": [
       "RObject{VecSxp}\n"
      ]
     },
     "execution_count": 212,
     "metadata": {},
     "output_type": "execute_result"
    }
   ],
   "source": [
    "t = range(tspan..., length=1024)\n",
    "R\"\n",
    "data.frame(\n",
    "    t = $t,\n",
    "    $(reduce(hcat, sol(t).u)')\n",
    ") %>%\n",
    "ggplot() +\n",
    "    geom_path(aes(t, X4)) +\n",
    "    scale_x_continuous(breaks = seq(0,10)) +\n",
    "    scale_y_continuous(breaks = seq(0,1,by=.1))\n",
    "\""
   ]
  },
  {
   "cell_type": "code",
   "execution_count": 78,
   "id": "49707f06-480b-48e5-987b-e46ea0fee3f1",
   "metadata": {},
   "outputs": [
    {
     "data": {
      "image/png": "[encoded data removed]"
     },
     "metadata": {},
     "output_type": "display_data"
    },
    {
     "data": {
      "text/plain": [
       "RObject{VecSxp}\n"
      ]
     },
     "execution_count": 78,
     "metadata": {},
     "output_type": "execute_result"
    }
   ],
   "source": [
    "t = range(0,10,length=1024)\n",
    "\n",
    "R\"\n",
    "data.frame(\n",
    "    t = $t,\n",
    "    $(reduce(hcat, sol(t).u)')\n",
    ") %>%\n",
    "ggplot() +\n",
    "    geom_path(aes(t,X1)) +\n",
    "    scale_x_continuous(breaks = 0:10)\n",
    "\""
   ]
  },
  {
   "cell_type": "code",
   "execution_count": 3,
   "id": "7c75a561-3d9a-485f-96a8-fa75e63f7c09",
   "metadata": {},
   "outputs": [
    {
     "data": {
      "text/plain": [
       "#5 (generic function with 1 method)"
      ]
     },
     "execution_count": 3,
     "metadata": {},
     "output_type": "execute_result"
    }
   ],
   "source": [
    "dynamics = (du,u,p,t) -> begin\n",
    "    m,c,k,F = p\n",
    "    du[1] = u[2]\n",
    "    du[2] = (F - c*u[2] - k*u[1])/m\n",
    "end\n",
    "\n",
    "condition = (out,u,t,int) -> begin\n",
    "    out[1] = u[1]\n",
    "    out[2] = u[3] * (u[3] - 2)\n",
    "end\n",
    "\n",
    "affect! = (int,idx) -> begin     \n",
    "    @match idx begin\n",
    "        1 => begin\n",
    "            int.u[2] *= -.9\n",
    "        end\n",
    "        2 => begin\n",
    "            int.u[4] *= -.9\n",
    "        end\n",
    "    end\n",
    "end"
   ]
  },
  {
   "cell_type": "code",
   "execution_count": 62,
   "id": "e5833b51-9b60-42f9-bc02-0a4a193e55f3",
   "metadata": {},
   "outputs": [
    {
     "data": {
      "text/plain": [
       "1"
      ]
     },
     "execution_count": 62,
     "metadata": {},
     "output_type": "execute_result"
    }
   ],
   "source": [
    "T = 10.0\n",
    "\n",
    "prob = ODEProblem(dynamics, [0.0, 0.0, 0.0], (0.0, T), (1.0, 8.8, 40.0, 10.0))\n",
    "sol = solve(\n",
    "    prob,\n",
    "    Tsit5(),\n",
    "    # callback = VectorContinuousCallback(condition, affect!, 2)\n",
    ")\n",
    ";1"
   ]
  },
  {
   "cell_type": "code",
   "execution_count": 63,
   "id": "deb8565a-6fd3-476e-ae04-7935e14ae012",
   "metadata": {},
   "outputs": [
    {
     "data": {
      "image/png": "[encoded data removed]"
     },
     "metadata": {},
     "output_type": "display_data"
    },
    {
     "data": {
      "text/plain": [
       "RObject{VecSxp}\n"
      ]
     },
     "execution_count": 63,
     "metadata": {},
     "output_type": "execute_result"
    }
   ],
   "source": [
    "t = range(0,T,length=1024)\n",
    "R\"\n",
    "data.frame(\n",
    "    t=$t,\n",
    "    $(reduce(hcat, sol(t).u)')    \n",
    ") %>%\n",
    "ggplot() +\n",
    "    geom_path(aes(t,X1))\n",
    "\""
   ]
  },
  {
   "cell_type": "code",
   "execution_count": 4,
   "id": "27164d97-85d1-493e-a319-f487d42eb2a5",
   "metadata": {},
   "outputs": [
    {
     "data": {
      "text/latex": [
       "\\begin{verbatim}\n",
       "@enum EnumName[::BaseType] value1[=x] value2[=y]\n",
       "\\end{verbatim}\n",
       "Create an \\texttt{Enum\\{BaseType\\}} subtype with name \\texttt{EnumName} and enum member values of \\texttt{value1} and \\texttt{value2} with optional assigned values of \\texttt{x} and \\texttt{y}, respectively. \\texttt{EnumName} can be used just like other types and enum member values as regular values, such as\n",
       "\n",
       "\\section{Examples}\n",
       "\\begin{verbatim}\n",
       "julia> @enum Fruit apple=1 orange=2 kiwi=3\n",
       "\n",
       "julia> f(x::Fruit) = \"I'm a Fruit with value: $(Int(x))\"\n",
       "f (generic function with 1 method)\n",
       "\n",
       "julia> f(apple)\n",
       "\"I'm a Fruit with value: 1\"\n",
       "\n",
       "julia> Fruit(1)\n",
       "apple::Fruit = 1\n",
       "\\end{verbatim}\n",
       "Values can also be specified inside a \\texttt{begin} block, e.g.\n",
       "\n",
       "\\begin{verbatim}\n",
       "@enum EnumName begin\n",
       "    value1\n",
       "    value2\n",
       "end\n",
       "\\end{verbatim}\n",
       "\\texttt{BaseType}, which defaults to \\href{@ref}{\\texttt{Int32}}, must be a primitive subtype of \\texttt{Integer}. Member values can be converted between the enum type and \\texttt{BaseType}. \\texttt{read} and \\texttt{write} perform these conversions automatically. In case the enum is created with a non-default \\texttt{BaseType}, \\texttt{Integer(value1)} will return the integer \\texttt{value1} with the type \\texttt{BaseType}.\n",
       "\n",
       "To list all the instances of an enum use \\texttt{instances}, e.g.\n",
       "\n",
       "\\begin{verbatim}\n",
       "julia> instances(Fruit)\n",
       "(apple, orange, kiwi)\n",
       "\\end{verbatim}\n"
      ],
      "text/markdown": [
       "```\n",
       "@enum EnumName[::BaseType] value1[=x] value2[=y]\n",
       "```\n",
       "\n",
       "Create an `Enum{BaseType}` subtype with name `EnumName` and enum member values of `value1` and `value2` with optional assigned values of `x` and `y`, respectively. `EnumName` can be used just like other types and enum member values as regular values, such as\n",
       "\n",
       "# Examples\n",
       "\n",
       "```jldoctest fruitenum\n",
       "julia> @enum Fruit apple=1 orange=2 kiwi=3\n",
       "\n",
       "julia> f(x::Fruit) = \"I'm a Fruit with value: $(Int(x))\"\n",
       "f (generic function with 1 method)\n",
       "\n",
       "julia> f(apple)\n",
       "\"I'm a Fruit with value: 1\"\n",
       "\n",
       "julia> Fruit(1)\n",
       "apple::Fruit = 1\n",
       "```\n",
       "\n",
       "Values can also be specified inside a `begin` block, e.g.\n",
       "\n",
       "```julia\n",
       "@enum EnumName begin\n",
       "    value1\n",
       "    value2\n",
       "end\n",
       "```\n",
       "\n",
       "`BaseType`, which defaults to [`Int32`](@ref), must be a primitive subtype of `Integer`. Member values can be converted between the enum type and `BaseType`. `read` and `write` perform these conversions automatically. In case the enum is created with a non-default `BaseType`, `Integer(value1)` will return the integer `value1` with the type `BaseType`.\n",
       "\n",
       "To list all the instances of an enum use `instances`, e.g.\n",
       "\n",
       "```jldoctest fruitenum\n",
       "julia> instances(Fruit)\n",
       "(apple, orange, kiwi)\n",
       "```\n"
      ],
      "text/plain": [
       "\u001b[36m  @enum EnumName[::BaseType] value1[=x] value2[=y]\u001b[39m\n",
       "\n",
       "  Create an \u001b[36mEnum{BaseType}\u001b[39m subtype with name \u001b[36mEnumName\u001b[39m and enum member values\n",
       "  of \u001b[36mvalue1\u001b[39m and \u001b[36mvalue2\u001b[39m with optional assigned values of \u001b[36mx\u001b[39m and \u001b[36my\u001b[39m, respectively.\n",
       "  \u001b[36mEnumName\u001b[39m can be used just like other types and enum member values as regular\n",
       "  values, such as\n",
       "\n",
       "\u001b[1m  Examples\u001b[22m\n",
       "\u001b[1m  ≡≡≡≡≡≡≡≡≡≡\u001b[22m\n",
       "\n",
       "\u001b[36m  julia> @enum Fruit apple=1 orange=2 kiwi=3\u001b[39m\n",
       "\u001b[36m  \u001b[39m\n",
       "\u001b[36m  julia> f(x::Fruit) = \"I'm a Fruit with value: $(Int(x))\"\u001b[39m\n",
       "\u001b[36m  f (generic function with 1 method)\u001b[39m\n",
       "\u001b[36m  \u001b[39m\n",
       "\u001b[36m  julia> f(apple)\u001b[39m\n",
       "\u001b[36m  \"I'm a Fruit with value: 1\"\u001b[39m\n",
       "\u001b[36m  \u001b[39m\n",
       "\u001b[36m  julia> Fruit(1)\u001b[39m\n",
       "\u001b[36m  apple::Fruit = 1\u001b[39m\n",
       "\n",
       "  Values can also be specified inside a \u001b[36mbegin\u001b[39m block, e.g.\n",
       "\n",
       "\u001b[36m  @enum EnumName begin\u001b[39m\n",
       "\u001b[36m      value1\u001b[39m\n",
       "\u001b[36m      value2\u001b[39m\n",
       "\u001b[36m  end\u001b[39m\n",
       "\n",
       "  \u001b[36mBaseType\u001b[39m, which defaults to \u001b[36mInt32\u001b[39m, must be a primitive subtype of \u001b[36mInteger\u001b[39m.\n",
       "  Member values can be converted between the enum type and \u001b[36mBaseType\u001b[39m. \u001b[36mread\u001b[39m and\n",
       "  \u001b[36mwrite\u001b[39m perform these conversions automatically. In case the enum is created\n",
       "  with a non-default \u001b[36mBaseType\u001b[39m, \u001b[36mInteger(value1)\u001b[39m will return the integer \u001b[36mvalue1\u001b[39m\n",
       "  with the type \u001b[36mBaseType\u001b[39m.\n",
       "\n",
       "  To list all the instances of an enum use \u001b[36minstances\u001b[39m, e.g.\n",
       "\n",
       "\u001b[36m  julia> instances(Fruit)\u001b[39m\n",
       "\u001b[36m  (apple, orange, kiwi)\u001b[39m"
      ]
     },
     "execution_count": 4,
     "metadata": {},
     "output_type": "execute_result"
    }
   ],
   "source": [
    "@enum State STOPPED MOVING"
   ]
  }
 ],
 "metadata": {
  "@webio": {
   "lastCommId": "a3f77c5a-76d9-4b46-8d88-a8c3a3f11e34",
   "lastKernelId": "c0cd5d2e-4a44-4af1-aba4-33c2c5a3555d"
  },
  "kernelspec": {
   "display_name": "Julia 1.8.5",
   "language": "julia",
   "name": "julia-1.8"
  },
  "language_info": {
   "file_extension": ".jl",
   "mimetype": "application/julia",
   "name": "julia",
   "version": "1.8.5"
  }
 },
 "nbformat": 4,
 "nbformat_minor": 5
}
