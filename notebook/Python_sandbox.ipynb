{
 "cells": [
  {
   "cell_type": "code",
   "execution_count": 1,
   "id": "098936ac-008c-41b6-a315-cd3056423453",
   "metadata": {},
   "outputs": [
    {
     "ename": "ModuleNotFoundError",
     "evalue": "No module named 'sympy'",
     "output_type": "error",
     "traceback": [
      "\u001b[0;31m---------------------------------------------------------------------------\u001b[0m",
      "\u001b[0;31mModuleNotFoundError\u001b[0m                       Traceback (most recent call last)",
      "Cell \u001b[0;32mIn [1], line 12\u001b[0m\n\u001b[1;32m     10\u001b[0m \u001b[38;5;28;01mimport\u001b[39;00m \u001b[38;5;21;01mpolars\u001b[39;00m \u001b[38;5;28;01mas\u001b[39;00m \u001b[38;5;21;01mpl\u001b[39;00m\n\u001b[1;32m     11\u001b[0m \u001b[38;5;28;01mimport\u001b[39;00m \u001b[38;5;21;01mrequests\u001b[39;00m \u001b[38;5;28;01mas\u001b[39;00m \u001b[38;5;21;01mrq\u001b[39;00m\n\u001b[0;32m---> 12\u001b[0m \u001b[38;5;28;01mimport\u001b[39;00m \u001b[38;5;21;01msympy\u001b[39;00m \u001b[38;5;28;01mas\u001b[39;00m \u001b[38;5;21;01msp\u001b[39;00m\n",
      "\u001b[0;31mModuleNotFoundError\u001b[0m: No module named 'sympy'"
     ]
    }
   ],
   "source": [
    "import datetime as dt\n",
    "import io\n",
    "\n",
    "# from imurl import URL\n",
    "import json\n",
    "\n",
    "import matplotlib.pyplot as plt\n",
    "import numpy as np\n",
    "import pandas as pd\n",
    "import polars as pl\n",
    "import requests as rq\n",
    "import sympy as sp"
   ]
  },
  {
   "cell_type": "code",
   "execution_count": 1,
   "id": "d50663eb-aa3b-4e5d-b41a-033b1e809d79",
   "metadata": {},
   "outputs": [],
   "source": [
    "from sympy import *"
   ]
  },
  {
   "cell_type": "code",
   "execution_count": 11,
   "id": "7a1c4522-12a0-4b93-9ae8-73c6d932c8bd",
   "metadata": {},
   "outputs": [
    {
     "data": {
      "text/latex": [
       "$\\displaystyle \\sqrt{1 - y^{2}}$"
      ],
      "text/plain": [
       "sqrt(1 - y**2)"
      ]
     },
     "execution_count": 11,
     "metadata": {},
     "output_type": "execute_result"
    }
   ],
   "source": [
    "x,y = symbols('x,y', positive=True)\n",
    "z = x**2 + y**2\n",
    "solve(Eq(z, 1), x)[0]"
   ]
  },
  {
   "cell_type": "code",
   "execution_count": null,
   "id": "ff41c001-5f88-4c64-9a03-470258c30585",
   "metadata": {},
   "outputs": [],
   "source": []
  },
  {
   "cell_type": "code",
   "execution_count": 256,
   "id": "cab86106-5335-47a0-ace5-14ae9f800104",
   "metadata": {},
   "outputs": [],
   "source": [
    "e,a1,a2 = symbols('e,a1,a2')"
   ]
  },
  {
   "cell_type": "code",
   "execution_count": 258,
   "id": "d5ec92ea-1c3c-4502-bb10-b60fa5cca5ad",
   "metadata": {},
   "outputs": [
    {
     "data": {
      "text/latex": [
       "$\\displaystyle a_{1} e + a_{2} e^{2} + 1$"
      ],
      "text/plain": [
       "a1*e + a2*e**2 + 1"
      ]
     },
     "execution_count": 258,
     "metadata": {},
     "output_type": "execute_result"
    }
   ],
   "source": [
    "x = 1 + a1*e + a2*e**2\n",
    "x"
   ]
  },
  {
   "cell_type": "code",
   "execution_count": 270,
   "id": "4bd33121-6678-40c3-a3ab-164542c12b03",
   "metadata": {},
   "outputs": [
    {
     "data": {
      "text/latex": [
       "$\\displaystyle a_{1} e + a_{2} e^{2} + 5 e \\left(a_{1} e + a_{2} e^{2} + 1\\right)$"
      ],
      "text/plain": [
       "a1*e + a2*e**2 + 5*e*(a1*e + a2*e**2 + 1)"
      ]
     },
     "execution_count": 270,
     "metadata": {},
     "output_type": "execute_result"
    }
   ],
   "source": [
    "eq = e*x*5 + x - 1\n",
    "eq"
   ]
  },
  {
   "cell_type": "code",
   "execution_count": 271,
   "id": "bbdf5c10-7457-4b78-9406-ca206717df0f",
   "metadata": {},
   "outputs": [
    {
     "data": {
      "text/plain": [
       "{a1: -5, a2: 25}"
      ]
     },
     "execution_count": 271,
     "metadata": {},
     "output_type": "execute_result"
    }
   ],
   "source": [
    "solve([ Eq(0, expand(eq).coeff(e**i)) for i in range(1,3) ])"
   ]
  },
  {
   "cell_type": "code",
   "execution_count": 272,
   "id": "be204716-a328-489e-a955-d95e86c04c0e",
   "metadata": {},
   "outputs": [
    {
     "data": {
      "text/latex": [
       "$\\displaystyle x^{5} + x = 1$"
      ],
      "text/plain": [
       "Eq(x**5 + x, 1)"
      ]
     },
     "execution_count": 272,
     "metadata": {},
     "output_type": "execute_result"
    }
   ],
   "source": [
    "x = symbols('x', positive=True)\n",
    "eq = Eq(x**5 + x, 1)\n",
    "eq"
   ]
  },
  {
   "cell_type": "code",
   "execution_count": 282,
   "id": "577390cc-3a2d-43da-9bdc-094bf38a124b",
   "metadata": {},
   "outputs": [],
   "source": [
    "e,a0,a1,a2 = symbols('e,a0,a1,a2')\n",
    "x = a0 + a1*e + a2*e**2\n",
    "eq = x**5 + e*x - 1"
   ]
  },
  {
   "cell_type": "code",
   "execution_count": 299,
   "id": "16188f9a-b9c0-4a81-84b9-a0f2c5a87a3a",
   "metadata": {},
   "outputs": [
    {
     "data": {
      "text/latex": [
       "$\\displaystyle \\left[\\begin{matrix}0 = a_{0}^{5} - 1 & 0 = 5 a_{0}^{4} a_{1} + a_{0} & 0 = 5 a_{0}^{4} a_{2} + 10 a_{0}^{3} a_{1}^{2} + a_{1}\\end{matrix}\\right]$"
      ],
      "text/plain": [
       "[Eq(0, a0**5 - 1), Eq(0, 5*a0**4*a1 + a0), Eq(0, 5*a0**4*a2 + 10*a0**3*a1**2 + a1)]"
      ]
     },
     "execution_count": 299,
     "metadata": {},
     "output_type": "execute_result"
    }
   ],
   "source": [
    "sys = Array([\n",
    "    Eq(0, eq.subs(e,0)),\n",
    "    *[ Eq(0, expand(eq).coeff(e**i)) for i in range(1,3) ]\n",
    "])\n",
    "sys  "
   ]
  },
  {
   "cell_type": "code",
   "execution_count": 311,
   "id": "24ded0c8-74a7-4031-aeed-e936e6036c24",
   "metadata": {},
   "outputs": [
    {
     "data": {
      "text/latex": [
       "$\\displaystyle \\left[\\begin{matrix}0 = - J S β + R μ & 0 = - I γ + J S β & 0 = - A γ + J R β ϵ & 0 = A γ + I γ - J R β ϵ - R μ\\end{matrix}\\right]$"
      ],
      "text/plain": [
       "[Eq(0, -J*S*β + R*μ), Eq(0, -I*γ + J*S*β), Eq(0, -A*γ + J*R*β*ϵ), Eq(0, A*γ + I*γ - J*R*β*ϵ - R*μ)]"
      ]
     },
     "execution_count": 311,
     "metadata": {},
     "output_type": "execute_result"
    }
   ],
   "source": [
    "S,I,A,R,b,g,m,e,eps,J = symbols('S,I,A,R,β,γ,μ,η,ϵ,J', positive=True)\n",
    "\n",
    "sys = Array([\n",
    "    Eq(0, m*R - b*S*J),\n",
    "    Eq(0, b*S*J - g*I),\n",
    "    Eq(0, eps*b*R*J - g*A),\n",
    "    Eq(0, g*I-m*R + g*A-eps*b*R*J)\n",
    "])\n",
    "sys"
   ]
  },
  {
   "cell_type": "code",
   "execution_count": 335,
   "id": "bbe4e719-b18e-451b-be83-5124f5662202",
   "metadata": {},
   "outputs": [
    {
     "data": {
      "text/latex": [
       "$\\displaystyle \\left[\\begin{matrix}0 = R μ - S β \\left(A η + i_{0} + i_{1} ϵ + i_{2} ϵ^{2}\\right) & 0 = S β \\left(A η + i_{0} + i_{1} ϵ + i_{2} ϵ^{2}\\right) - γ \\left(i_{0} + i_{1} ϵ + i_{2} ϵ^{2}\\right) & 0 = - A γ + R β ϵ \\left(A η + i_{0} + i_{1} ϵ + i_{2} ϵ^{2}\\right) & 0 = A γ - R β ϵ \\left(A η + i_{0} + i_{1} ϵ + i_{2} ϵ^{2}\\right) - R μ + γ \\left(i_{0} + i_{1} ϵ + i_{2} ϵ^{2}\\right)\\end{matrix}\\right]$"
      ],
      "text/plain": [
       "[Eq(0, R*μ - S*β*(A*η + i0 + i1*ϵ + i2*ϵ**2)), Eq(0, S*β*(A*η + i0 + i1*ϵ + i2*ϵ**2) - γ*(i0 + i1*ϵ + i2*ϵ**2)), Eq(0, -A*γ + R*β*ϵ*(A*η + i0 + i1*ϵ + i2*ϵ**2)), Eq(0, A*γ - R*β*ϵ*(A*η + i0 + i1*ϵ + i2*ϵ**2) - R*μ + γ*(i0 + i1*ϵ + i2*ϵ**2))]"
      ]
     },
     "execution_count": 335,
     "metadata": {},
     "output_type": "execute_result"
    }
   ],
   "source": [
    "i0,i1,i2 = symbols('i0,i1,i2')\n",
    "\n",
    "sys2 = sys.subs(J, I+e*A).subs(I, i0 + i1*eps + i2*eps**2)\n",
    "sys2"
   ]
  },
  {
   "cell_type": "code",
   "execution_count": null,
   "id": "c6b98605-400e-4334-99f2-adc991d67899",
   "metadata": {},
   "outputs": [],
   "source": []
  },
  {
   "cell_type": "code",
   "execution_count": null,
   "id": "55873280-1b65-4ddd-9ffa-f6d70dfacaf1",
   "metadata": {},
   "outputs": [],
   "source": []
  },
  {
   "cell_type": "code",
   "execution_count": null,
   "id": "a68ae134-ee07-4c29-9c7e-c4d95b83478c",
   "metadata": {},
   "outputs": [],
   "source": []
  },
  {
   "cell_type": "code",
   "execution_count": 12,
   "id": "4676bd4d-5073-4209-87ae-bfa13a88b1d5",
   "metadata": {},
   "outputs": [],
   "source": [
    "A,B,C,a,b1,b2,c = symbols('A,B,C,a,b1,b2,c')"
   ]
  },
  {
   "cell_type": "code",
   "execution_count": 32,
   "id": "12199cb6-8dc0-4745-8a45-cee1b05384c5",
   "metadata": {},
   "outputs": [],
   "source": [
    "sol = solve([\n",
    "    Eq(A/a, B/b1),\n",
    "    Eq(B*(1/b1+1/b2), A/a + C/c),\n",
    "    Eq(C/c, B/b2),\n",
    "    Eq(A+B+C, 1)\n",
    "], [A,B,C])"
   ]
  },
  {
   "cell_type": "code",
   "execution_count": 33,
   "id": "2eaab904-cfdb-4d85-ba2b-85f3acdf70fb",
   "metadata": {},
   "outputs": [
    {
     "data": {
      "text/latex": [
       "$\\displaystyle A = \\frac{a b_{2}}{a b_{2} + b_{1} b_{2} + b_{1} c}$"
      ],
      "text/plain": [
       "Eq(A, a*b2/(a*b2 + b1*b2 + b1*c))"
      ]
     },
     "execution_count": 33,
     "metadata": {},
     "output_type": "execute_result"
    }
   ],
   "source": [
    "Eq(A, sol[A])"
   ]
  },
  {
   "cell_type": "code",
   "execution_count": 34,
   "id": "b6a7a860-1d30-4fba-a39f-ca909eae8989",
   "metadata": {},
   "outputs": [
    {
     "data": {
      "text/latex": [
       "$\\displaystyle B = \\frac{b_{1} b_{2}}{a b_{2} + b_{1} b_{2} + b_{1} c}$"
      ],
      "text/plain": [
       "Eq(B, b1*b2/(a*b2 + b1*b2 + b1*c))"
      ]
     },
     "execution_count": 34,
     "metadata": {},
     "output_type": "execute_result"
    }
   ],
   "source": [
    "Eq(B, sol[B])"
   ]
  },
  {
   "cell_type": "code",
   "execution_count": 35,
   "id": "54d72820-9cfe-4a86-9f8f-25fbce0fc970",
   "metadata": {},
   "outputs": [
    {
     "data": {
      "text/latex": [
       "$\\displaystyle C = \\frac{b_{1} c}{a b_{2} + b_{1} b_{2} + b_{1} c}$"
      ],
      "text/plain": [
       "Eq(C, b1*c/(a*b2 + b1*b2 + b1*c))"
      ]
     },
     "execution_count": 35,
     "metadata": {},
     "output_type": "execute_result"
    }
   ],
   "source": [
    "Eq(C, sol[C])"
   ]
  },
  {
   "cell_type": "code",
   "execution_count": 25,
   "id": "0f0d3f3c-3444-4235-bb71-2742a5225528",
   "metadata": {},
   "outputs": [
    {
     "data": {
      "text/latex": [
       "$\\displaystyle \\frac{c \\left(b_{1} + b_{2}\\right)}{a c + a \\left(b_{1} + b_{2}\\right) + c \\left(b_{1} + b_{2}\\right)}$"
      ],
      "text/plain": [
       "c*(b1 + b2)/(a*c + a*(b1 + b2) + c*(b1 + b2))"
      ]
     },
     "execution_count": 25,
     "metadata": {},
     "output_type": "execute_result"
    }
   ],
   "source": [
    "simplify((1/a) / (1/a + 1/(b1+b2) + 1/c))"
   ]
  },
  {
   "cell_type": "code",
   "execution_count": null,
   "id": "45444edf-7597-493f-a593-32aa88ddc374",
   "metadata": {},
   "outputs": [],
   "source": []
  },
  {
   "cell_type": "code",
   "execution_count": null,
   "id": "9ad33dc3-0195-48bf-8519-05bb56618be3",
   "metadata": {},
   "outputs": [],
   "source": []
  },
  {
   "cell_type": "code",
   "execution_count": null,
   "id": "d3aa00e3-af2f-45c3-a1b8-fd72f5aeb705",
   "metadata": {},
   "outputs": [],
   "source": []
  },
  {
   "cell_type": "code",
   "execution_count": 87,
   "id": "f6bd27ae-e1ca-42e4-8da5-1f1dff7b73ca",
   "metadata": {},
   "outputs": [],
   "source": [
    "S,I,R,A,b,g,m,e,J,N = symbols('S,I,R,A,β,γ,m,η,J,N', positive=True)"
   ]
  },
  {
   "cell_type": "code",
   "execution_count": 88,
   "id": "582cf2a9-06fa-4eae-9eb3-1866cc852c29",
   "metadata": {},
   "outputs": [],
   "source": [
    "sol = solve([\n",
    "    Eq(S+I+R+A, 1),\n",
    "    Eq(m*R, b*S*J),\n",
    "    Eq(b*S*J, g*I),\n",
    "    Eq(b*R*J, g*A),\n",
    "    Eq(m*R+b*R*J, g*I+g*A),\n",
    "    # Eq(J, I+e*A)\n",
    "], [S,I,R,A])"
   ]
  },
  {
   "cell_type": "code",
   "execution_count": 95,
   "id": "bfe59dea-da34-45f5-be8f-ab5577e17679",
   "metadata": {},
   "outputs": [
    {
     "data": {
      "text/latex": [
       "$\\displaystyle \\left[\\begin{matrix}S = \\frac{m γ}{J^{2} β^{2} + J m β + J β γ + m γ}\\\\I = \\frac{J m β}{J^{2} β^{2} + J m β + J β γ + m γ}\\\\R = \\frac{J β γ}{J^{2} β^{2} + J m β + J β γ + m γ}\\\\A = \\frac{J^{2} β^{2}}{J^{2} β^{2} + J m β + J β γ + m γ}\\end{matrix}\\right]$"
      ],
      "text/plain": [
       "[[Eq(S, m*γ/(J**2*β**2 + J*m*β + J*β*γ + m*γ))], [Eq(I, J*m*β/(J**2*β**2 + J*m*β + J*β*γ + m*γ))], [Eq(R, J*β*γ/(J**2*β**2 + J*m*β + J*β*γ + m*γ))], [Eq(A, J**2*β**2/(J**2*β**2 + J*m*β + J*β*γ + m*γ))]]"
      ]
     },
     "execution_count": 95,
     "metadata": {},
     "output_type": "execute_result"
    }
   ],
   "source": [
    "sols = Array([ [Eq(f, sol[f])] for f in [S,I,R,A] ])\n",
    "sols"
   ]
  },
  {
   "cell_type": "code",
   "execution_count": 147,
   "id": "c8c5e8b3-6402-4466-8fc0-433d335795d1",
   "metadata": {},
   "outputs": [
    {
     "data": {
      "text/latex": [
       "$\\displaystyle \\left[\\begin{matrix}S = \\frac{m γ}{K{\\left(β \\right)}}\\\\I = \\frac{J m β}{K{\\left(β \\right)}}\\\\R = \\frac{J β γ}{K{\\left(β \\right)}}\\\\A = \\frac{J^{2} β^{2}}{K{\\left(β \\right)}}\\end{matrix}\\right]$"
      ],
      "text/plain": [
       "[[Eq(S, m*γ/K(β))], [Eq(I, J*m*β/K(β))], [Eq(R, J*β*γ/K(β))], [Eq(A, J**2*β**2/K(β))]]"
      ]
     },
     "execution_count": 147,
     "metadata": {},
     "output_type": "execute_result"
    }
   ],
   "source": [
    "K = Function('K')(b)\n",
    "newsols = sols.subs(fraction(sols[0][0].rhs)[1], K)\n",
    "newsols"
   ]
  },
  {
   "cell_type": "code",
   "execution_count": 153,
   "id": "1814c965-612b-4a1d-aad2-a44d1f8459a1",
   "metadata": {},
   "outputs": [
    {
     "data": {
      "text/latex": [
       "$\\displaystyle \\left[\\begin{matrix}\\frac{d}{d β} S{\\left(β \\right)} = - \\frac{m γ \\frac{d}{d β} K{\\left(β \\right)}}{K^{2}{\\left(β \\right)}}\\\\\\frac{d}{d β} I{\\left(β \\right)} = - \\frac{J m β \\frac{d}{d β} K{\\left(β \\right)}}{K^{2}{\\left(β \\right)}} + \\frac{J m}{K{\\left(β \\right)}}\\\\\\frac{d}{d β} R{\\left(β \\right)} = - \\frac{J β γ \\frac{d}{d β} K{\\left(β \\right)}}{K^{2}{\\left(β \\right)}} + \\frac{J γ}{K{\\left(β \\right)}}\\\\\\frac{d}{d β} A{\\left(β \\right)} = - \\frac{J^{2} β^{2} \\frac{d}{d β} K{\\left(β \\right)}}{K^{2}{\\left(β \\right)}} + \\frac{2 J^{2} β}{K{\\left(β \\right)}}\\end{matrix}\\right]$"
      ],
      "text/plain": [
       "[[Eq(Derivative(S(β), β), -m*γ*Derivative(K(β), β)/K(β)**2)], [Eq(Derivative(I(β), β), -J*m*β*Derivative(K(β), β)/K(β)**2 + J*m/K(β))], [Eq(Derivative(R(β), β), -J*β*γ*Derivative(K(β), β)/K(β)**2 + J*γ/K(β))], [Eq(Derivative(A(β), β), -J**2*β**2*Derivative(K(β), β)/K(β)**2 + 2*J**2*β/K(β))]]"
      ]
     },
     "execution_count": 153,
     "metadata": {},
     "output_type": "execute_result"
    }
   ],
   "source": [
    "Dnewsols = Array([\n",
    "    [ Eq(Derivative(Function(f.lhs)(b), b), Derivative(f.rhs, b).doit()) ]\n",
    "    for [f] in newsols\n",
    "])\n",
    "Dnewsols"
   ]
  },
  {
   "cell_type": "code",
   "execution_count": 155,
   "id": "bb1099f4-d0f6-4419-9387-9c71daed2e62",
   "metadata": {},
   "outputs": [
    {
     "data": {
      "text/latex": [
       "$\\displaystyle \\left[\\begin{matrix}\\frac{d}{d β} S{\\left(β \\right)} = - \\frac{m γ \\left(2 J^{2} β + J m + J γ\\right)}{\\left(J^{2} β^{2} + J m β + J β γ + m γ\\right)^{2}}\\\\\\frac{d}{d β} I{\\left(β \\right)} = - \\frac{J m β \\left(2 J^{2} β + J m + J γ\\right)}{\\left(J^{2} β^{2} + J m β + J β γ + m γ\\right)^{2}} + \\frac{J m}{J^{2} β^{2} + J m β + J β γ + m γ}\\\\\\frac{d}{d β} R{\\left(β \\right)} = - \\frac{J β γ \\left(2 J^{2} β + J m + J γ\\right)}{\\left(J^{2} β^{2} + J m β + J β γ + m γ\\right)^{2}} + \\frac{J γ}{J^{2} β^{2} + J m β + J β γ + m γ}\\\\\\frac{d}{d β} A{\\left(β \\right)} = - \\frac{J^{2} β^{2} \\cdot \\left(2 J^{2} β + J m + J γ\\right)}{\\left(J^{2} β^{2} + J m β + J β γ + m γ\\right)^{2}} + \\frac{2 J^{2} β}{J^{2} β^{2} + J m β + J β γ + m γ}\\end{matrix}\\right]$"
      ],
      "text/plain": [
       "[[Eq(Derivative(S(β), β), -m*γ*(2*J**2*β + J*m + J*γ)/(J**2*β**2 + J*m*β + J*β*γ + m*γ)**2)], [Eq(Derivative(I(β), β), -J*m*β*(2*J**2*β + J*m + J*γ)/(J**2*β**2 + J*m*β + J*β*γ + m*γ)**2 + J*m/(J**2*β**2 + J*m*β + J*β*γ + m*γ))], [Eq(Derivative(R(β), β), -J*β*γ*(2*J**2*β + J*m + J*γ)/(J**2*β**2 + J*m*β + J*β*γ + m*γ)**2 + J*γ/(J**2*β**2 + J*m*β + J*β*γ + m*γ))], [Eq(Derivative(A(β), β), -J**2*β**2*(2*J**2*β + J*m + J*γ)/(J**2*β**2 + J*m*β + J*β*γ + m*γ)**2 + 2*J**2*β/(J**2*β**2 + J*m*β + J*β*γ + m*γ))]]"
      ]
     },
     "execution_count": 155,
     "metadata": {},
     "output_type": "execute_result"
    }
   ],
   "source": [
    "Dnewsols.subs(K, fraction(sols[0][0].rhs)[1]).doit()"
   ]
  },
  {
   "cell_type": "code",
   "execution_count": 177,
   "id": "a566bd6d-0918-449f-a8fc-43bb19911375",
   "metadata": {},
   "outputs": [
    {
     "data": {
      "text/latex": [
       "$\\displaystyle S = \\frac{m γ}{J^{2} β^{2} + J m β + J β γ + m γ}$"
      ],
      "text/plain": [
       "Eq(S, m*γ/(J**2*β**2 + J*m*β + J*β*γ + m*γ))"
      ]
     },
     "execution_count": 177,
     "metadata": {},
     "output_type": "execute_result"
    }
   ],
   "source": [
    "[eqS], [eqI], *_ = sols\n",
    "eqS"
   ]
  },
  {
   "cell_type": "code",
   "execution_count": 178,
   "id": "eda16040-a14c-45fb-84d4-c513f9a37d3c",
   "metadata": {},
   "outputs": [
    {
     "data": {
      "text/latex": [
       "$\\displaystyle I = \\frac{J m β}{J^{2} β^{2} + J m β + J β γ + m γ}$"
      ],
      "text/plain": [
       "Eq(I, J*m*β/(J**2*β**2 + J*m*β + J*β*γ + m*γ))"
      ]
     },
     "execution_count": 178,
     "metadata": {},
     "output_type": "execute_result"
    }
   ],
   "source": [
    "eqI"
   ]
  },
  {
   "cell_type": "code",
   "execution_count": 180,
   "id": "125ef7bd-ec13-4e79-9e61-fe4915f66d5f",
   "metadata": {},
   "outputs": [
    {
     "data": {
      "text/latex": [
       "$\\displaystyle \\frac{J m^{2} β^{2} γ}{\\left(J^{2} β^{2} + J m β + J β γ + m γ\\right)^{2}}$"
      ],
      "text/plain": [
       "J*m**2*β**2*γ/(J**2*β**2 + J*m*β + J*β*γ + m*γ)**2"
      ]
     },
     "execution_count": 180,
     "metadata": {},
     "output_type": "execute_result"
    }
   ],
   "source": [
    "I_new = b*eqS.rhs*eqI.rhs\n",
    "I_new"
   ]
  },
  {
   "cell_type": "code",
   "execution_count": 182,
   "id": "b72e463e-b841-489c-81ee-a2fa4a06aeec",
   "metadata": {},
   "outputs": [
    {
     "data": {
      "text/latex": [
       "$\\displaystyle \\frac{\\sqrt{m} \\sqrt{γ}}{J}$"
      ],
      "text/plain": [
       "sqrt(m)*sqrt(γ)/J"
      ]
     },
     "execution_count": 182,
     "metadata": {},
     "output_type": "execute_result"
    }
   ],
   "source": [
    "solve(Eq(0, Derivative(I_new, b)).doit(), b)[0]"
   ]
  },
  {
   "cell_type": "code",
   "execution_count": 136,
   "id": "c9fb5f6e-a3e2-4783-a41e-6a1111b5df64",
   "metadata": {},
   "outputs": [
    {
     "data": {
      "text/latex": [
       "$\\displaystyle \\frac{J m β \\left(- 2 J^{2} β - J m - J γ\\right)}{\\left(J^{2} β^{2} + J m β + J β γ + m γ\\right)^{2}} + \\frac{J m}{J^{2} β^{2} + J m β + J β γ + m γ}$"
      ],
      "text/plain": [
       "J*m*β*(-2*J**2*β - J*m - J*γ)/(J**2*β**2 + J*m*β + J*β*γ + m*γ)**2 + J*m/(J**2*β**2 + J*m*β + J*β*γ + m*γ)"
      ]
     },
     "execution_count": 136,
     "metadata": {},
     "output_type": "execute_result"
    }
   ],
   "source": [
    "Eq(\n",
    "    Derivative(sols[1]\n",
    "    Derivative(sols[1][0].rhs, b).doit()\n",
    ")"
   ]
  },
  {
   "cell_type": "code",
   "execution_count": 127,
   "id": "fe920d13-ae3b-4ff7-b039-5bb3b7fff2a5",
   "metadata": {},
   "outputs": [
    {
     "data": {
      "text/latex": [
       "$\\displaystyle \\left[\\begin{matrix}S = \\frac{m γ}{J^{2} R_{0}^{2} γ^{2} + J R_{0} m γ + J R_{0} γ^{2} + m γ}\\\\I = \\frac{J R_{0} m γ}{J^{2} R_{0}^{2} γ^{2} + J R_{0} m γ + J R_{0} γ^{2} + m γ}\\\\R = \\frac{J R_{0} γ^{2}}{J^{2} R_{0}^{2} γ^{2} + J R_{0} m γ + J R_{0} γ^{2} + m γ}\\\\A = \\frac{J^{2} R_{0}^{2} γ^{2}}{J^{2} R_{0}^{2} γ^{2} + J R_{0} m γ + J R_{0} γ^{2} + m γ}\\end{matrix}\\right]$"
      ],
      "text/plain": [
       "[[Eq(S, m*γ/(J**2*R0**2*γ**2 + J*R0*m*γ + J*R0*γ**2 + m*γ))], [Eq(I, J*R0*m*γ/(J**2*R0**2*γ**2 + J*R0*m*γ + J*R0*γ**2 + m*γ))], [Eq(R, J*R0*γ**2/(J**2*R0**2*γ**2 + J*R0*m*γ + J*R0*γ**2 + m*γ))], [Eq(A, J**2*R0**2*γ**2/(J**2*R0**2*γ**2 + J*R0*m*γ + J*R0*γ**2 + m*γ))]]"
      ]
     },
     "execution_count": 127,
     "metadata": {},
     "output_type": "execute_result"
    }
   ],
   "source": [
    "R0 = symbols('R0', positive=True)\n",
    "sols\\\n",
    "    .subs(b, R0*g)"
   ]
  },
  {
   "cell_type": "code",
   "execution_count": null,
   "id": "13027872-4ee7-45a0-95c6-d981572bc57a",
   "metadata": {},
   "outputs": [],
   "source": []
  },
  {
   "cell_type": "code",
   "execution_count": 93,
   "id": "7dd999f2-9588-4ab1-9246-ada6ecbc0525",
   "metadata": {},
   "outputs": [],
   "source": [
    "K = symbols('K', positive=True)"
   ]
  },
  {
   "cell_type": "code",
   "execution_count": 94,
   "id": "f714a89e-58ef-4dfe-b21c-a948ac29ab02",
   "metadata": {},
   "outputs": [
    {
     "data": {
      "text/latex": [
       "$\\displaystyle \\left[\\begin{matrix}S = \\frac{m γ}{K}\\\\I = \\frac{A m β η}{K - m β}\\\\R = \\frac{β γ \\left(A η + I\\right)}{K}\\\\A = \\frac{- 2 I β^{2} η - \\sqrt{K} \\sqrt{- 4 I β^{2} η + K} + K}{2 β^{2} η^{2}}\\end{matrix}\\right]$"
      ],
      "text/plain": [
       "[[Eq(S, m*γ/K)], [Eq(I, A*m*β*η/(K - m*β))], [Eq(R, β*γ*(A*η + I)/K)], [Eq(A, (-2*I*β**2*η - sqrt(K)*sqrt(-4*I*β**2*η + K) + K)/(2*β**2*η**2))]]"
      ]
     },
     "execution_count": 94,
     "metadata": {},
     "output_type": "execute_result"
    }
   ],
   "source": [
    "Array([[Eq(f, solve(Eq(f, fraction(sol[f])[0]/K).subs(J, I+e*A), f)[0])] for f in [S,I,R,A]])"
   ]
  },
  {
   "cell_type": "code",
   "execution_count": null,
   "id": "642ac632-4024-44cc-9522-4af16da2b1e4",
   "metadata": {},
   "outputs": [],
   "source": []
  },
  {
   "cell_type": "code",
   "execution_count": null,
   "id": "149fc468-0833-4e48-8501-5f39a7f97a84",
   "metadata": {},
   "outputs": [],
   "source": []
  },
  {
   "cell_type": "code",
   "execution_count": null,
   "id": "2199c999-e430-4062-aff6-2e38acca82b2",
   "metadata": {},
   "outputs": [],
   "source": [
    "def bisect_left(arr, x):\n",
    "    l,r = 0, len(arr)\n",
    "    while r > l:\n",
    "        m = (l + r) >> 1\n",
    "        if x <= arr[m]:\n",
    "            r = m\n",
    "        else:\n",
    "            l = m + 1\n",
    "    return l"
   ]
  },
  {
   "cell_type": "code",
   "execution_count": null,
   "id": "f7fe3fe0-d5ff-4d5d-8c3b-d0565c82ff2c",
   "metadata": {},
   "outputs": [],
   "source": [
    "[(i, bisect_left(x, i)) for i in range(10)]"
   ]
  },
  {
   "cell_type": "code",
   "execution_count": null,
   "id": "cc0c1e52-2754-4f31-9bbb-30c771592f18",
   "metadata": {},
   "outputs": [],
   "source": [
    "def bisect_right(arr, x):\n",
    "    l, r = 0, len(arr)\n",
    "    while r > l:\n",
    "        m = (l + r) >> 1\n",
    "        if x < arr[m]:\n",
    "            r = m\n",
    "        else:\n",
    "            l = m + 1\n",
    "    return l"
   ]
  },
  {
   "cell_type": "code",
   "execution_count": null,
   "id": "96b7a302-d9c1-4dd1-9e08-f6f327822e4d",
   "metadata": {},
   "outputs": [],
   "source": [
    "import random"
   ]
  },
  {
   "cell_type": "code",
   "execution_count": null,
   "id": "51818c03-d6db-4690-8985-158232ac8fd0",
   "metadata": {},
   "outputs": [],
   "source": [
    "import numpy as np"
   ]
  },
  {
   "cell_type": "code",
   "execution_count": null,
   "id": "8e6742b7-cba1-48a9-acda-720bb119a82f",
   "metadata": {},
   "outputs": [],
   "source": [
    "x = np.random.randint(low=0, high=10, size=100).tolist()\n",
    "x.sort()"
   ]
  },
  {
   "cell_type": "code",
   "execution_count": null,
   "id": "6500ffcd-f5b5-46bc-a88e-b3fd8f701fba",
   "metadata": {},
   "outputs": [],
   "source": [
    "bisect_left([1], 0)"
   ]
  },
  {
   "cell_type": "code",
   "execution_count": null,
   "id": "1f24b513-20a0-4f72-bf99-7e81bd93af8f",
   "metadata": {},
   "outputs": [],
   "source": [
    "[bisect_left(x, i) for i in list(set(x))]"
   ]
  },
  {
   "cell_type": "code",
   "execution_count": null,
   "id": "19bf8846-1619-4a70-84d4-a60032dd77f4",
   "metadata": {},
   "outputs": [],
   "source": [
    "[bisect_right(x, i) for i in list(set(x))]"
   ]
  },
  {
   "cell_type": "code",
   "execution_count": null,
   "id": "38852630-6c2b-45d4-9118-c9ebc5a97aa1",
   "metadata": {},
   "outputs": [],
   "source": []
  },
  {
   "cell_type": "code",
   "execution_count": null,
   "id": "e4125e1f-f76c-43d2-ae79-5b3bb689013f",
   "metadata": {},
   "outputs": [],
   "source": []
  },
  {
   "cell_type": "code",
   "execution_count": null,
   "id": "a8e1b3b5-ba4f-4d18-9e9d-07d6845234b4",
   "metadata": {},
   "outputs": [],
   "source": []
  },
  {
   "cell_type": "code",
   "execution_count": null,
   "id": "d61ee887-027c-4b04-a682-79f52ca5d717",
   "metadata": {},
   "outputs": [],
   "source": [
    "x, y, _x, _y, xy, _xy, x_y, _x_y = sp.symbols(\"x,y,!x,!y, xy,!xy,x!y,!x!y\")"
   ]
  },
  {
   "cell_type": "code",
   "execution_count": null,
   "id": "c8ced210-e273-4f39-a2e7-f586b2c14a3e",
   "metadata": {},
   "outputs": [],
   "source": [
    "A = sp.Matrix([[1, 1, 0, 0], [0, 0, 1, 1], [1, 0, 1, 0], [0, 1, 0, 1]])\n",
    "[A.eigenvects()[i][2][0] for i in range(0, 3)]"
   ]
  },
  {
   "cell_type": "code",
   "execution_count": null,
   "id": "9db130a3-19ae-406e-9a8c-453b10f02221",
   "metadata": {
    "tags": []
   },
   "outputs": [],
   "source": [
    "df = (\n",
    "    pl.read_csv(\n",
    "        \"https://gist.githubusercontent.com/ColinEberhardt/756558042e1c470f52391f4ad8d831cf/raw/432cf3c0688315265272b8ab18ed43b1eb50958f/data.csv\"\n",
    "    )\n",
    "    .with_columns([pl.col(\"Date\").apply(lambda x: dt.datetime.strptime(x, \"%d-%b-%y\"))])\n",
    "    .with_columns([pl.col(\"Date\").apply(lambda x: x.timestamp()).alias(\"timestamp\")])\n",
    "    .sort(\"Date\")\n",
    ")\n",
    "df"
   ]
  },
  {
   "cell_type": "code",
   "execution_count": null,
   "id": "e210e0f7-0031-4c47-87f3-0b365ada9e10",
   "metadata": {},
   "outputs": [],
   "source": [
    "[[1, 2], [3, 4]]"
   ]
  },
  {
   "cell_type": "code",
   "execution_count": null,
   "id": "26322362-74f8-421f-adda-7ff0597980d1",
   "metadata": {},
   "outputs": [],
   "source": [
    "pl.DataFrame([[1, 2], [3, 4]])"
   ]
  },
  {
   "cell_type": "code",
   "execution_count": null,
   "id": "c76d9306-6b4f-4a7a-995d-7dbcb31a4959",
   "metadata": {},
   "outputs": [],
   "source": [
    "tmp = []\n",
    "(\n",
    "    df.groupby(\n",
    "        pl.col(\"timestamp\").apply(lambda x: int(x / (5 * 24 * 60 * 60))).alias(\"group\")\n",
    "    )\n",
    "    .agg(\n",
    "        [\n",
    "            pl.last(\"Date\"),\n",
    "            # pl.col(['Open', 'High', 'Low', 'Close']).apply(lambda x: print('here', x))\n",
    "            # pl.all().map(lambda x: print('here', x))\n",
    "            pl.concat_list([\"Open\", \"High\", \"Low\", \"Close\"])\n",
    "            .apply(lambda x: tmp.append(x))\n",
    "            .alias(\"n\"),\n",
    "        ]\n",
    "    )\n",
    "    .sort(\"Date\")\n",
    ")"
   ]
  },
  {
   "cell_type": "code",
   "execution_count": null,
   "id": "b64d1556-8dbb-4774-856c-f08d3361e908",
   "metadata": {},
   "outputs": [],
   "source": [
    "tmp[0].to_dummies()"
   ]
  },
  {
   "cell_type": "code",
   "execution_count": null,
   "id": "6c9e5427-1e1a-42b4-ac2e-d2e7fa898aa7",
   "metadata": {},
   "outputs": [],
   "source": [
    "pl.DataFrame(tmp[0].to_list(), columns=[\"open\", \"high\", \"low\", \"close\"])"
   ]
  },
  {
   "cell_type": "code",
   "execution_count": null,
   "id": "0c0d682b-a466-492b-99a4-7dca1dd77591",
   "metadata": {},
   "outputs": [],
   "source": [
    "import math"
   ]
  },
  {
   "cell_type": "code",
   "execution_count": null,
   "id": "22861346-0bd5-4687-88b8-00e45816a505",
   "metadata": {},
   "outputs": [],
   "source": [
    "(\n",
    "    df.groupby(pl.col(\"timestamp\").apply(lambda x: int(x / (5 * 24 * 60 * 60))))\n",
    "    .agg(\n",
    "        [\n",
    "            pl.last(\"Date\"),\n",
    "            pl.count(),\n",
    "            pl.max(\"High\"),\n",
    "            pl.min(\"Low\"),\n",
    "            pl.first(\"Open\"),\n",
    "            pl.last(\"Close\"),\n",
    "            pl.sum(\"Volume\"),\n",
    "            pl.col(\"*\").map(lambda x: print(f\"one {x}\")),\n",
    "        ]\n",
    "    )\n",
    "    .sort(\"Date\")\n",
    ")"
   ]
  },
  {
   "cell_type": "code",
   "execution_count": null,
   "id": "3efa537c-6308-445a-affe-9bd1ac97a44d",
   "metadata": {},
   "outputs": [],
   "source": [
    "dt.datetime(2020, 1, 1).timestamp()"
   ]
  },
  {
   "cell_type": "code",
   "execution_count": null,
   "id": "43f7145f-7a03-4982-8219-b4ef8199d983",
   "metadata": {},
   "outputs": [],
   "source": [
    "df.with_columns([pl.col(\"Date\")])"
   ]
  },
  {
   "cell_type": "code",
   "execution_count": null,
   "id": "fa0e6eb6-fb36-4401-be5e-4c7d85371985",
   "metadata": {},
   "outputs": [],
   "source": [
    "df.select(pl.fold(acc=0, f=lambda c, x: c + x, exprs=\"sepal_length\").alias(\"sum\"))"
   ]
  },
  {
   "cell_type": "code",
   "execution_count": null,
   "id": "c407e561-2d0d-4919-b239-4ff280a82fc0",
   "metadata": {},
   "outputs": [],
   "source": [
    "(df.filter(pl.col(\"sepal_length\") > 5).groupby(\"species\").agg(pl.all().sum()))"
   ]
  },
  {
   "cell_type": "code",
   "execution_count": null,
   "id": "f157fcba-ed97-440d-8ddd-76cdbf02e9ae",
   "metadata": {},
   "outputs": [],
   "source": [
    "500 / 128e3 * 100"
   ]
  },
  {
   "cell_type": "code",
   "execution_count": null,
   "id": "7239139a-8a74-483c-ab48-edb5270c334a",
   "metadata": {},
   "outputs": [],
   "source": [
    "16 / 14e3 * 100"
   ]
  },
  {
   "cell_type": "code",
   "execution_count": null,
   "id": "f4d0c448-8d46-4054-981a-58b3e380dd39",
   "metadata": {},
   "outputs": [],
   "source": [
    "sample = \"\"\"0003411705\"\"\".encode(\"utf\")\n",
    "\n",
    "len(sample)"
   ]
  },
  {
   "cell_type": "code",
   "execution_count": null,
   "id": "f134f614-0f5c-4699-bded-d8a0e75ca7d8",
   "metadata": {},
   "outputs": [],
   "source": [
    "control = 5_396_855\n",
    "reinf = 38_926\n",
    "inf = 257_427"
   ]
  },
  {
   "cell_type": "code",
   "execution_count": null,
   "id": "d106602f-aad0-4a44-aeac-db0514d5e91e",
   "metadata": {},
   "outputs": [],
   "source": [
    "# 3rd/2nd = 2nd/1st = k\n",
    "# 1st = inf\n",
    "# 2nd + 3rd = reinf\n",
    "# => k + k^2 = reinf/inf\n",
    "k = sp.symbols(\"k\", positive=True)\n",
    "k = float(sp.solve(sp.Eq(k + k**2, reinf / inf), k)[0])\n",
    "k"
   ]
  },
  {
   "cell_type": "code",
   "execution_count": null,
   "id": "284fe6b8-32ba-40fa-b8b3-f7bc47098fb4",
   "metadata": {},
   "outputs": [],
   "source": [
    "hr = np.array([1.32, 5.58, 11.28])  # 1st to control  # 2nd  # 3rd"
   ]
  },
  {
   "cell_type": "code",
   "execution_count": null,
   "id": "345f98f7-2b12-49ef-be8d-2de904b8ae4f",
   "metadata": {},
   "outputs": [],
   "source": [
    "# (hr_i - 1) inf .5year elder_share gdp_share\n",
    "p = 0.03\n",
    "k = reinf / inf\n",
    "sum((hr - 1) * p * [1, k, k**2]) * 0.5 * 0.8 * 0.1 * 500e4"
   ]
  },
  {
   "cell_type": "code",
   "execution_count": null,
   "id": "e774020d-760e-44b1-b849-dd30db6fcd99",
   "metadata": {},
   "outputs": [],
   "source": [
    "# (hr_i - 1) inf .5year elder_share gdp_share\n",
    "p = 0.01\n",
    "k = reinf / inf\n",
    "sum((hr - 1) * p * [1, k, k**2]) * 0.5 * 0.8 * 0.1 * 500e4"
   ]
  },
  {
   "cell_type": "code",
   "execution_count": null,
   "id": "6484e541-34d4-4cc7-8d83-51d3cb516516",
   "metadata": {},
   "outputs": [],
   "source": []
  },
  {
   "cell_type": "code",
   "execution_count": null,
   "id": "b60683c7-84f9-483a-8a33-ccc636799bca",
   "metadata": {},
   "outputs": [],
   "source": []
  },
  {
   "cell_type": "code",
   "execution_count": null,
   "id": "27e9ecbf-6f22-4198-90be-dd0cd78a887d",
   "metadata": {},
   "outputs": [],
   "source": []
  },
  {
   "cell_type": "code",
   "execution_count": null,
   "id": "3a91c1e9-6348-4bf3-a150-af0395e9ebd8",
   "metadata": {},
   "outputs": [],
   "source": []
  },
  {
   "cell_type": "code",
   "execution_count": null,
   "id": "741d99ef-4de0-4f31-921b-10c9dd99e1a0",
   "metadata": {},
   "outputs": [],
   "source": []
  },
  {
   "cell_type": "code",
   "execution_count": null,
   "id": "e2b4cbc7-4447-455a-af74-784bd83c5084",
   "metadata": {},
   "outputs": [],
   "source": []
  },
  {
   "cell_type": "code",
   "execution_count": null,
   "id": "16c70637-76f6-461e-bba0-d32fa4ae686f",
   "metadata": {},
   "outputs": [],
   "source": [
    "def make_url(method=\"getStatsList\", kind=\"json\", **query):\n",
    "    if kind in [\"xml\", \"csv\"]:\n",
    "        url = f\"https://api.e-stat.go.jp/rest/3.0/app/{method}\"\n",
    "    elif kind in [\"json\", \"jsonp\"]:\n",
    "        url = f\"https://api.e-stat.go.jp/rest/3.0/app/{kind}/{method}\"\n",
    "    else:\n",
    "        raise Exception(f\"kind `{kind}` not supported\")\n",
    "    return URL(\n",
    "        url=url,\n",
    "        query_dict={\"appId\": \"4adbba8536d68d2becbd5c57921358f1f15f5846\", **query},\n",
    "    )"
   ]
  },
  {
   "cell_type": "code",
   "execution_count": null,
   "id": "c540a394-76cc-45ce-a4bb-731d3d809507",
   "metadata": {},
   "outputs": [],
   "source": [
    "def get_json(url, timeout=3):\n",
    "    return json.loads(rq.get(url, timeout=timeout).content)"
   ]
  },
  {
   "cell_type": "code",
   "execution_count": null,
   "id": "5d2b0c91-fc52-41e6-86b1-103477564c0a",
   "metadata": {},
   "outputs": [],
   "source": [
    "make_url"
   ]
  },
  {
   "cell_type": "code",
   "execution_count": null,
   "id": "005ae613-a236-421e-bd2a-8313ee7408a6",
   "metadata": {},
   "outputs": [],
   "source": [
    "rq.get(\n",
    "    make_url(method=\"getSimpleStatsData\", kind=\"csv\", statsDataId=\"000007187092\").url\n",
    ").content.decode()"
   ]
  },
  {
   "cell_type": "code",
   "execution_count": null,
   "id": "449488f2-5845-4b59-9ef5-ff00305f9ec9",
   "metadata": {
    "tags": []
   },
   "outputs": [],
   "source": [
    "get_json(make_url(method=\"getMetaInfo\", statsDataId=\"0003288322\").url)"
   ]
  },
  {
   "cell_type": "code",
   "execution_count": null,
   "id": "a3cc2737-0da0-43a9-a417-2bdac46b2b4f",
   "metadata": {
    "tags": []
   },
   "outputs": [],
   "source": [
    "get_json(make_url(method=\"getStatsList\", limit=1).url)"
   ]
  },
  {
   "cell_type": "code",
   "execution_count": null,
   "id": "35069207-bcad-4611-b7ef-1ac524d7ebf3",
   "metadata": {},
   "outputs": [],
   "source": [
    "get_json(\n",
    "    timeout=30,\n",
    "    url=make_url(method=\"getDataCatalog\", searchWord=\"感染症による死亡数\", limit=1).url,\n",
    ")"
   ]
  },
  {
   "cell_type": "code",
   "execution_count": null,
   "id": "887f6e74-2af7-405b-95bf-2d832b94ac4b",
   "metadata": {},
   "outputs": [],
   "source": []
  },
  {
   "cell_type": "code",
   "execution_count": null,
   "id": "3d32962a-3440-430a-a1ae-a18e732753df",
   "metadata": {},
   "outputs": [],
   "source": []
  },
  {
   "cell_type": "code",
   "execution_count": null,
   "id": "c14856b8-fa98-45ef-b33b-0278ccec066e",
   "metadata": {},
   "outputs": [],
   "source": []
  },
  {
   "cell_type": "code",
   "execution_count": null,
   "id": "57962ae7-db8b-455d-b565-567009b8e80c",
   "metadata": {},
   "outputs": [],
   "source": [
    "cn_data = \"\"\" \tLast \tPrevious \t\t\n",
    "GDP Growth Rate \t-2.6 \t1.4 \tpercent \tJun/22\n",
    "GDP Annual Growth Rate \t0.4 \t4.8 \tpercent \tJun/22\n",
    "GDP \t17734 \t14688 \tUSD Billion \tDec/21\n",
    "Gross National Product \t1133518 \t1009151 \tCNY HML \tDec/21\n",
    "Gross Fixed Capital Formation \t478901 \t435683 \tCNY HML \tDec/21\n",
    "GDP per capita \t11188 \t10358 \tUSD \tDec/21\n",
    "GDP per capita PPP \t17603 \t16297 \tUSD \tDec/21\n",
    "Full Year GDP Growth \t8.1 \t2.2 \tpercent \tDec/21\n",
    "GDP Constant Prices \t525197 \t256322 \tCNY HML \tJun/22\n",
    "GDP From Agriculture \t29137 \t10954 \tCNY HML \tJun/22\n",
    "GDP From Construction \t35575 \t13029 \tCNY HML \tJun/22\n",
    "GDP From Manufacturing \t193885 \t93552 \tCNY HML \tJun/22\n",
    "GDP From Services \t304868 \t153037 \tCNY HML \tJun/22\n",
    "GDP From Transport \t22543 \t10430 \tCNY HML \tJun/22\"\"\""
   ]
  },
  {
   "cell_type": "code",
   "execution_count": null,
   "id": "9748178a-8db0-4058-825c-0cf0c5fd672c",
   "metadata": {},
   "outputs": [],
   "source": [
    "us_data = \"\"\" \tLast \tPrevious \t\t\n",
    "GDP Growth Rate \t-1.6 \t6.9 \tpercent \tMar/22\n",
    "GDP Annual Growth Rate \t3.5 \t5.5 \tpercent \tMar/22\n",
    "GDP \t22996 \t20894 \tUSD Billion \tDec/21\n",
    "GDP Constant Prices \t19728 \t19806 \tUSD Billion \tMar/22\n",
    "Gross National Product \t19944 \t20039 \tUSD Billion \tMar/22\n",
    "Gross Fixed Capital Formation \t3674 \t3609 \tUSD Billion \tMar/22\n",
    "GDP per capita \t61280 \t58060 \tUSD \tDec/21\n",
    "GDP per capita PPP \t63069 \t59755 \tUSD \tDec/21\n",
    "Full Year GDP Growth \t5.7 \t-3.4 \tpercent \tDec/21\n",
    "GDP Sales QoQ \t-1.2 \t1.5 \tpercent \tMar/22\n",
    "Real Consumer Spending \t1.8 \t2.5 \tpercent \tMar/22\n",
    "Weekly Economic Index \t2.89 \t2.81 \tpercent \tJul/22\n",
    "GDP From Agriculture \t238 \t239 \tUSD Billion \tMar/22\n",
    "GDP From Construction \t650 \t649 \tUSD Billion \tMar/22\n",
    "GDP From Manufacturing \t2333 \t2381 \tUSD Billion \tMar/22\n",
    "GDP From Mining \t392 \t420 \tUSD Billion \tMar/22\n",
    "GDP From Public Administration \t2257 \t2246 \tUSD Billion \tMar/22\n",
    "GDP From Services \t13758 \t13786 \tUSD Billion \tMar/22\n",
    "GDP From Transport \t504 \t516 \tUSD Billion \tMar/22\n",
    "GDP From Utilities \t282 \t272 \tUSD Billion \tMar/22\"\"\""
   ]
  },
  {
   "cell_type": "code",
   "execution_count": null,
   "id": "42a0c300-3b12-4ede-82b7-a8bebeecf3ed",
   "metadata": {},
   "outputs": [],
   "source": [
    "data = us_data\n",
    "gdp = pd.read_table(io.StringIO(data), sep=\"\t\")\n",
    "gdp"
   ]
  },
  {
   "cell_type": "code",
   "execution_count": null,
   "id": "879e82a4-5a6c-49cd-b190-aa54e6382c90",
   "metadata": {},
   "outputs": [],
   "source": [
    "gdp.columns = [c.strip() for c in gdp.columns]"
   ]
  },
  {
   "cell_type": "code",
   "execution_count": null,
   "id": "74751768-c2c2-487b-8b76-fa1ff52941d0",
   "metadata": {},
   "outputs": [],
   "source": [
    "gdp.loc[12:, \"Last\"].sum() / gdp.loc[3, \"Last\"] * 100 - 100"
   ]
  },
  {
   "cell_type": "code",
   "execution_count": null,
   "id": "3b1685cf-0b5c-45ff-bd62-2d2c2dd5b2d8",
   "metadata": {
    "tags": []
   },
   "outputs": [],
   "source": [
    "22996 - np.sum(\n",
    "    [\n",
    "        238,  # Agri\n",
    "        650,  # Constr\n",
    "        2333,  # Manu\n",
    "        392,  # Mine\n",
    "        2257,  # Pub Ad\n",
    "        13758,  # Serv\n",
    "        504,  # Trans\n",
    "        282,  # Util\n",
    "    ]\n",
    ")"
   ]
  },
  {
   "cell_type": "code",
   "execution_count": null,
   "id": "2b7c622c-9129-4ec0-9167-86cfde164b34",
   "metadata": {},
   "outputs": [],
   "source": []
  },
  {
   "cell_type": "code",
   "execution_count": null,
   "id": "e94e48ef-24ce-42ea-80ff-ff97e457a94b",
   "metadata": {},
   "outputs": [],
   "source": [
    "R = 3\n",
    "H = 1 - 1 / R\n",
    "G = 5\n",
    "M0 = 180\n",
    "Minf = 30\n",
    "N = 6e9\n",
    "W = 10 ** np.linspace(0, 12, 128)\n",
    "α = N / W\n",
    "\n",
    "L0 = G + M0\n",
    "Linf = G + Minf\n",
    "D = (L0 - α * H) / (2 * α * Linf)\n",
    "X = (H / (α * Linf) + D**2) ** 0.5 - D\n",
    "\n",
    "ax = plt.subplot()\n",
    "ax.plot(W, X)\n",
    "ax.set_yscale(\"log\")\n",
    "ax.set_xscale(\"log\")\n",
    "ax.grid(axis=\"x\", which=\"major\")\n",
    "ax.grid(axis=\"y\", which=\"both\")"
   ]
  },
  {
   "cell_type": "code",
   "execution_count": null,
   "id": "64754e00-bada-4000-aed4-82a5fed8f6dc",
   "metadata": {},
   "outputs": [],
   "source": []
  },
  {
   "cell_type": "code",
   "execution_count": null,
   "id": "c78d7519-0a0e-4e37-a9a9-8b079358c5b4",
   "metadata": {},
   "outputs": [],
   "source": []
  },
  {
   "cell_type": "code",
   "execution_count": null,
   "id": "2c9f39de-dae0-4dbe-83be-d2ed4a45f13a",
   "metadata": {},
   "outputs": [],
   "source": [
    "6768 / 8620"
   ]
  },
  {
   "cell_type": "code",
   "execution_count": null,
   "id": "5f514a0c-4764-4655-9d8f-6d03ab08f606",
   "metadata": {},
   "outputs": [],
   "source": []
  },
  {
   "cell_type": "code",
   "execution_count": null,
   "id": "69b65eae-f7ee-42b0-8fb2-d3f9268fd64b",
   "metadata": {},
   "outputs": [],
   "source": []
  },
  {
   "cell_type": "code",
   "execution_count": null,
   "id": "1694da39-91f3-4ac3-b6eb-f21c5a52a2de",
   "metadata": {},
   "outputs": [],
   "source": [
    "R = 5\n",
    "G = 3\n",
    "M = 365.25 * 1.5\n",
    "I = (1 - 1 / R) / (1 + M / G)\n",
    "S = 1 / R\n",
    "R / G * S * I * 365.25"
   ]
  },
  {
   "cell_type": "code",
   "execution_count": null,
   "id": "858f7225-5ace-4fa1-b1b8-3fd9f0d8bff9",
   "metadata": {},
   "outputs": [],
   "source": [
    "100e3 / 340e6 * 365.25 * (0.10 / 0.02)"
   ]
  },
  {
   "cell_type": "code",
   "execution_count": null,
   "id": "1421a47a-e2d9-43ab-9edf-4cd7c4252216",
   "metadata": {},
   "outputs": [],
   "source": [
    "10e3 / 67e6 * 365.25 * (0.038 / 0.02)"
   ]
  },
  {
   "cell_type": "code",
   "execution_count": null,
   "id": "b15e2e5a-a040-4795-96b7-4c3d1c317320",
   "metadata": {},
   "outputs": [],
   "source": [
    "37e3 / 83e6 * 365.25 * (0.40 / 0.02)"
   ]
  },
  {
   "cell_type": "code",
   "execution_count": null,
   "id": "923b1d1c-58ba-4c4a-9d92-26c84947f7de",
   "metadata": {},
   "outputs": [],
   "source": [
    "import numpy as np"
   ]
  },
  {
   "cell_type": "code",
   "execution_count": null,
   "id": "6bb4723d-b76a-4b37-a395-eee8c00a550f",
   "metadata": {},
   "outputs": [],
   "source": [
    "import polars as pl\n",
    "\n",
    "q = (\n",
    "    pl.scan_csv(\n",
    "        \"https://gist.githubusercontent.com/netj/8836201/raw/6f9306ad21398ea43cba4f7d537619d0e07d5ae3/iris.csv\"\n",
    "    )\n",
    "    .filter(pl.col(\"sepal.length\") > 5)\n",
    "    .groupby(\"species\")\n",
    "    .agg(pl.all().sum())\n",
    ")\n",
    "\n",
    "df = q.collect()"
   ]
  },
  {
   "cell_type": "code",
   "execution_count": null,
   "id": "eaa72e84-98a1-4dd0-9576-3f8ab1254ee1",
   "metadata": {},
   "outputs": [],
   "source": []
  },
  {
   "cell_type": "code",
   "execution_count": null,
   "id": "b76a123d-ac43-4427-b261-e756dfb38f51",
   "metadata": {},
   "outputs": [],
   "source": [
    "c = np.linspace(20, 100, 100)\n",
    "plt.plot(c, (1 - np.exp(-c)) / c)"
   ]
  },
  {
   "cell_type": "code",
   "execution_count": null,
   "id": "842d153b-d67a-46f9-b890-941d72231f63",
   "metadata": {},
   "outputs": [],
   "source": [
    "i = 1\n",
    "N = 1\n",
    "P = 0.5\n",
    "n = np.linspace(0, 1, 100)\n",
    "sigm = lambda x: 1 / (1 + np.exp(-x))\n",
    "\n",
    "for a in np.array([1, 5, 10]) / 10:\n",
    "    plt.plot(n / N, -N / a * np.log(1 - sigm(a * (n - P) / N)), label=f\"a = {a}\")\n",
    "    # plt.plot(n/N, i*np.log(1+a*n/N)/(np.log(1+a)), label=f'a = {a}')\n",
    "plt.plot(n / N, n / N, label=\"1\")\n",
    "plt.legend()"
   ]
  },
  {
   "cell_type": "code",
   "execution_count": null,
   "id": "f0d45325-1b96-48c3-86d7-795d9bce0286",
   "metadata": {},
   "outputs": [],
   "source": [
    "a = np.linspace(1, 10000, 100)\n",
    "plt.plot(a, a / np.log(1 + a))"
   ]
  },
  {
   "cell_type": "code",
   "execution_count": null,
   "id": "7f8d5c02-1a4d-42b1-b484-9a4096b16454",
   "metadata": {},
   "outputs": [],
   "source": [
    "N = 124e6\n",
    "a = 3000\n",
    "\n",
    "a / np.log(1 + a)"
   ]
  },
  {
   "cell_type": "code",
   "execution_count": null,
   "id": "c17d66c7-a613-4f13-9daf-0114f6349440",
   "metadata": {},
   "outputs": [],
   "source": []
  },
  {
   "cell_type": "code",
   "execution_count": null,
   "id": "4b64d202-d142-4097-8c73-ee61d4f03666",
   "metadata": {},
   "outputs": [],
   "source": [
    "β, w, L, r, K, p, C, a = symbols(\"β,w,L,r,K,p,C,a\")"
   ]
  },
  {
   "cell_type": "code",
   "execution_count": null,
   "id": "3e1873bf-22b4-4945-a271-5abf64a6154f",
   "metadata": {},
   "outputs": [],
   "source": [
    "sol = solve(Eq(β * (w * L + r * K - p * C) - (1 - β) * p * (C - a), 0), C)[0]\n",
    "sol"
   ]
  },
  {
   "cell_type": "code",
   "execution_count": null,
   "id": "e10892b0-5aec-4760-bb18-99fd7329472a",
   "metadata": {},
   "outputs": [],
   "source": []
  },
  {
   "cell_type": "code",
   "execution_count": null,
   "id": "8df5f0bf-8d44-4951-9ca8-af5189eca630",
   "metadata": {},
   "outputs": [],
   "source": []
  },
  {
   "cell_type": "code",
   "execution_count": null,
   "id": "43a3dac3-8115-4ce0-adc1-aa8600fdee38",
   "metadata": {},
   "outputs": [],
   "source": [
    "K, L, w, r, dK, dL, dw, dr = symbols(\"K,L,w,r, dK,dL,dw,dr\")"
   ]
  },
  {
   "cell_type": "code",
   "execution_count": null,
   "id": "08b57b01-1fde-457e-ad36-d8122145ada5",
   "metadata": {},
   "outputs": [],
   "source": [
    "σKL = (dK / dL) / (K / L) / ((dw / dr) / (w / r))\n",
    "σKL"
   ]
  },
  {
   "cell_type": "markdown",
   "id": "e1805efb-d36c-4622-9784-ec8eaba29e24",
   "metadata": {},
   "source": [
    "$$\n",
    "r = df/dK\\\\\n",
    "w = df/dL\n",
    "$$"
   ]
  },
  {
   "cell_type": "code",
   "execution_count": null,
   "id": "bc710764-787b-4b50-833d-16334c3ab55f",
   "metadata": {},
   "outputs": [],
   "source": [
    "a, b, c, d = symbols(\"a,b,c,d\")\n",
    "(a / b) / (c / d)"
   ]
  },
  {
   "cell_type": "code",
   "execution_count": null,
   "id": "01c405f1-f436-4acd-9891-e2a8b2af907e",
   "metadata": {},
   "outputs": [],
   "source": [
    "Q = MatrixSymbol(\"Q\", 3, 3)\n",
    "u, v = symbols(\"u,v\")\n",
    "x = Matrix([[1, u, v]]).T"
   ]
  },
  {
   "cell_type": "code",
   "execution_count": null,
   "id": "a8c5420a-300b-45ac-ad06-7712c82fa664",
   "metadata": {},
   "outputs": [],
   "source": [
    "y = x.T * Q * x"
   ]
  },
  {
   "cell_type": "code",
   "execution_count": null,
   "id": "cc934886-68df-436e-877a-acf2cb40ab2a",
   "metadata": {},
   "outputs": [],
   "source": [
    "y.as_explicit()[0].expand()"
   ]
  },
  {
   "cell_type": "code",
   "execution_count": null,
   "id": "42307d27-eaf9-4f7b-b8e4-22bd88ef99b1",
   "metadata": {},
   "outputs": [],
   "source": [
    "Q = Matrix([[0, -1, 1], [-1, 1, 1], [1, 1, 1]])"
   ]
  },
  {
   "cell_type": "code",
   "execution_count": null,
   "id": "ef405920-9939-4344-b157-ee7e9e696c99",
   "metadata": {},
   "outputs": [],
   "source": [
    "T = Matrix([[1, 0, 0], [0, 1 / sqrt(2), 1 / sqrt(2)], [0, 1 / sqrt(2), -1 / sqrt(2)]])\n",
    "T"
   ]
  },
  {
   "cell_type": "code",
   "execution_count": null,
   "id": "31fea564-505d-4c49-b95b-ad8ddd811dd3",
   "metadata": {},
   "outputs": [],
   "source": [
    "T * T.T"
   ]
  },
  {
   "cell_type": "code",
   "execution_count": null,
   "id": "be07caac-3cdc-4880-a929-010fcdfbd6f8",
   "metadata": {},
   "outputs": [],
   "source": [
    "(T * Q * T.T)"
   ]
  },
  {
   "cell_type": "code",
   "execution_count": null,
   "id": "e79948ab-a34e-49e4-8aab-33b7485d265e",
   "metadata": {},
   "outputs": [],
   "source": [
    "x"
   ]
  },
  {
   "cell_type": "code",
   "execution_count": null,
   "id": "a600b77c-289b-494c-af3c-90d397fe30e6",
   "metadata": {},
   "outputs": [],
   "source": [
    "import matplotlib.pyplot as plt\n",
    "import numpy as np\n",
    "\n",
    "x, y = np.meshgrid(np.linspace(0, 1, 100), np.linspace(0, 1, 100))\n",
    "dx = -x / y\n",
    "dy = -y / x\n",
    "\n",
    "ax = plt.subplot()\n",
    "ax.streamplot(x, y, dx, dy)"
   ]
  },
  {
   "cell_type": "code",
   "execution_count": null,
   "id": "d0f5f2b0-3c41-485e-a30a-d2a90ba2d334",
   "metadata": {},
   "outputs": [],
   "source": [
    "x = np.linspace(0, 6, 100)\n",
    "y = np.sqrt(36 - x**2)\n",
    "plt.plot(x, y)"
   ]
  },
  {
   "cell_type": "code",
   "execution_count": null,
   "id": "00a59781-3665-46c6-9e69-2a0ff953d9e0",
   "metadata": {},
   "outputs": [],
   "source": [
    "T * x"
   ]
  },
  {
   "cell_type": "code",
   "execution_count": null,
   "id": "88dc645f-350e-44e8-9d75-c1f550a1c5ce",
   "metadata": {},
   "outputs": [],
   "source": [
    "import matplotlib.pyplot as plt\n",
    "import numpy as np\n",
    "\n",
    "β = 1 / 2\n",
    "γ = 1 / 5\n",
    "\n",
    "S, I = np.meshgrid(np.linspace(0, 1, 100), np.linspace(0, 1, 100))\n",
    "dS = -β * S * I / (β * S - γ)\n",
    "dI = I\n",
    "\n",
    "ax = plt.subplot()\n",
    "ax.streamplot(S, I, dS, dI)\n",
    "ax.plot(np.linspace(0, 1, 100), 1 - np.linspace(0, 1, 100))"
   ]
  },
  {
   "cell_type": "code",
   "execution_count": null,
   "id": "efbaadeb-44dc-4bff-900b-2d4c9b0c526d",
   "metadata": {},
   "outputs": [],
   "source": [
    "import matplotlib.pyplot as plt\n",
    "import numpy as np\n",
    "\n",
    "β = 1 / 2\n",
    "γ = 1 / 5\n",
    "\n",
    "S, I = np.meshgrid(np.linspace(0, 1, 100), np.linspace(0, 1, 100))\n",
    "dS = -β * S * I\n",
    "dI = β * S * I - γ * I\n",
    "\n",
    "ax = plt.subplot()\n",
    "ax.streamplot(S, I, dS, dI)\n",
    "ax.plot(np.linspace(0, 1, 100), 1 - np.linspace(0, 1, 100))"
   ]
  },
  {
   "cell_type": "code",
   "execution_count": null,
   "id": "86b211ff-6af9-449b-890b-b85aca93037b",
   "metadata": {},
   "outputs": [],
   "source": [
    "γ / β"
   ]
  },
  {
   "cell_type": "code",
   "execution_count": null,
   "id": "6f3b6639-754d-4dde-b141-925d466e101c",
   "metadata": {},
   "outputs": [],
   "source": [
    "u0, K, R, umax, Rmax = symbols(\"u0,K,R,umax,Rmax\")\n",
    "eq1 = Eq(u0**2 / 2 - K / R, umax**2 / 2 - K / Rmax)\n",
    "eq2 = Eq(R * u0, Rmax * umax)\n",
    "\n",
    "solve(eq1.subs(umax, solve(eq2, umax)[0]), Rmax)"
   ]
  },
  {
   "cell_type": "code",
   "execution_count": null,
   "id": "b52335c5-f00a-404a-84e9-fb05f7284589",
   "metadata": {},
   "outputs": [],
   "source": []
  },
  {
   "cell_type": "code",
   "execution_count": null,
   "id": "74066388-81ad-40d1-a5e9-d871d747b5b2",
   "metadata": {},
   "outputs": [],
   "source": []
  },
  {
   "cell_type": "markdown",
   "id": "d1e91c3a-fb69-4046-a6f9-06d82a2168b5",
   "metadata": {},
   "source": [
    "$$\n",
    "\\def \\L {{\\scr L}}\n",
    "\\dot{u} = n(i-q) + l(m-p) \\\\\n",
    "\\dot{p} = -\\partial_u f(u) \\dot{u} + \\dot{m} \\\\\n",
    "f(u) = k(u-u0) \\\\\n",
    "\\L[\\dot{u}] = n(I-q/s) + l(M-P) \\\\\n",
    "\\L[\\dot{p}] = -k(\\L[\\dot{u}]) + sM - m(0)\n",
    "$$"
   ]
  },
  {
   "cell_type": "code",
   "execution_count": null,
   "id": "75427aad-cafe-48e0-abde-6486a6bd4f64",
   "metadata": {},
   "outputs": [],
   "source": [
    "s, M, P, p0, m0, k, I, q, l, n = symbols(\"s,M,P,p0,m0,k,I,q,l,n\")\n",
    "Ludot = n * (I - q / s) + l * (M - P)\n",
    "Lpdot = -k * Ludot + s * M - m0\n",
    "eq = Eq(s * P - p0, Lpdot)\n",
    "eq"
   ]
  },
  {
   "cell_type": "markdown",
   "id": "6a033ad5-db5c-430b-a961-89c3577569c8",
   "metadata": {},
   "source": [
    "$$\n",
    "M = \\alpha P = \\beta/s P\n",
    "$$"
   ]
  },
  {
   "cell_type": "code",
   "execution_count": null,
   "id": "4fd352ee-6ae1-4953-8e5e-b648e0146f1c",
   "metadata": {},
   "outputs": [],
   "source": [
    "α, β = symbols(\"α,β\")\n",
    "eq = eq.subs([(M, α * P), (s * α, β)])\n",
    "eq"
   ]
  },
  {
   "cell_type": "code",
   "execution_count": null,
   "id": "3af1c2ee-4c86-4c1c-b4ef-e4535b7457fd",
   "metadata": {},
   "outputs": [],
   "source": [
    "i0, H, R = symbols(\"i0,H,R\")\n",
    "eq = eq.subs(I, i0 / s - H * (R - P))\n",
    "eq"
   ]
  },
  {
   "cell_type": "code",
   "execution_count": null,
   "id": "1058e777-6f70-46b5-a529-af4ebadd7344",
   "metadata": {},
   "outputs": [],
   "source": [
    "r = symbols(\"r\")\n",
    "eq = eq.subs(R, r / s)\n",
    "eq"
   ]
  },
  {
   "cell_type": "code",
   "execution_count": null,
   "id": "344fcbea-a233-4360-83d1-b06262b4d311",
   "metadata": {},
   "outputs": [],
   "source": [
    "Psol = solve(eq, P)[0]\n",
    "Eq(P, Psol)"
   ]
  },
  {
   "cell_type": "code",
   "execution_count": null,
   "id": "6b501600-fee4-4a25-8438-c320c14729d0",
   "metadata": {},
   "outputs": [],
   "source": [
    "m, p = symbols(\"m,p\")\n",
    "peq = Eq(p, (s * Psol).subs([(H, 0), (α, m / p), (β, 0)]).limit(s, 0))\n",
    "Eq(p, solve(peq, p)[1])"
   ]
  },
  {
   "cell_type": "code",
   "execution_count": null,
   "id": "afd3d917-8874-46f4-a099-81fb2bee79bd",
   "metadata": {},
   "outputs": [],
   "source": [
    "m, p, A = symbols(\"m,p,A\")\n",
    "peq = Eq(p, (s * Psol).subs([(H, A), (α, m / p), (β, 0)]).limit(s, 0))\n",
    "Eq(p, solve(peq, p)[1])"
   ]
  },
  {
   "cell_type": "code",
   "execution_count": null,
   "id": "9ce0e4b9-487d-46ba-828e-7dd5c8255b7b",
   "metadata": {},
   "outputs": [],
   "source": [
    "m, p, B = symbols(\"m,p,B\")\n",
    "peq = Eq(p, (s * Psol).subs([(H, B / s), (α, m / p), (β, 0)]).limit(s, 0))\n",
    "peq"
   ]
  },
  {
   "cell_type": "code",
   "execution_count": null,
   "id": "f153c2f0-843e-4266-b001-9d57d49ec527",
   "metadata": {},
   "outputs": [],
   "source": []
  },
  {
   "cell_type": "code",
   "execution_count": null,
   "id": "d301ab7f-a0b9-4dd6-b749-f0698602af15",
   "metadata": {},
   "outputs": [],
   "source": [
    "z, a = symbols(\"z,a\")\n",
    "H = 1 / (1 - a / z)\n",
    "(z * H).limit(z, 1)"
   ]
  },
  {
   "cell_type": "code",
   "execution_count": null,
   "id": "b473fe21-f881-4389-8baa-2813037a301e",
   "metadata": {},
   "outputs": [],
   "source": []
  },
  {
   "cell_type": "code",
   "execution_count": null,
   "id": "08638aab-9a82-4bd2-99aa-7309983f053a",
   "metadata": {},
   "outputs": [],
   "source": []
  },
  {
   "cell_type": "code",
   "execution_count": null,
   "id": "abc98fb0-0adc-442e-ab47-9e86ae690093",
   "metadata": {},
   "outputs": [],
   "source": []
  },
  {
   "cell_type": "code",
   "execution_count": null,
   "id": "834fbc83-378f-490f-bcea-9902641b8e4f",
   "metadata": {},
   "outputs": [],
   "source": []
  },
  {
   "cell_type": "code",
   "execution_count": null,
   "id": "3da1a84d-33fd-49bb-9e3a-bb974123772e",
   "metadata": {},
   "outputs": [],
   "source": []
  },
  {
   "cell_type": "code",
   "execution_count": null,
   "id": "fd4c7940-3d60-4294-8d33-44d9602f8316",
   "metadata": {},
   "outputs": [],
   "source": []
  },
  {
   "cell_type": "code",
   "execution_count": null,
   "id": "c3719c6a-d603-4de6-ad88-98b2b14f81b0",
   "metadata": {},
   "outputs": [],
   "source": [
    "n_m, n_f, d = symbols(\"n_m, n_f, d\", positive=True, integer=True)"
   ]
  },
  {
   "cell_type": "code",
   "execution_count": null,
   "id": "97b50b1d-0009-4e99-bd4c-8b3442024bb2",
   "metadata": {},
   "outputs": [],
   "source": [
    "X_m = MatrixSymbol(\"X_m\", n_m, d)\n",
    "X_f = MatrixSymbol(\"X_f\", n_f, d)\n",
    "X = BlockMatrix([[X_m, OneMatrix(n_m, 1)], [X_f, ZeroMatrix(n_f, 1)]])\n",
    "X"
   ]
  },
  {
   "cell_type": "code",
   "execution_count": null,
   "id": "26d85a87-a816-42cb-ace4-430a00578332",
   "metadata": {},
   "outputs": [],
   "source": [
    "Y_m = MatrixSymbol(\"Y_m\", n_m, 1)\n",
    "Y_f = MatrixSymbol(\"Y_f\", n_f, 1)\n",
    "Y = BlockMatrix([[Y_m], [Y_f]])\n",
    "Y"
   ]
  },
  {
   "cell_type": "code",
   "execution_count": null,
   "id": "81d8cfaf-1847-4752-b0ec-972ceac4ce01",
   "metadata": {},
   "outputs": [],
   "source": [
    "b = (X.T * X).inv() * X.T * Y\n",
    "b"
   ]
  },
  {
   "cell_type": "code",
   "execution_count": null,
   "id": "06e8ac04-5343-48a1-b14e-e4633dbb7d13",
   "metadata": {},
   "outputs": [],
   "source": [
    "Z = block_collapse(X.T * X)\n",
    "Z"
   ]
  },
  {
   "cell_type": "code",
   "execution_count": null,
   "id": "c32c2955-516a-4102-9299-16915f27b42e",
   "metadata": {},
   "outputs": [],
   "source": [
    "X_m_ = MatrixSymbol(\"\\\\bar{X_m}\", 1, d)\n",
    "Z = Z.subs(\n",
    "    [(X_m.T * OneMatrix(n_m, 1), n_m * X_m_.T), (OneMatrix(1, n_m) * X_m, n_m * X_m_)]\n",
    ")\n",
    "Z"
   ]
  },
  {
   "cell_type": "code",
   "execution_count": null,
   "id": "256d84fe-dd29-4729-86ea-8ecc107ad9cf",
   "metadata": {},
   "outputs": [],
   "source": [
    "Z.schur(\"D\")"
   ]
  },
  {
   "cell_type": "code",
   "execution_count": null,
   "id": "d4a24af7-ab64-4afe-9d3a-7fcdaa67192d",
   "metadata": {},
   "outputs": [],
   "source": [
    "V = MatrixSymbol(\"V\", d, d)\n",
    "Z = block_collapse(Z.inv()).subs(Z.schur(\"D\"), V)\n",
    "Z"
   ]
  },
  {
   "cell_type": "code",
   "execution_count": null,
   "id": "569705bb-6882-4fe9-bed7-fbe1b2221311",
   "metadata": {},
   "outputs": [],
   "source": [
    "Z = block_collapse(Z * X.T)\n",
    "Z"
   ]
  },
  {
   "cell_type": "code",
   "execution_count": null,
   "id": "7841f29d-8b02-43f9-ba55-134570452d96",
   "metadata": {},
   "outputs": [],
   "source": [
    "Z.shape"
   ]
  },
  {
   "cell_type": "code",
   "execution_count": null,
   "id": "d9c1b83f-7f35-4ee5-8825-8f8e480a1d6b",
   "metadata": {},
   "outputs": [],
   "source": []
  }
 ],
 "metadata": {
  "kernelspec": {
   "display_name": "Python 3 (ipykernel)",
   "language": "python",
   "name": "python3"
  },
  "language_info": {
   "codemirror_mode": {
    "name": "ipython",
    "version": 3
   },
   "file_extension": ".py",
   "mimetype": "text/x-python",
   "name": "python",
   "nbconvert_exporter": "python",
   "pygments_lexer": "ipython3",
   "version": "3.10.8"
  }
 },
 "nbformat": 4,
 "nbformat_minor": 5
}
