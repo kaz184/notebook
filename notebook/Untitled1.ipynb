{
 "cells": [
  {
   "cell_type": "code",
   "execution_count": 33,
   "id": "b837eab7-925a-422b-9d41-251b2c174ef6",
   "metadata": {
    "collapsed": true,
    "jupyter": {
     "outputs_hidden": true
    },
    "tags": []
   },
   "outputs": [
    {
     "name": "stdout",
     "output_type": "stream",
     "text": [
      "Requirement already satisfied: jax in /home/docker/mambaforge/lib/python3.10/site-packages (0.4.8)\n",
      "Requirement already satisfied: dm-haiku in /home/docker/mambaforge/lib/python3.10/site-packages (0.0.9)\n",
      "Requirement already satisfied: sktime in /home/docker/mambaforge/lib/python3.10/site-packages (0.17.0)\n",
      "Requirement already satisfied: matplotlib in /home/docker/mambaforge/lib/python3.10/site-packages (3.7.1)\n",
      "Requirement already satisfied: jaxlib in /home/docker/mambaforge/lib/python3.10/site-packages (0.4.7)\n",
      "Requirement already satisfied: jax_dataloader in /home/docker/mambaforge/lib/python3.10/site-packages (0.0.2)\n",
      "Requirement already satisfied: optax in /home/docker/mambaforge/lib/python3.10/site-packages (0.1.4)\n",
      "Collecting seaborn\n",
      "  Downloading seaborn-0.12.2-py3-none-any.whl (293 kB)\n",
      "\u001b[2K     \u001b[90m━━━━━━━━━━━━━━━━━━━━━━━━━━━━━━━━━━━━━━━\u001b[0m \u001b[32m293.3/293.3 kB\u001b[0m \u001b[31m5.3 MB/s\u001b[0m eta \u001b[36m0:00:00\u001b[0ma \u001b[36m0:00:01\u001b[0m\n",
      "\u001b[?25hRequirement already satisfied: scipy>=1.7 in /home/docker/mambaforge/lib/python3.10/site-packages (from jax) (1.10.1)\n",
      "Requirement already satisfied: ml-dtypes>=0.0.3 in /home/docker/mambaforge/lib/python3.10/site-packages (from jax) (0.0.4)\n",
      "Requirement already satisfied: opt-einsum in /home/docker/mambaforge/lib/python3.10/site-packages (from jax) (3.3.0)\n",
      "Requirement already satisfied: numpy>=1.21 in /home/docker/mambaforge/lib/python3.10/site-packages (from jax) (1.23.5)\n",
      "Requirement already satisfied: tabulate>=0.8.9 in /home/docker/mambaforge/lib/python3.10/site-packages (from dm-haiku) (0.9.0)\n",
      "Requirement already satisfied: jmp>=0.0.2 in /home/docker/mambaforge/lib/python3.10/site-packages (from dm-haiku) (0.0.4)\n",
      "Requirement already satisfied: absl-py>=0.7.1 in /home/docker/mambaforge/lib/python3.10/site-packages (from dm-haiku) (1.4.0)\n",
      "Requirement already satisfied: deprecated>=1.2.13 in /home/docker/mambaforge/lib/python3.10/site-packages (from sktime) (1.2.13)\n",
      "Requirement already satisfied: scikit-learn<1.3.0,>=0.24.0 in /home/docker/mambaforge/lib/python3.10/site-packages (from sktime) (1.2.2)\n",
      "Requirement already satisfied: pandas<2.0.0,>=1.1.0 in /home/docker/mambaforge/lib/python3.10/site-packages (from sktime) (1.5.3)\n",
      "Requirement already satisfied: numba>=0.53 in /home/docker/mambaforge/lib/python3.10/site-packages (from sktime) (0.56.4)\n",
      "Requirement already satisfied: packaging>=20.0 in /home/docker/mambaforge/lib/python3.10/site-packages (from matplotlib) (23.0)\n",
      "Requirement already satisfied: cycler>=0.10 in /home/docker/mambaforge/lib/python3.10/site-packages (from matplotlib) (0.11.0)\n",
      "Requirement already satisfied: python-dateutil>=2.7 in /home/docker/mambaforge/lib/python3.10/site-packages (from matplotlib) (2.8.2)\n",
      "Requirement already satisfied: pillow>=6.2.0 in /home/docker/mambaforge/lib/python3.10/site-packages (from matplotlib) (9.5.0)\n",
      "Requirement already satisfied: fonttools>=4.22.0 in /home/docker/mambaforge/lib/python3.10/site-packages (from matplotlib) (4.39.3)\n",
      "Requirement already satisfied: kiwisolver>=1.0.1 in /home/docker/mambaforge/lib/python3.10/site-packages (from matplotlib) (1.4.4)\n",
      "Requirement already satisfied: contourpy>=1.0.1 in /home/docker/mambaforge/lib/python3.10/site-packages (from matplotlib) (1.0.7)\n",
      "Requirement already satisfied: pyparsing>=2.3.1 in /home/docker/mambaforge/lib/python3.10/site-packages (from matplotlib) (3.0.9)\n",
      "Requirement already satisfied: typing-extensions>=3.10.0 in /home/docker/mambaforge/lib/python3.10/site-packages (from optax) (4.5.0)\n",
      "Requirement already satisfied: chex>=0.1.5 in /home/docker/mambaforge/lib/python3.10/site-packages (from optax) (0.1.7)\n",
      "Requirement already satisfied: dm-tree>=0.1.5 in /home/docker/mambaforge/lib/python3.10/site-packages (from chex>=0.1.5->optax) (0.1.8)\n",
      "Requirement already satisfied: toolz>=0.9.0 in /home/docker/mambaforge/lib/python3.10/site-packages (from chex>=0.1.5->optax) (0.12.0)\n",
      "Requirement already satisfied: wrapt<2,>=1.10 in /home/docker/mambaforge/lib/python3.10/site-packages (from deprecated>=1.2.13->sktime) (1.15.0)\n",
      "Requirement already satisfied: setuptools in /home/docker/mambaforge/lib/python3.10/site-packages (from numba>=0.53->sktime) (65.6.3)\n",
      "Requirement already satisfied: llvmlite<0.40,>=0.39.0dev0 in /home/docker/mambaforge/lib/python3.10/site-packages (from numba>=0.53->sktime) (0.39.1)\n",
      "Requirement already satisfied: pytz>=2020.1 in /home/docker/mambaforge/lib/python3.10/site-packages (from pandas<2.0.0,>=1.1.0->sktime) (2023.3)\n",
      "Requirement already satisfied: six>=1.5 in /home/docker/mambaforge/lib/python3.10/site-packages (from python-dateutil>=2.7->matplotlib) (1.16.0)\n",
      "Requirement already satisfied: joblib>=1.1.1 in /home/docker/mambaforge/lib/python3.10/site-packages (from scikit-learn<1.3.0,>=0.24.0->sktime) (1.2.0)\n",
      "Requirement already satisfied: threadpoolctl>=2.0.0 in /home/docker/mambaforge/lib/python3.10/site-packages (from scikit-learn<1.3.0,>=0.24.0->sktime) (3.1.0)\n",
      "Installing collected packages: seaborn\n",
      "Successfully installed seaborn-0.12.2\n"
     ]
    }
   ],
   "source": [
    "!pip install jax dm-haiku sktime matplotlib jaxlib jax_dataloader optax seaborn"
   ]
  },
  {
   "cell_type": "code",
   "execution_count": 1,
   "id": "0bfc0374-14f0-413d-9979-b620f9dbca16",
   "metadata": {
    "tags": []
   },
   "outputs": [
    {
     "name": "stderr",
     "output_type": "stream",
     "text": [
      "No GPU/TPU found, falling back to CPU. (Set TF_CPP_MIN_LOG_LEVEL=0 and rerun for more info.)\n"
     ]
    }
   ],
   "source": [
    "import matplotlib.pyplot as plt\n",
    "\n",
    "import jax\n",
    "from jax import numpy as jnp, random, jit, vmap, grad, nn\n",
    "from functools import partial\n",
    "\n",
    "import jax_dataloader as jdl\n",
    "import optax\n",
    "\n",
    "import haiku as hk\n",
    "\n",
    "import pandas as pd\n",
    "import numpy as np\n",
    "import sklearn as skl\n",
    "from sklearn import metrics, model_selection\n",
    "\n",
    "rng = hk.PRNGSequence(0)"
   ]
  },
  {
   "cell_type": "code",
   "execution_count": 3,
   "id": "9d8c90a9-ca98-44f3-9180-19a9a99a7587",
   "metadata": {
    "jupyter": {
     "source_hidden": true
    },
    "tags": []
   },
   "outputs": [
    {
     "data": {
      "text/plain": [
       "'len(dataset_names) = 183'"
      ]
     },
     "execution_count": 3,
     "metadata": {},
     "output_type": "execute_result"
    }
   ],
   "source": [
    "dataset_names = [\n",
    "    \"AbnormalHeartbeat\",\n",
    "    \"ACSF1\",\n",
    "    \"Adiac\",\n",
    "    \"AllGestureWiimoteX\",\n",
    "    \"AllGestureWiimoteY\",\n",
    "    \"AllGestureWiimoteZ\",\n",
    "    \"ArrowHead\",\n",
    "    \"ArticularyWordRecognition\",\n",
    "    \"AsphaltObstacles\",\n",
    "    \"AsphaltObstaclesCoordinates\",\n",
    "    \"AsphaltPavementType\",\n",
    "    \"AsphaltPavementTypeCoordinates\",\n",
    "    \"AsphaltRegularity\",\n",
    "    \"AsphaltRegularityCoordinates\",\n",
    "    \"AtrialFibrillation\",\n",
    "    \"BasicMotions\",\n",
    "    \"Beef\",\n",
    "    \"BeetleFly\",\n",
    "    \"BinaryHeartbeat\",\n",
    "    \"BirdChicken\",\n",
    "    \"Blink\",\n",
    "    \"BME\",\n",
    "    \"Car\",\n",
    "    \"CatsDogs\",\n",
    "    \"CBF\",\n",
    "    \"CharacterTrajectories\",\n",
    "    \"Chinatown\",\n",
    "    \"ChlorineConcentration\",\n",
    "    \"CinCECGTorso\",\n",
    "    \"Coffee\",\n",
    "    \"Colposcopy\",\n",
    "    \"Computers\",\n",
    "    \"CounterMovementJump\",\n",
    "    \"Cricket\",\n",
    "    \"CricketX\",\n",
    "    \"CricketY\",\n",
    "    \"CricketZ\",\n",
    "    \"Crop\",\n",
    "    \"DiatomSizeReduction\",\n",
    "    \"DistalPhalanxOutlineAgeGroup\",\n",
    "    \"DistalPhalanxOutlineCorrect\",\n",
    "    \"DistalPhalanxTW\",\n",
    "    \"DodgerLoopDay\",\n",
    "    \"DodgerLoopGame\",\n",
    "    \"DodgerLoopWeekend\",\n",
    "    \"DuckDuckGeese\",\n",
    "    \"DucksAndGeese\",\n",
    "    \"Earthquakes\",\n",
    "    \"ECG200\",\n",
    "    \"ECG5000\",\n",
    "    \"ECGFiveDays\",\n",
    "    \"EigenWorms\",\n",
    "    \"ElectricDeviceDetection\",\n",
    "    \"ElectricDevices\",\n",
    "    \"EMOPain\",\n",
    "    \"EOGHorizontalSignal\",\n",
    "    \"EOGVerticalSignal\",\n",
    "    \"Epilepsy\",\n",
    "    \"ERing\",\n",
    "    \"EthanolConcentration\",\n",
    "    \"EthanolLevel\",\n",
    "    \"EyesOpenShut\",\n",
    "    \"FaceAll\",\n",
    "    \"FaceDetection\",\n",
    "    \"FaceFour\",\n",
    "    \"FacesUCR\",\n",
    "    \"FiftyWords\",\n",
    "    \"FingerMovements\",\n",
    "    \"Fish\",\n",
    "    \"FordA\",\n",
    "    \"FordB\",\n",
    "    \"FreezerRegularTrain\",\n",
    "    \"FreezerSmallTrain\",\n",
    "    \"FruitFlies\",\n",
    "    \"Fungi\",\n",
    "    \"GestureMidAirD1\",\n",
    "    \"GestureMidAirD2\",\n",
    "    \"GestureMidAirD3\",\n",
    "    \"GesturePebbleZ1\",\n",
    "    \"GesturePebbleZ2\",\n",
    "    \"GunPoint\",\n",
    "    \"GunPointAgeSpan\",\n",
    "    \"GunPointMaleVersusFemale\",\n",
    "    \"GunPointOldVersusYoung\",\n",
    "    \"Ham\",\n",
    "    \"HandMovementDirection\",\n",
    "    \"HandOutlines\",\n",
    "    \"Handwriting\",\n",
    "    \"Haptics\",\n",
    "    \"Heartbeat\",\n",
    "    \"Herring\",\n",
    "    \"HouseTwenty\",\n",
    "    \"InlineSkate\",\n",
    "    \"InsectEPGRegularTrain\",\n",
    "    \"InsectEPGSmallTrain\",\n",
    "    \"InsectSound\",\n",
    "    \"InsectWingbeat\",\n",
    "    \"ItalyPowerDemand\",\n",
    "    \"JapaneseVowels\",\n",
    "    \"KeplerLightCurves\",\n",
    "    \"LargeKitchenAppliances\",\n",
    "    \"Libras\",\n",
    "    \"Lightning2\",\n",
    "    \"Lightning7\",\n",
    "    \"LSST\",\n",
    "    \"Mallat\",\n",
    "    \"Meat\",\n",
    "    \"MedicalImages\",\n",
    "    \"MelbournePedestrian\",\n",
    "    \"MiddlePhalanxOutlineAgeGroup\",\n",
    "    \"MiddlePhalanxOutlineCorrect\",\n",
    "    \"MiddlePhalanxTW\",\n",
    "    \"MindReading\",\n",
    "    \"MixedShapes\",\n",
    "    \"MixedShapesSmallTrain\",\n",
    "    \"MosquitoSound\",\n",
    "    \"MoteStrain\",\n",
    "    \"MotionSenseHAR\",\n",
    "    \"MotorImagery\",\n",
    "    \"NATOPS\",\n",
    "    \"NonInvasiveFetalECGThorax1\",\n",
    "    \"NonInvasiveFetalECGThorax2\",\n",
    "    \"OliveOil\",\n",
    "    \"OSULeaf\",\n",
    "    \"PEMS-SF\",\n",
    "    \"PenDigits\",\n",
    "    \"PhalangesOutlinesCorrect\",\n",
    "    \"Phoneme\",\n",
    "    \"PhonemeSpectra\",\n",
    "    \"PickupGestureWiimoteZ\",\n",
    "    \"PigAirwayPressure\",\n",
    "    \"PigArtPressure\",\n",
    "    \"PigCVP\",\n",
    "    \"PLAID\",\n",
    "    \"Plane\",\n",
    "    \"PowerCons\",\n",
    "    \"ProximalPhalanxOutlineAgeGroup\",\n",
    "    \"ProximalPhalanxOutlineCorrect\",\n",
    "    \"ProximalPhalanxTW\",\n",
    "    \"RacketSports\",\n",
    "    \"RefrigerationDevices\",\n",
    "    \"RightWhaleCalls\",\n",
    "    \"Rock\",\n",
    "    \"ScreenType\",\n",
    "    \"SelfRegulationSCP1\",\n",
    "    \"SelfRegulationSCP2\",\n",
    "    \"SemgHandGenderCh2\",\n",
    "    \"SemgHandMovementCh2\",\n",
    "    \"SemgHandSubjectCh2\",\n",
    "    \"ShakeGestureWiimoteZ\",\n",
    "    \"ShapeletSim\",\n",
    "    \"ShapesAll\",\n",
    "    \"SharePriceIncrease\",\n",
    "    \"SmallKitchenAppliances\",\n",
    "    \"SmoothSubspace\",\n",
    "    \"SonyAIBORobotSurface1\",\n",
    "    \"SonyAIBORobotSurface2\",\n",
    "    \"SpokenArabicDigits\",\n",
    "    \"StandWalkJump\",\n",
    "    \"StarLightCurves\",\n",
    "    \"Strawberry\",\n",
    "    \"SwedishLeaf\",\n",
    "    \"Symbols\",\n",
    "    \"SyntheticControl\",\n",
    "    \"Tiselac\",\n",
    "    \"ToeSegmentation1\",\n",
    "    \"ToeSegmentation2\",\n",
    "    \"Trace\",\n",
    "    \"TwoLeadECG\",\n",
    "    \"TwoPatterns\",\n",
    "    \"UMD\",\n",
    "    \"UrbanSound\",\n",
    "    \"UWaveGestureLibrary\",\n",
    "    \"UWaveGestureLibraryAll\",\n",
    "    \"UWaveGestureLibraryX\",\n",
    "    \"UWaveGestureLibraryY\",\n",
    "    \"UWaveGestureLibraryZ\",\n",
    "    \"Wafer\",\n",
    "    \"Wine\",\n",
    "    \"WordSynonyms\",\n",
    "    \"Worms\",\n",
    "    \"WormsTwoClass\",\n",
    "    \"Yoga\"\n",
    "]\n",
    "f'len(dataset_names) = {len(dataset_names)}'"
   ]
  },
  {
   "cell_type": "code",
   "execution_count": 34,
   "id": "d5944232-324d-4917-8cd3-198db7426c9f",
   "metadata": {
    "tags": []
   },
   "outputs": [],
   "source": [
    "from sktime.datasets import load_from_tsfile\n",
    "from sktime.utils.plotting import plot_series"
   ]
  },
  {
   "cell_type": "code",
   "execution_count": 62,
   "id": "a6531f13-b723-4e0e-bb69-789d6e064162",
   "metadata": {
    "tags": []
   },
   "outputs": [],
   "source": [
    "def list_ts():\n",
    "    import os\n",
    "    return os.listdir('./Univariate_ts/')\n",
    "\n",
    "def load_ts(name, split='train'):\n",
    "    df,y = load_from_tsfile(f'./Univariate_ts/{name}/{name}_{split.upper()}.ts')\n",
    "    X = [\n",
    "        pd.concat(iter(df[col]), axis=1).to_numpy(dtype=np.float32)\n",
    "        for col in df\n",
    "    ]\n",
    "    X = np.transpose(np.stack(X), axes=[2,1,0])\n",
    "    y = y.astype(float).astype(int)\n",
    "    return X,y\n",
    "\n",
    "def load_train_test(name):\n",
    "    X_train, y_train = load_ts(name, split='train')\n",
    "    X_test, y_test = load_ts(name, split='test')\n",
    "    return X_train, X_test, y_train, y_test"
   ]
  },
  {
   "cell_type": "code",
   "execution_count": 65,
   "id": "56a3a1c6-3b42-4832-b21c-956a5e795634",
   "metadata": {
    "tags": []
   },
   "outputs": [],
   "source": [
    "X_train, X_test, y_train, y_test = load_train_test('ArrowHead')"
   ]
  },
  {
   "cell_type": "code",
   "execution_count": 66,
   "id": "5d3028c9-21d8-410f-81c3-0efcbff2decd",
   "metadata": {
    "tags": []
   },
   "outputs": [],
   "source": [
    "from sklearn import metrics, model_selection, ensemble"
   ]
  },
  {
   "cell_type": "code",
   "execution_count": 80,
   "id": "a1ffbebe-055b-44d3-a8b1-c321a902eb67",
   "metadata": {
    "tags": []
   },
   "outputs": [
    {
     "data": {
      "text/plain": [
       "9036"
      ]
     },
     "execution_count": 80,
     "metadata": {},
     "output_type": "execute_result"
    }
   ],
   "source": [
    "np.prod(X_train.shape)"
   ]
  },
  {
   "cell_type": "code",
   "execution_count": 105,
   "id": "c98c16e6-ba74-4605-a662-a522944a4dbb",
   "metadata": {
    "tags": []
   },
   "outputs": [],
   "source": [
    "def eval_clf(clf):\n",
    "    def make2d(x):\n",
    "        n, *_ = x.shape\n",
    "        return x.reshape(n, -1)\n",
    "    clf.fit(make2d(X_train), y_train)\n",
    "    print(metrics.classification_report(y_train, clf.predict(make2d(X_train))))\n",
    "    print(metrics.classification_report(y_test, clf.predict(make2d(X_test))))\n",
    "    return clf"
   ]
  },
  {
   "cell_type": "code",
   "execution_count": 108,
   "id": "6e43198a-9e41-4f9d-82cb-1389a4bfe7e8",
   "metadata": {
    "tags": []
   },
   "outputs": [
    {
     "name": "stdout",
     "output_type": "stream",
     "text": [
      "              precision    recall  f1-score   support\n",
      "\n",
      "           0       1.00      1.00      1.00        12\n",
      "           1       1.00      1.00      1.00        12\n",
      "           2       1.00      1.00      1.00        12\n",
      "\n",
      "    accuracy                           1.00        36\n",
      "   macro avg       1.00      1.00      1.00        36\n",
      "weighted avg       1.00      1.00      1.00        36\n",
      "\n",
      "              precision    recall  f1-score   support\n",
      "\n",
      "           0       0.90      0.62      0.74        69\n",
      "           1       0.71      0.68      0.69        53\n",
      "           2       0.53      0.75      0.62        53\n",
      "\n",
      "    accuracy                           0.68       175\n",
      "   macro avg       0.71      0.69      0.68       175\n",
      "weighted avg       0.73      0.68      0.69       175\n",
      "\n",
      "CPU times: user 340 ms, sys: 9.43 ms, total: 349 ms\n",
      "Wall time: 347 ms\n"
     ]
    },
    {
     "data": {
      "text/html": [
       "<style>#sk-container-id-2 {color: black;background-color: white;}#sk-container-id-2 pre{padding: 0;}#sk-container-id-2 div.sk-toggleable {background-color: white;}#sk-container-id-2 label.sk-toggleable__label {cursor: pointer;display: block;width: 100%;margin-bottom: 0;padding: 0.3em;box-sizing: border-box;text-align: center;}#sk-container-id-2 label.sk-toggleable__label-arrow:before {content: \"▸\";float: left;margin-right: 0.25em;color: #696969;}#sk-container-id-2 label.sk-toggleable__label-arrow:hover:before {color: black;}#sk-container-id-2 div.sk-estimator:hover label.sk-toggleable__label-arrow:before {color: black;}#sk-container-id-2 div.sk-toggleable__content {max-height: 0;max-width: 0;overflow: hidden;text-align: left;background-color: #f0f8ff;}#sk-container-id-2 div.sk-toggleable__content pre {margin: 0.2em;color: black;border-radius: 0.25em;background-color: #f0f8ff;}#sk-container-id-2 input.sk-toggleable__control:checked~div.sk-toggleable__content {max-height: 200px;max-width: 100%;overflow: auto;}#sk-container-id-2 input.sk-toggleable__control:checked~label.sk-toggleable__label-arrow:before {content: \"▾\";}#sk-container-id-2 div.sk-estimator input.sk-toggleable__control:checked~label.sk-toggleable__label {background-color: #d4ebff;}#sk-container-id-2 div.sk-label input.sk-toggleable__control:checked~label.sk-toggleable__label {background-color: #d4ebff;}#sk-container-id-2 input.sk-hidden--visually {border: 0;clip: rect(1px 1px 1px 1px);clip: rect(1px, 1px, 1px, 1px);height: 1px;margin: -1px;overflow: hidden;padding: 0;position: absolute;width: 1px;}#sk-container-id-2 div.sk-estimator {font-family: monospace;background-color: #f0f8ff;border: 1px dotted black;border-radius: 0.25em;box-sizing: border-box;margin-bottom: 0.5em;}#sk-container-id-2 div.sk-estimator:hover {background-color: #d4ebff;}#sk-container-id-2 div.sk-parallel-item::after {content: \"\";width: 100%;border-bottom: 1px solid gray;flex-grow: 1;}#sk-container-id-2 div.sk-label:hover label.sk-toggleable__label {background-color: #d4ebff;}#sk-container-id-2 div.sk-serial::before {content: \"\";position: absolute;border-left: 1px solid gray;box-sizing: border-box;top: 0;bottom: 0;left: 50%;z-index: 0;}#sk-container-id-2 div.sk-serial {display: flex;flex-direction: column;align-items: center;background-color: white;padding-right: 0.2em;padding-left: 0.2em;position: relative;}#sk-container-id-2 div.sk-item {position: relative;z-index: 1;}#sk-container-id-2 div.sk-parallel {display: flex;align-items: stretch;justify-content: center;background-color: white;position: relative;}#sk-container-id-2 div.sk-item::before, #sk-container-id-2 div.sk-parallel-item::before {content: \"\";position: absolute;border-left: 1px solid gray;box-sizing: border-box;top: 0;bottom: 0;left: 50%;z-index: -1;}#sk-container-id-2 div.sk-parallel-item {display: flex;flex-direction: column;z-index: 1;position: relative;background-color: white;}#sk-container-id-2 div.sk-parallel-item:first-child::after {align-self: flex-end;width: 50%;}#sk-container-id-2 div.sk-parallel-item:last-child::after {align-self: flex-start;width: 50%;}#sk-container-id-2 div.sk-parallel-item:only-child::after {width: 0;}#sk-container-id-2 div.sk-dashed-wrapped {border: 1px dashed gray;margin: 0 0.4em 0.5em 0.4em;box-sizing: border-box;padding-bottom: 0.4em;background-color: white;}#sk-container-id-2 div.sk-label label {font-family: monospace;font-weight: bold;display: inline-block;line-height: 1.2em;}#sk-container-id-2 div.sk-label-container {text-align: center;}#sk-container-id-2 div.sk-container {/* jupyter's `normalize.less` sets `[hidden] { display: none; }` but bootstrap.min.css set `[hidden] { display: none !important; }` so we also need the `!important` here to be able to override the default hidden behavior on the sphinx rendered scikit-learn.org. See: https://github.com/scikit-learn/scikit-learn/issues/21755 */display: inline-block !important;position: relative;}#sk-container-id-2 div.sk-text-repr-fallback {display: none;}</style><div id=\"sk-container-id-2\" class=\"sk-top-container\"><div class=\"sk-text-repr-fallback\"><pre>RandomForestClassifier()</pre><b>In a Jupyter environment, please rerun this cell to show the HTML representation or trust the notebook. <br />On GitHub, the HTML representation is unable to render, please try loading this page with nbviewer.org.</b></div><div class=\"sk-container\" hidden><div class=\"sk-item\"><div class=\"sk-estimator sk-toggleable\"><input class=\"sk-toggleable__control sk-hidden--visually\" id=\"sk-estimator-id-2\" type=\"checkbox\" checked><label for=\"sk-estimator-id-2\" class=\"sk-toggleable__label sk-toggleable__label-arrow\">RandomForestClassifier</label><div class=\"sk-toggleable__content\"><pre>RandomForestClassifier()</pre></div></div></div></div></div>"
      ],
      "text/plain": [
       "RandomForestClassifier()"
      ]
     },
     "execution_count": 108,
     "metadata": {},
     "output_type": "execute_result"
    }
   ],
   "source": [
    "%time eval_clf(ensemble.RandomForestClassifier(n_estimators=100))"
   ]
  },
  {
   "cell_type": "code",
   "execution_count": 110,
   "id": "48525aa1-bd85-4d9d-a871-c5b8ebba1e56",
   "metadata": {
    "tags": []
   },
   "outputs": [
    {
     "name": "stdout",
     "output_type": "stream",
     "text": [
      "              precision    recall  f1-score   support\n",
      "\n",
      "           0       1.00      1.00      1.00        12\n",
      "           1       1.00      1.00      1.00        12\n",
      "           2       1.00      1.00      1.00        12\n",
      "\n",
      "    accuracy                           1.00        36\n",
      "   macro avg       1.00      1.00      1.00        36\n",
      "weighted avg       1.00      1.00      1.00        36\n",
      "\n",
      "              precision    recall  f1-score   support\n",
      "\n",
      "           0       0.91      0.58      0.71        69\n",
      "           1       0.82      0.92      0.87        53\n",
      "           2       0.72      0.96      0.82        53\n",
      "\n",
      "    accuracy                           0.80       175\n",
      "   macro avg       0.81      0.82      0.80       175\n",
      "weighted avg       0.82      0.80      0.79       175\n",
      "\n",
      "CPU times: user 6.61 s, sys: 992 ms, total: 7.6 s\n",
      "Wall time: 6.33 s\n"
     ]
    },
    {
     "data": {
      "text/html": [
       "<style>#sk-container-id-4 {color: black;background-color: white;}#sk-container-id-4 pre{padding: 0;}#sk-container-id-4 div.sk-toggleable {background-color: white;}#sk-container-id-4 label.sk-toggleable__label {cursor: pointer;display: block;width: 100%;margin-bottom: 0;padding: 0.3em;box-sizing: border-box;text-align: center;}#sk-container-id-4 label.sk-toggleable__label-arrow:before {content: \"▸\";float: left;margin-right: 0.25em;color: #696969;}#sk-container-id-4 label.sk-toggleable__label-arrow:hover:before {color: black;}#sk-container-id-4 div.sk-estimator:hover label.sk-toggleable__label-arrow:before {color: black;}#sk-container-id-4 div.sk-toggleable__content {max-height: 0;max-width: 0;overflow: hidden;text-align: left;background-color: #f0f8ff;}#sk-container-id-4 div.sk-toggleable__content pre {margin: 0.2em;color: black;border-radius: 0.25em;background-color: #f0f8ff;}#sk-container-id-4 input.sk-toggleable__control:checked~div.sk-toggleable__content {max-height: 200px;max-width: 100%;overflow: auto;}#sk-container-id-4 input.sk-toggleable__control:checked~label.sk-toggleable__label-arrow:before {content: \"▾\";}#sk-container-id-4 div.sk-estimator input.sk-toggleable__control:checked~label.sk-toggleable__label {background-color: #d4ebff;}#sk-container-id-4 div.sk-label input.sk-toggleable__control:checked~label.sk-toggleable__label {background-color: #d4ebff;}#sk-container-id-4 input.sk-hidden--visually {border: 0;clip: rect(1px 1px 1px 1px);clip: rect(1px, 1px, 1px, 1px);height: 1px;margin: -1px;overflow: hidden;padding: 0;position: absolute;width: 1px;}#sk-container-id-4 div.sk-estimator {font-family: monospace;background-color: #f0f8ff;border: 1px dotted black;border-radius: 0.25em;box-sizing: border-box;margin-bottom: 0.5em;}#sk-container-id-4 div.sk-estimator:hover {background-color: #d4ebff;}#sk-container-id-4 div.sk-parallel-item::after {content: \"\";width: 100%;border-bottom: 1px solid gray;flex-grow: 1;}#sk-container-id-4 div.sk-label:hover label.sk-toggleable__label {background-color: #d4ebff;}#sk-container-id-4 div.sk-serial::before {content: \"\";position: absolute;border-left: 1px solid gray;box-sizing: border-box;top: 0;bottom: 0;left: 50%;z-index: 0;}#sk-container-id-4 div.sk-serial {display: flex;flex-direction: column;align-items: center;background-color: white;padding-right: 0.2em;padding-left: 0.2em;position: relative;}#sk-container-id-4 div.sk-item {position: relative;z-index: 1;}#sk-container-id-4 div.sk-parallel {display: flex;align-items: stretch;justify-content: center;background-color: white;position: relative;}#sk-container-id-4 div.sk-item::before, #sk-container-id-4 div.sk-parallel-item::before {content: \"\";position: absolute;border-left: 1px solid gray;box-sizing: border-box;top: 0;bottom: 0;left: 50%;z-index: -1;}#sk-container-id-4 div.sk-parallel-item {display: flex;flex-direction: column;z-index: 1;position: relative;background-color: white;}#sk-container-id-4 div.sk-parallel-item:first-child::after {align-self: flex-end;width: 50%;}#sk-container-id-4 div.sk-parallel-item:last-child::after {align-self: flex-start;width: 50%;}#sk-container-id-4 div.sk-parallel-item:only-child::after {width: 0;}#sk-container-id-4 div.sk-dashed-wrapped {border: 1px dashed gray;margin: 0 0.4em 0.5em 0.4em;box-sizing: border-box;padding-bottom: 0.4em;background-color: white;}#sk-container-id-4 div.sk-label label {font-family: monospace;font-weight: bold;display: inline-block;line-height: 1.2em;}#sk-container-id-4 div.sk-label-container {text-align: center;}#sk-container-id-4 div.sk-container {/* jupyter's `normalize.less` sets `[hidden] { display: none; }` but bootstrap.min.css set `[hidden] { display: none !important; }` so we also need the `!important` here to be able to override the default hidden behavior on the sphinx rendered scikit-learn.org. See: https://github.com/scikit-learn/scikit-learn/issues/21755 */display: inline-block !important;position: relative;}#sk-container-id-4 div.sk-text-repr-fallback {display: none;}</style><div id=\"sk-container-id-4\" class=\"sk-top-container\"><div class=\"sk-text-repr-fallback\"><pre>RocketClassifier(num_kernels=2000)</pre><b>In a Jupyter environment, please rerun this cell to show the HTML representation or trust the notebook. <br />On GitHub, the HTML representation is unable to render, please try loading this page with nbviewer.org.</b></div><div class=\"sk-container\" hidden><div class=\"sk-item\"><div class=\"sk-estimator sk-toggleable\"><input class=\"sk-toggleable__control sk-hidden--visually\" id=\"sk-estimator-id-4\" type=\"checkbox\" checked><label for=\"sk-estimator-id-4\" class=\"sk-toggleable__label sk-toggleable__label-arrow\">RocketClassifier</label><div class=\"sk-toggleable__content\"><pre>RocketClassifier(num_kernels=2000)</pre></div></div></div></div></div>"
      ],
      "text/plain": [
       "RocketClassifier(num_kernels=2000)"
      ]
     },
     "execution_count": 110,
     "metadata": {},
     "output_type": "execute_result"
    }
   ],
   "source": [
    "from sktime.classification import kernel_based\n",
    "%time eval_clf(kernel_based.RocketClassifier(num_kernels=2000))"
   ]
  },
  {
   "cell_type": "code",
   "execution_count": 111,
   "id": "6b290169-7839-4c24-b7fb-a2a81b3c477d",
   "metadata": {
    "tags": []
   },
   "outputs": [
    {
     "name": "stdout",
     "output_type": "stream",
     "text": [
      "              precision    recall  f1-score   support\n",
      "\n",
      "           0       1.00      1.00      1.00        12\n",
      "           1       1.00      1.00      1.00        12\n",
      "           2       1.00      1.00      1.00        12\n",
      "\n",
      "    accuracy                           1.00        36\n",
      "   macro avg       1.00      1.00      1.00        36\n",
      "weighted avg       1.00      1.00      1.00        36\n",
      "\n",
      "              precision    recall  f1-score   support\n",
      "\n",
      "           0       0.90      0.80      0.85        69\n",
      "           1       0.77      0.91      0.83        53\n",
      "           2       0.96      0.94      0.95        53\n",
      "\n",
      "    accuracy                           0.87       175\n",
      "   macro avg       0.88      0.88      0.88       175\n",
      "weighted avg       0.88      0.87      0.87       175\n",
      "\n",
      "CPU times: user 58.7 s, sys: 6.38 s, total: 1min 5s\n",
      "Wall time: 56.1 s\n"
     ]
    },
    {
     "data": {
      "text/html": [
       "<style>#sk-container-id-5 {color: black;background-color: white;}#sk-container-id-5 pre{padding: 0;}#sk-container-id-5 div.sk-toggleable {background-color: white;}#sk-container-id-5 label.sk-toggleable__label {cursor: pointer;display: block;width: 100%;margin-bottom: 0;padding: 0.3em;box-sizing: border-box;text-align: center;}#sk-container-id-5 label.sk-toggleable__label-arrow:before {content: \"▸\";float: left;margin-right: 0.25em;color: #696969;}#sk-container-id-5 label.sk-toggleable__label-arrow:hover:before {color: black;}#sk-container-id-5 div.sk-estimator:hover label.sk-toggleable__label-arrow:before {color: black;}#sk-container-id-5 div.sk-toggleable__content {max-height: 0;max-width: 0;overflow: hidden;text-align: left;background-color: #f0f8ff;}#sk-container-id-5 div.sk-toggleable__content pre {margin: 0.2em;color: black;border-radius: 0.25em;background-color: #f0f8ff;}#sk-container-id-5 input.sk-toggleable__control:checked~div.sk-toggleable__content {max-height: 200px;max-width: 100%;overflow: auto;}#sk-container-id-5 input.sk-toggleable__control:checked~label.sk-toggleable__label-arrow:before {content: \"▾\";}#sk-container-id-5 div.sk-estimator input.sk-toggleable__control:checked~label.sk-toggleable__label {background-color: #d4ebff;}#sk-container-id-5 div.sk-label input.sk-toggleable__control:checked~label.sk-toggleable__label {background-color: #d4ebff;}#sk-container-id-5 input.sk-hidden--visually {border: 0;clip: rect(1px 1px 1px 1px);clip: rect(1px, 1px, 1px, 1px);height: 1px;margin: -1px;overflow: hidden;padding: 0;position: absolute;width: 1px;}#sk-container-id-5 div.sk-estimator {font-family: monospace;background-color: #f0f8ff;border: 1px dotted black;border-radius: 0.25em;box-sizing: border-box;margin-bottom: 0.5em;}#sk-container-id-5 div.sk-estimator:hover {background-color: #d4ebff;}#sk-container-id-5 div.sk-parallel-item::after {content: \"\";width: 100%;border-bottom: 1px solid gray;flex-grow: 1;}#sk-container-id-5 div.sk-label:hover label.sk-toggleable__label {background-color: #d4ebff;}#sk-container-id-5 div.sk-serial::before {content: \"\";position: absolute;border-left: 1px solid gray;box-sizing: border-box;top: 0;bottom: 0;left: 50%;z-index: 0;}#sk-container-id-5 div.sk-serial {display: flex;flex-direction: column;align-items: center;background-color: white;padding-right: 0.2em;padding-left: 0.2em;position: relative;}#sk-container-id-5 div.sk-item {position: relative;z-index: 1;}#sk-container-id-5 div.sk-parallel {display: flex;align-items: stretch;justify-content: center;background-color: white;position: relative;}#sk-container-id-5 div.sk-item::before, #sk-container-id-5 div.sk-parallel-item::before {content: \"\";position: absolute;border-left: 1px solid gray;box-sizing: border-box;top: 0;bottom: 0;left: 50%;z-index: -1;}#sk-container-id-5 div.sk-parallel-item {display: flex;flex-direction: column;z-index: 1;position: relative;background-color: white;}#sk-container-id-5 div.sk-parallel-item:first-child::after {align-self: flex-end;width: 50%;}#sk-container-id-5 div.sk-parallel-item:last-child::after {align-self: flex-start;width: 50%;}#sk-container-id-5 div.sk-parallel-item:only-child::after {width: 0;}#sk-container-id-5 div.sk-dashed-wrapped {border: 1px dashed gray;margin: 0 0.4em 0.5em 0.4em;box-sizing: border-box;padding-bottom: 0.4em;background-color: white;}#sk-container-id-5 div.sk-label label {font-family: monospace;font-weight: bold;display: inline-block;line-height: 1.2em;}#sk-container-id-5 div.sk-label-container {text-align: center;}#sk-container-id-5 div.sk-container {/* jupyter's `normalize.less` sets `[hidden] { display: none; }` but bootstrap.min.css set `[hidden] { display: none !important; }` so we also need the `!important` here to be able to override the default hidden behavior on the sphinx rendered scikit-learn.org. See: https://github.com/scikit-learn/scikit-learn/issues/21755 */display: inline-block !important;position: relative;}#sk-container-id-5 div.sk-text-repr-fallback {display: none;}</style><div id=\"sk-container-id-5\" class=\"sk-top-container\"><div class=\"sk-text-repr-fallback\"><pre>HIVECOTEV2(time_limit_in_minutes=0.2)</pre><b>In a Jupyter environment, please rerun this cell to show the HTML representation or trust the notebook. <br />On GitHub, the HTML representation is unable to render, please try loading this page with nbviewer.org.</b></div><div class=\"sk-container\" hidden><div class=\"sk-item\"><div class=\"sk-estimator sk-toggleable\"><input class=\"sk-toggleable__control sk-hidden--visually\" id=\"sk-estimator-id-5\" type=\"checkbox\" checked><label for=\"sk-estimator-id-5\" class=\"sk-toggleable__label sk-toggleable__label-arrow\">HIVECOTEV2</label><div class=\"sk-toggleable__content\"><pre>HIVECOTEV2(time_limit_in_minutes=0.2)</pre></div></div></div></div></div>"
      ],
      "text/plain": [
       "HIVECOTEV2(time_limit_in_minutes=0.2)"
      ]
     },
     "execution_count": 111,
     "metadata": {},
     "output_type": "execute_result"
    }
   ],
   "source": [
    "from sktime.classification import hybrid\n",
    "%time eval_clf(hybrid.HIVECOTEV2(time_limit_in_minutes=.2))"
   ]
  },
  {
   "cell_type": "code",
   "execution_count": 115,
   "id": "81ea5de3-a99e-4edb-a046-6c3692d8eb12",
   "metadata": {
    "tags": []
   },
   "outputs": [
    {
     "name": "stdout",
     "output_type": "stream",
     "text": [
      "              precision    recall  f1-score   support\n",
      "\n",
      "           0       1.00      1.00      1.00        12\n",
      "           1       1.00      1.00      1.00        12\n",
      "           2       1.00      1.00      1.00        12\n",
      "\n",
      "    accuracy                           1.00        36\n",
      "   macro avg       1.00      1.00      1.00        36\n",
      "weighted avg       1.00      1.00      1.00        36\n",
      "\n",
      "              precision    recall  f1-score   support\n",
      "\n",
      "           0       0.84      0.68      0.75        69\n",
      "           1       0.69      0.62      0.65        53\n",
      "           2       0.59      0.79      0.68        53\n",
      "\n",
      "    accuracy                           0.70       175\n",
      "   macro avg       0.71      0.70      0.69       175\n",
      "weighted avg       0.72      0.70      0.70       175\n",
      "\n",
      "CPU times: user 4.74 s, sys: 15.1 ms, total: 4.75 s\n",
      "Wall time: 4.75 s\n"
     ]
    },
    {
     "data": {
      "text/html": [
       "<style>#sk-container-id-6 {color: black;background-color: white;}#sk-container-id-6 pre{padding: 0;}#sk-container-id-6 div.sk-toggleable {background-color: white;}#sk-container-id-6 label.sk-toggleable__label {cursor: pointer;display: block;width: 100%;margin-bottom: 0;padding: 0.3em;box-sizing: border-box;text-align: center;}#sk-container-id-6 label.sk-toggleable__label-arrow:before {content: \"▸\";float: left;margin-right: 0.25em;color: #696969;}#sk-container-id-6 label.sk-toggleable__label-arrow:hover:before {color: black;}#sk-container-id-6 div.sk-estimator:hover label.sk-toggleable__label-arrow:before {color: black;}#sk-container-id-6 div.sk-toggleable__content {max-height: 0;max-width: 0;overflow: hidden;text-align: left;background-color: #f0f8ff;}#sk-container-id-6 div.sk-toggleable__content pre {margin: 0.2em;color: black;border-radius: 0.25em;background-color: #f0f8ff;}#sk-container-id-6 input.sk-toggleable__control:checked~div.sk-toggleable__content {max-height: 200px;max-width: 100%;overflow: auto;}#sk-container-id-6 input.sk-toggleable__control:checked~label.sk-toggleable__label-arrow:before {content: \"▾\";}#sk-container-id-6 div.sk-estimator input.sk-toggleable__control:checked~label.sk-toggleable__label {background-color: #d4ebff;}#sk-container-id-6 div.sk-label input.sk-toggleable__control:checked~label.sk-toggleable__label {background-color: #d4ebff;}#sk-container-id-6 input.sk-hidden--visually {border: 0;clip: rect(1px 1px 1px 1px);clip: rect(1px, 1px, 1px, 1px);height: 1px;margin: -1px;overflow: hidden;padding: 0;position: absolute;width: 1px;}#sk-container-id-6 div.sk-estimator {font-family: monospace;background-color: #f0f8ff;border: 1px dotted black;border-radius: 0.25em;box-sizing: border-box;margin-bottom: 0.5em;}#sk-container-id-6 div.sk-estimator:hover {background-color: #d4ebff;}#sk-container-id-6 div.sk-parallel-item::after {content: \"\";width: 100%;border-bottom: 1px solid gray;flex-grow: 1;}#sk-container-id-6 div.sk-label:hover label.sk-toggleable__label {background-color: #d4ebff;}#sk-container-id-6 div.sk-serial::before {content: \"\";position: absolute;border-left: 1px solid gray;box-sizing: border-box;top: 0;bottom: 0;left: 50%;z-index: 0;}#sk-container-id-6 div.sk-serial {display: flex;flex-direction: column;align-items: center;background-color: white;padding-right: 0.2em;padding-left: 0.2em;position: relative;}#sk-container-id-6 div.sk-item {position: relative;z-index: 1;}#sk-container-id-6 div.sk-parallel {display: flex;align-items: stretch;justify-content: center;background-color: white;position: relative;}#sk-container-id-6 div.sk-item::before, #sk-container-id-6 div.sk-parallel-item::before {content: \"\";position: absolute;border-left: 1px solid gray;box-sizing: border-box;top: 0;bottom: 0;left: 50%;z-index: -1;}#sk-container-id-6 div.sk-parallel-item {display: flex;flex-direction: column;z-index: 1;position: relative;background-color: white;}#sk-container-id-6 div.sk-parallel-item:first-child::after {align-self: flex-end;width: 50%;}#sk-container-id-6 div.sk-parallel-item:last-child::after {align-self: flex-start;width: 50%;}#sk-container-id-6 div.sk-parallel-item:only-child::after {width: 0;}#sk-container-id-6 div.sk-dashed-wrapped {border: 1px dashed gray;margin: 0 0.4em 0.5em 0.4em;box-sizing: border-box;padding-bottom: 0.4em;background-color: white;}#sk-container-id-6 div.sk-label label {font-family: monospace;font-weight: bold;display: inline-block;line-height: 1.2em;}#sk-container-id-6 div.sk-label-container {text-align: center;}#sk-container-id-6 div.sk-container {/* jupyter's `normalize.less` sets `[hidden] { display: none; }` but bootstrap.min.css set `[hidden] { display: none !important; }` so we also need the `!important` here to be able to override the default hidden behavior on the sphinx rendered scikit-learn.org. See: https://github.com/scikit-learn/scikit-learn/issues/21755 */display: inline-block !important;position: relative;}#sk-container-id-6 div.sk-text-repr-fallback {display: none;}</style><div id=\"sk-container-id-6\" class=\"sk-top-container\"><div class=\"sk-text-repr-fallback\"><pre>SklearnClassifierPipeline(classifier=RandomForestClassifier(),\n",
       "                          transformers=[Catch22()])</pre><b>In a Jupyter environment, please rerun this cell to show the HTML representation or trust the notebook. <br />On GitHub, the HTML representation is unable to render, please try loading this page with nbviewer.org.</b></div><div class=\"sk-container\" hidden><div class=\"sk-item sk-dashed-wrapped\"><div class=\"sk-label-container\"><div class=\"sk-label sk-toggleable\"><input class=\"sk-toggleable__control sk-hidden--visually\" id=\"sk-estimator-id-6\" type=\"checkbox\" ><label for=\"sk-estimator-id-6\" class=\"sk-toggleable__label sk-toggleable__label-arrow\">SklearnClassifierPipeline</label><div class=\"sk-toggleable__content\"><pre>SklearnClassifierPipeline(classifier=RandomForestClassifier(),\n",
       "                          transformers=[Catch22()])</pre></div></div></div><div class=\"sk-parallel\"><div class=\"sk-parallel-item\"><div class=\"sk-item\"><div class=\"sk-label-container\"><div class=\"sk-label sk-toggleable\"><input class=\"sk-toggleable__control sk-hidden--visually\" id=\"sk-estimator-id-7\" type=\"checkbox\" ><label for=\"sk-estimator-id-7\" class=\"sk-toggleable__label sk-toggleable__label-arrow\">classifier: RandomForestClassifier</label><div class=\"sk-toggleable__content\"><pre>RandomForestClassifier()</pre></div></div></div><div class=\"sk-serial\"><div class=\"sk-item\"><div class=\"sk-estimator sk-toggleable\"><input class=\"sk-toggleable__control sk-hidden--visually\" id=\"sk-estimator-id-8\" type=\"checkbox\" ><label for=\"sk-estimator-id-8\" class=\"sk-toggleable__label sk-toggleable__label-arrow\">RandomForestClassifier</label><div class=\"sk-toggleable__content\"><pre>RandomForestClassifier()</pre></div></div></div></div></div></div></div></div></div></div>"
      ],
      "text/plain": [
       "SklearnClassifierPipeline(classifier=RandomForestClassifier(),\n",
       "                          transformers=[Catch22()])"
      ]
     },
     "execution_count": 115,
     "metadata": {},
     "output_type": "execute_result"
    }
   ],
   "source": [
    "from sklearn.ensemble import RandomForestClassifier\n",
    "from sktime.pipeline import make_pipeline\n",
    "from sktime.transformations.panel.catch22 import Catch22\n",
    "clf = make_pipeline(\n",
    "    Catch22(),\n",
    "    RandomForestClassifier(n_estimators=100)\n",
    ")\n",
    "%time eval_clf(clf)"
   ]
  },
  {
   "cell_type": "code",
   "execution_count": 116,
   "id": "22cf0954-f42b-4baa-b1ea-468d7f4fb800",
   "metadata": {
    "tags": []
   },
   "outputs": [
    {
     "name": "stdout",
     "output_type": "stream",
     "text": [
      "              precision    recall  f1-score   support\n",
      "\n",
      "           0       1.00      1.00      1.00        12\n",
      "           1       1.00      1.00      1.00        12\n",
      "           2       1.00      1.00      1.00        12\n",
      "\n",
      "    accuracy                           1.00        36\n",
      "   macro avg       1.00      1.00      1.00        36\n",
      "weighted avg       1.00      1.00      1.00        36\n",
      "\n",
      "              precision    recall  f1-score   support\n",
      "\n",
      "           0       0.94      0.65      0.77        69\n",
      "           1       0.79      0.92      0.85        53\n",
      "           2       0.77      0.94      0.85        53\n",
      "\n",
      "    accuracy                           0.82       175\n",
      "   macro avg       0.83      0.84      0.82       175\n",
      "weighted avg       0.84      0.82      0.82       175\n",
      "\n",
      "CPU times: user 8.1 s, sys: 907 ms, total: 9.01 s\n",
      "Wall time: 7.66 s\n"
     ]
    },
    {
     "data": {
      "text/html": [
       "<style>#sk-container-id-7 {color: black;background-color: white;}#sk-container-id-7 pre{padding: 0;}#sk-container-id-7 div.sk-toggleable {background-color: white;}#sk-container-id-7 label.sk-toggleable__label {cursor: pointer;display: block;width: 100%;margin-bottom: 0;padding: 0.3em;box-sizing: border-box;text-align: center;}#sk-container-id-7 label.sk-toggleable__label-arrow:before {content: \"▸\";float: left;margin-right: 0.25em;color: #696969;}#sk-container-id-7 label.sk-toggleable__label-arrow:hover:before {color: black;}#sk-container-id-7 div.sk-estimator:hover label.sk-toggleable__label-arrow:before {color: black;}#sk-container-id-7 div.sk-toggleable__content {max-height: 0;max-width: 0;overflow: hidden;text-align: left;background-color: #f0f8ff;}#sk-container-id-7 div.sk-toggleable__content pre {margin: 0.2em;color: black;border-radius: 0.25em;background-color: #f0f8ff;}#sk-container-id-7 input.sk-toggleable__control:checked~div.sk-toggleable__content {max-height: 200px;max-width: 100%;overflow: auto;}#sk-container-id-7 input.sk-toggleable__control:checked~label.sk-toggleable__label-arrow:before {content: \"▾\";}#sk-container-id-7 div.sk-estimator input.sk-toggleable__control:checked~label.sk-toggleable__label {background-color: #d4ebff;}#sk-container-id-7 div.sk-label input.sk-toggleable__control:checked~label.sk-toggleable__label {background-color: #d4ebff;}#sk-container-id-7 input.sk-hidden--visually {border: 0;clip: rect(1px 1px 1px 1px);clip: rect(1px, 1px, 1px, 1px);height: 1px;margin: -1px;overflow: hidden;padding: 0;position: absolute;width: 1px;}#sk-container-id-7 div.sk-estimator {font-family: monospace;background-color: #f0f8ff;border: 1px dotted black;border-radius: 0.25em;box-sizing: border-box;margin-bottom: 0.5em;}#sk-container-id-7 div.sk-estimator:hover {background-color: #d4ebff;}#sk-container-id-7 div.sk-parallel-item::after {content: \"\";width: 100%;border-bottom: 1px solid gray;flex-grow: 1;}#sk-container-id-7 div.sk-label:hover label.sk-toggleable__label {background-color: #d4ebff;}#sk-container-id-7 div.sk-serial::before {content: \"\";position: absolute;border-left: 1px solid gray;box-sizing: border-box;top: 0;bottom: 0;left: 50%;z-index: 0;}#sk-container-id-7 div.sk-serial {display: flex;flex-direction: column;align-items: center;background-color: white;padding-right: 0.2em;padding-left: 0.2em;position: relative;}#sk-container-id-7 div.sk-item {position: relative;z-index: 1;}#sk-container-id-7 div.sk-parallel {display: flex;align-items: stretch;justify-content: center;background-color: white;position: relative;}#sk-container-id-7 div.sk-item::before, #sk-container-id-7 div.sk-parallel-item::before {content: \"\";position: absolute;border-left: 1px solid gray;box-sizing: border-box;top: 0;bottom: 0;left: 50%;z-index: -1;}#sk-container-id-7 div.sk-parallel-item {display: flex;flex-direction: column;z-index: 1;position: relative;background-color: white;}#sk-container-id-7 div.sk-parallel-item:first-child::after {align-self: flex-end;width: 50%;}#sk-container-id-7 div.sk-parallel-item:last-child::after {align-self: flex-start;width: 50%;}#sk-container-id-7 div.sk-parallel-item:only-child::after {width: 0;}#sk-container-id-7 div.sk-dashed-wrapped {border: 1px dashed gray;margin: 0 0.4em 0.5em 0.4em;box-sizing: border-box;padding-bottom: 0.4em;background-color: white;}#sk-container-id-7 div.sk-label label {font-family: monospace;font-weight: bold;display: inline-block;line-height: 1.2em;}#sk-container-id-7 div.sk-label-container {text-align: center;}#sk-container-id-7 div.sk-container {/* jupyter's `normalize.less` sets `[hidden] { display: none; }` but bootstrap.min.css set `[hidden] { display: none !important; }` so we also need the `!important` here to be able to override the default hidden behavior on the sphinx rendered scikit-learn.org. See: https://github.com/scikit-learn/scikit-learn/issues/21755 */display: inline-block !important;position: relative;}#sk-container-id-7 div.sk-text-repr-fallback {display: none;}</style><div id=\"sk-container-id-7\" class=\"sk-top-container\"><div class=\"sk-text-repr-fallback\"><pre>ClassifierPipeline(classifier=RocketClassifier(num_kernels=2000),\n",
       "                   transformers=[ExponentTransformer(power=2)])</pre><b>In a Jupyter environment, please rerun this cell to show the HTML representation or trust the notebook. <br />On GitHub, the HTML representation is unable to render, please try loading this page with nbviewer.org.</b></div><div class=\"sk-container\" hidden><div class=\"sk-item sk-dashed-wrapped\"><div class=\"sk-label-container\"><div class=\"sk-label sk-toggleable\"><input class=\"sk-toggleable__control sk-hidden--visually\" id=\"sk-estimator-id-9\" type=\"checkbox\" ><label for=\"sk-estimator-id-9\" class=\"sk-toggleable__label sk-toggleable__label-arrow\">ClassifierPipeline</label><div class=\"sk-toggleable__content\"><pre>ClassifierPipeline(classifier=RocketClassifier(num_kernels=2000),\n",
       "                   transformers=[ExponentTransformer(power=2)])</pre></div></div></div><div class=\"sk-parallel\"><div class=\"sk-parallel-item\"><div class=\"sk-item\"><div class=\"sk-label-container\"><div class=\"sk-label sk-toggleable\"><input class=\"sk-toggleable__control sk-hidden--visually\" id=\"sk-estimator-id-10\" type=\"checkbox\" ><label for=\"sk-estimator-id-10\" class=\"sk-toggleable__label sk-toggleable__label-arrow\">classifier: RocketClassifier</label><div class=\"sk-toggleable__content\"><pre>RocketClassifier(num_kernels=2000)</pre></div></div></div><div class=\"sk-serial\"><div class=\"sk-item\"><div class=\"sk-estimator sk-toggleable\"><input class=\"sk-toggleable__control sk-hidden--visually\" id=\"sk-estimator-id-11\" type=\"checkbox\" ><label for=\"sk-estimator-id-11\" class=\"sk-toggleable__label sk-toggleable__label-arrow\">RocketClassifier</label><div class=\"sk-toggleable__content\"><pre>RocketClassifier(num_kernels=2000)</pre></div></div></div></div></div></div></div></div></div></div>"
      ],
      "text/plain": [
       "ClassifierPipeline(classifier=RocketClassifier(num_kernels=2000),\n",
       "                   transformers=[ExponentTransformer(power=2)])"
      ]
     },
     "execution_count": 116,
     "metadata": {},
     "output_type": "execute_result"
    }
   ],
   "source": [
    "from sktime.classification.kernel_based import RocketClassifier\n",
    "from sktime.transformations.series.exponent import ExponentTransformer\n",
    "pipe = ExponentTransformer(power=2) \\\n",
    "    * RocketClassifier(num_kernels=2000)\n",
    "%time eval_clf(pipe)"
   ]
  },
  {
   "cell_type": "code",
   "execution_count": 131,
   "id": "a824e571-bf99-4158-bb0e-6e0d1695f626",
   "metadata": {
    "tags": []
   },
   "outputs": [
    {
     "data": {
      "text/plain": [
       "array([0.16666667, 0.16666667, 0.16666667])"
      ]
     },
     "execution_count": 131,
     "metadata": {},
     "output_type": "execute_result"
    }
   ],
   "source": [
    "from sklearn.metrics import f1_score\n",
    "from sklearn.model_selection import StratifiedKFold, cross_val_score, GridSearchCV\n",
    "\n",
    "def score(clf,X,y):\n",
    "    return f1_score(y, clf.predict(X), average='weighted')\n",
    "clf = RocketClassifier(num_kernels=1000)\n",
    "cross_val_score(clf, X_train, y=y_train, cv=StratifiedKFold(3), scoring=score)"
   ]
  },
  {
   "cell_type": "code",
   "execution_count": 146,
   "id": "a0fbd68c-80df-448b-9a0b-efeb92b9dd06",
   "metadata": {
    "tags": []
   },
   "outputs": [
    {
     "data": {
      "text/plain": [
       "Counter({0: 8, 1: 8, 2: 8})"
      ]
     },
     "execution_count": 146,
     "metadata": {},
     "output_type": "execute_result"
    }
   ],
   "source": [
    "cv = StratifiedKFold(3)\n",
    "Counter(y_train[next(cv.split(X_train, y_train))[0]])"
   ]
  },
  {
   "cell_type": "code",
   "execution_count": 142,
   "id": "2eb53dc9-0f3f-4722-9594-8b3790d11a0b",
   "metadata": {
    "tags": []
   },
   "outputs": [
    {
     "data": {
      "text/plain": [
       "(Counter({0: 12, 1: 12, 2: 12}), Counter({0: 69, 1: 53, 2: 53}))"
      ]
     },
     "execution_count": 142,
     "metadata": {},
     "output_type": "execute_result"
    }
   ],
   "source": [
    "from collections import Counter\n",
    "Counter(y_train), Counter(y_test)"
   ]
  },
  {
   "cell_type": "code",
   "execution_count": null,
   "id": "4a2effe6-85c8-4460-8962-072f6e0e0c44",
   "metadata": {},
   "outputs": [],
   "source": []
  },
  {
   "cell_type": "code",
   "execution_count": null,
   "id": "dd3efdcc-81af-4cb3-80fe-f23d0bc757ca",
   "metadata": {},
   "outputs": [],
   "source": []
  },
  {
   "cell_type": "code",
   "execution_count": null,
   "id": "6f5cbf56-bd3a-4fdc-843c-830c35ee44fe",
   "metadata": {},
   "outputs": [],
   "source": []
  },
  {
   "cell_type": "code",
   "execution_count": null,
   "id": "67854fb6-a4f9-49e0-b445-868eed49c59e",
   "metadata": {},
   "outputs": [],
   "source": []
  },
  {
   "cell_type": "code",
   "execution_count": null,
   "id": "05cbe2bc-2c08-474a-b66e-be464c1b36ed",
   "metadata": {},
   "outputs": [],
   "source": []
  },
  {
   "cell_type": "code",
   "execution_count": null,
   "id": "5c386698-58c1-4b33-9274-50398db320d0",
   "metadata": {},
   "outputs": [],
   "source": []
  },
  {
   "cell_type": "code",
   "execution_count": null,
   "id": "24148148-067d-4d84-aee5-c8bea22d0457",
   "metadata": {},
   "outputs": [],
   "source": []
  },
  {
   "cell_type": "code",
   "execution_count": 101,
   "id": "56a1c74c-116d-40c2-9608-353e902ef6c6",
   "metadata": {},
   "outputs": [],
   "source": [
    "class Own(BaseForecaster):\n",
    "    _tags = {\n",
    "        'requires-fh-in-fit': False,\n",
    "    }\n",
    "    def __init__(self):\n",
    "        # super(Own, self).__init__()\n",
    "        super().__init__()\n",
    "    \n",
    "    def _fit(self, y, X, fh):\n",
    "        self.last = y[-1]\n",
    "        \n",
    "    def _predict(self, fh, X):\n",
    "        index = fh.to_absolute(self.cutoff)\n",
    "        return pd.Series(np.repeat(self.last, len(fh)), index)\n",
    "    \n",
    "    \n"
   ]
  },
  {
   "cell_type": "code",
   "execution_count": 102,
   "id": "91b5579d-793d-4813-af46-0d64471e78cb",
   "metadata": {},
   "outputs": [
    {
     "data": {
      "text/plain": [
       "1961-01    432.0\n",
       "1961-02    432.0\n",
       "1961-03    432.0\n",
       "1961-04    432.0\n",
       "1961-05    432.0\n",
       "1961-06    432.0\n",
       "1961-07    432.0\n",
       "1961-08    432.0\n",
       "1961-09    432.0\n",
       "Freq: M, dtype: float64"
      ]
     },
     "execution_count": 102,
     "metadata": {},
     "output_type": "execute_result"
    }
   ],
   "source": [
    "y = datasets.load_airline()\n",
    "fh = np.arange(1,10)\n",
    "model = Own()# NaiveForecaster(strategy='last')\n",
    "model.fit(y)\n",
    "y_pred = model.predict(fh)\n",
    "y_pred"
   ]
  },
  {
   "cell_type": "code",
   "execution_count": 103,
   "id": "720567f7-1418-4375-8db1-08af42a6fe8d",
   "metadata": {},
   "outputs": [
    {
     "data": {
      "text/plain": [
       "(<Figure size 1600x400 with 1 Axes>,\n",
       " <Axes: ylabel='Number of airline passengers'>)"
      ]
     },
     "execution_count": 103,
     "metadata": {},
     "output_type": "execute_result"
    },
    {
     "data": {
      "image/png": "[encoded data removed]",
      "text/plain": [
       "<Figure size 1600x400 with 1 Axes>"
      ]
     },
     "metadata": {},
     "output_type": "display_data"
    }
   ],
   "source": [
    "plot_series(y,y_pred, labels=['y','y_pred'])"
   ]
  },
  {
   "cell_type": "code",
   "execution_count": null,
   "id": "22765310-1c73-43a1-b40c-0bcb88d83af6",
   "metadata": {},
   "outputs": [],
   "source": []
  },
  {
   "cell_type": "code",
   "execution_count": null,
   "id": "038dd7fe-b68f-430d-9144-86d51700b4ec",
   "metadata": {},
   "outputs": [],
   "source": []
  },
  {
   "cell_type": "code",
   "execution_count": null,
   "id": "4191f640-07f8-4b40-991a-812aaa24c344",
   "metadata": {},
   "outputs": [],
   "source": []
  }
 ],
 "metadata": {
  "kernelspec": {
   "display_name": "Python 3 (ipykernel)",
   "language": "python",
   "name": "python3"
  },
  "language_info": {
   "codemirror_mode": {
    "name": "ipython",
    "version": 3
   },
   "file_extension": ".py",
   "mimetype": "text/x-python",
   "name": "python",
   "nbconvert_exporter": "python",
   "pygments_lexer": "ipython3",
   "version": "3.10.10"
  }
 },
 "nbformat": 4,
 "nbformat_minor": 5
}
