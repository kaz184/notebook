{
 "cells": [
  {
   "cell_type": "code",
   "execution_count": 26,
   "id": "4b98329a-3700-446d-92fa-bf0f2724c18a",
   "metadata": {},
   "outputs": [],
   "source": [
    "import matplotlib.pyplot as plt\n",
    "\n",
    "import jax\n",
    "from jax import numpy as jnp, random, jit, vmap, grad, nn\n",
    "from functools import partial\n",
    "\n",
    "import jax_dataloader as jdl\n",
    "import optax\n",
    "\n",
    "import haiku as hk\n",
    "\n",
    "import numpy as np\n",
    "from sklearn import metrics, model_selection\n",
    "\n",
    "rng = hk.PRNGSequence(0)"
   ]
  },
  {
   "cell_type": "code",
   "execution_count": 2,
   "id": "9d921aae-6202-47ab-bb2a-26e936171c59",
   "metadata": {},
   "outputs": [
    {
     "name": "stderr",
     "output_type": "stream",
     "text": [
      "/home/docker/mambaforge/lib/python3.10/site-packages/torchvision/io/image.py:13: UserWarning: Failed to load image Python extension: libjpeg.so.8: cannot open shared object file: No such file or directory\n",
      "  warn(f\"Failed to load image Python extension: {e}\")\n"
     ]
    }
   ],
   "source": [
    "from torch.utils import data\n",
    "from torchvision.datasets import MNIST"
   ]
  },
  {
   "cell_type": "code",
   "execution_count": 3,
   "id": "6a45249b-6641-486b-a4b1-89560d3fad6e",
   "metadata": {},
   "outputs": [],
   "source": [
    "mnist = MNIST('/tmp/mnist', download=True,\n",
    "              transform=lambda x:np.array(x,dtype=jnp.float32).ravel())\n",
    "\n",
    "dataloader = jdl.DataLoader(mnist, backend='pytorch',\n",
    "                            batch_size=len(mnist))\n",
    "\n",
    "batch = next(iter(dataloader))"
   ]
  },
  {
   "cell_type": "code",
   "execution_count": 4,
   "id": "e43879ef-dfa8-40ea-879a-347303ebc695",
   "metadata": {},
   "outputs": [],
   "source": [
    "def make_model():    \n",
    "    return hk.Linear(len(mnist.classes))\n",
    "\n",
    "def predict(x):\n",
    "    model = make_model()\n",
    "    logits = model(x)\n",
    "    return jnp.argmax(logits, axis=-1)\n",
    "\n",
    "def point_loss(x,y):\n",
    "    model = make_model()\n",
    "    logits = model(x)\n",
    "    return optax.softmax_cross_entropy_with_integer_labels(logits, y)\n",
    "\n",
    "def score(x,y):\n",
    "    pred = predict(x)    \n",
    "    def aux(true, pred):\n",
    "        return metrics.f1_score(true, pred, average='weighted').astype(np.float32)\n",
    "    result = jax.core.ShapedArray([], np.float32)\n",
    "    return jax.pure_callback(aux, result, y, pred)"
   ]
  },
  {
   "cell_type": "code",
   "execution_count": 5,
   "id": "ef22164f-b2c5-4f98-afe4-ba205a4020ae",
   "metadata": {},
   "outputs": [],
   "source": [
    "from typing import NamedTuple\n",
    "class TrainingState(NamedTuple):\n",
    "    params: hk.Params\n",
    "    opt_state: optax.OptState"
   ]
  },
  {
   "cell_type": "code",
   "execution_count": 6,
   "id": "4103de41-dd8e-4a2d-b433-7075b5f235fd",
   "metadata": {},
   "outputs": [],
   "source": [
    "from typing import Callable\n",
    "class UpdateSpec(NamedTuple):\n",
    "    init : Callable\n",
    "    loss: Callable\n",
    "    opt: optax.GradientTransformation"
   ]
  },
  {
   "cell_type": "code",
   "execution_count": 8,
   "id": "9810d685-2cf4-4628-afe3-d8acbb64d798",
   "metadata": {},
   "outputs": [],
   "source": [
    "@partial(jit, static_argnums = 0)\n",
    "def update(spec: UpdateSpec, state: TrainingState, batch) -> TrainingState:\n",
    "    grads = grad(spec.loss)(state.params, batch)\n",
    "    ups, opt_state = spec.opt.update(grads, state.opt_state, state.params)\n",
    "    params = optax.apply_updates(state.params, ups)\n",
    "    return TrainingState(params = params, opt_state = opt_state)"
   ]
  },
  {
   "cell_type": "code",
   "execution_count": 129,
   "id": "d0deed16-1110-4e90-92bf-9f784e6fab85",
   "metadata": {},
   "outputs": [],
   "source": [
    "score_fn = jit(hk.without_apply_rng(hk.transform(score)).apply)\n",
    "\n",
    "def gap(spec: UpdateSpec):    \n",
    "    params = spec.init(next(rng), *batch)\n",
    "    state = TrainingState(\n",
    "        params = params,\n",
    "        opt_state = spec.opt.init(params)\n",
    "    )\n",
    "\n",
    "    X_train, X_test, y_train, y_test = model_selection.train_test_split(\n",
    "        *batch, stratify=batch[1],\n",
    "        train_size=100/len(mnist)\n",
    "    )\n",
    "\n",
    "    for _ in range(200):\n",
    "        state = update(spec, state, [X_train, y_train])\n",
    "        \n",
    "    return np.array([\n",
    "        score_fn(state.params, X_train, y_train),\n",
    "        score_fn(state.params, X_test, y_test)\n",
    "    ])"
   ]
  },
  {
   "cell_type": "code",
   "execution_count": 145,
   "id": "f4d9345d-1816-4c5d-a08d-4ff1a3b61916",
   "metadata": {},
   "outputs": [],
   "source": [
    "def mad(x, axis=None):\n",
    "    m = jnp.median(x, axis=axis, keepdims=True)\n",
    "    return jnp.median(jnp.abs(x-m), axis=axis)"
   ]
  },
  {
   "cell_type": "code",
   "execution_count": 148,
   "id": "62636b23-d023-45e1-9005-452c2074af4c",
   "metadata": {},
   "outputs": [],
   "source": [
    "param_init, point_loss_fn = hk.without_apply_rng(hk.transform(point_loss))\n",
    "\n",
    "def loss(params, batch):\n",
    "    l = vmap(point_loss_fn, in_axes=[None,0,0])(params, *batch)\n",
    "    return jnp.mean(l)\n",
    "\n",
    "def loss_max(params, batch):\n",
    "    l = vmap(point_loss_fn, in_axes=[None,0,0])(params, *batch)\n",
    "    return jnp.mean(l) + jnp.max(l)\n",
    "\n",
    "def loss_mad(params, batch):\n",
    "    l = vmap(point_loss_fn, in_axes=[None,0,0])(params, *batch)\n",
    "    return jnp.mean(l) + mad(l)"
   ]
  },
  {
   "cell_type": "code",
   "execution_count": 149,
   "id": "1317056d-ce37-4cdf-a58b-af37747696f1",
   "metadata": {},
   "outputs": [],
   "source": [
    "specs = {\n",
    "    'gd': UpdateSpec(\n",
    "        init = param_init,\n",
    "        loss = loss,\n",
    "        opt= optax.chain(\n",
    "            optax.scale_by_schedule(lambda t: -1/jnp.sqrt(t+1))\n",
    "        )\n",
    "    ),\n",
    "    # 'gd_max': UpdateSpec(\n",
    "    #     init = param_init,\n",
    "    #     loss = loss_max,\n",
    "    #     opt= optax.chain(\n",
    "    #         optax.scale_by_schedule(lambda t: -1/jnp.sqrt(t+1))\n",
    "    #     )\n",
    "    # ),\n",
    "    # 'gd_max2': UpdateSpec(\n",
    "    #     init = param_init,\n",
    "    #     loss = loss_max2,\n",
    "    #     opt= optax.chain(\n",
    "    #         optax.scale_by_schedule(lambda t: -1/jnp.sqrt(t+1))\n",
    "    #     )\n",
    "    # ),\n",
    "    'sgd_gamma0': UpdateSpec(\n",
    "        init = param_init,\n",
    "        loss = loss,\n",
    "        opt= optax.chain(\n",
    "            optax.add_noise(eta=1,gamma=0,seed=next(rng)[0]),\n",
    "            optax.scale_by_schedule(lambda t: -1/jnp.sqrt(t+1))\n",
    "        )\n",
    "    ),\n",
    "    # 'sgd_weight1': UpdateSpec(\n",
    "    #     init = param_init,\n",
    "    #     loss = loss,\n",
    "    #     opt= optax.chain(\n",
    "    #         optax.add_decayed_weights(1),\n",
    "    #         # optax.add_noise(eta=1,gamma=0,seed=next(rng)[0]),\n",
    "    #         optax.scale_by_schedule(lambda t: -1/jnp.sqrt(t+1))\n",
    "    #     )\n",
    "    # ),\n",
    "    # 'sgd_adam': UpdateSpec(\n",
    "    #     init = param_init,\n",
    "    #     loss = loss,\n",
    "    #     opt= optax.chain(\n",
    "    #         optax.adam(1)\n",
    "    #         # optax.add_noise(eta=1,gamma=0,seed=next(rng)[0]),\n",
    "    #         # optax.scale_by_schedule(lambda t: -1/jnp.sqrt(t+1))\n",
    "    #     )\n",
    "    # ),\n",
    "    # 'sgd_gamma0.5': UpdateSpec(\n",
    "    #     init = param_init,\n",
    "    #     loss = loss,\n",
    "    #     opt= optax.chain(\n",
    "    #         optax.add_noise(eta=1,gamma=0.5,seed=next(rng)[0]),\n",
    "    #         optax.scale_by_schedule(lambda t: -1/jnp.sqrt(t+1))\n",
    "    #     )\n",
    "    # ),\n",
    "    'sgd_mad': UpdateSpec(\n",
    "        init = param_init,\n",
    "        loss = loss_mad,\n",
    "        opt= optax.chain(\n",
    "            optax.add_noise(eta=1,gamma=0,seed=next(rng)[0]),\n",
    "            optax.scale_by_schedule(lambda t: -1/jnp.sqrt(t+1))\n",
    "        )\n",
    "    ),\n",
    "    # 'sgd_max': UpdateSpec(\n",
    "    #     init = param_init,\n",
    "    #     loss = loss_max,\n",
    "    #     opt= optax.chain(\n",
    "    #         optax.add_noise(eta=1,gamma=0,seed=next(rng)[0]),\n",
    "    #         optax.scale_by_schedule(lambda t: -1/jnp.sqrt(t+1))\n",
    "    #     )\n",
    "    # ),\n",
    "    # 'sgd_max2': UpdateSpec(\n",
    "    #     init = param_init,\n",
    "    #     loss = loss_max2,\n",
    "    #     opt= optax.chain(\n",
    "    #         optax.add_noise(eta=1,gamma=0,seed=next(rng)[0]),\n",
    "    #         optax.scale_by_schedule(lambda t: -1/jnp.sqrt(t+1))\n",
    "    #     )\n",
    "    # ),\n",
    "}"
   ]
  },
  {
   "cell_type": "code",
   "execution_count": 112,
   "id": "e3b2d111-8882-4618-9f17-3189df35aacb",
   "metadata": {},
   "outputs": [],
   "source": [
    "import pandas as pd\n",
    "import seaborn as sns"
   ]
  },
  {
   "cell_type": "code",
   "execution_count": 150,
   "id": "de8782e0-4ebd-404e-b3e2-eca683ff4e2b",
   "metadata": {},
   "outputs": [],
   "source": [
    "def todataframe(gen):\n",
    "    return pd.DataFrame(dict(gen()))"
   ]
  },
  {
   "cell_type": "code",
   "execution_count": 151,
   "id": "6c41d739-946c-42a7-bfdf-1568e1b762ef",
   "metadata": {},
   "outputs": [
    {
     "name": "stderr",
     "output_type": "stream",
     "text": [
      "100% 3/3 [02:23<00:00, 48.00s/it]\n"
     ]
    },
    {
     "data": {
      "text/plain": [
       "<Axes: xlabel='value', ylabel='variable'>"
      ]
     },
     "execution_count": 151,
     "metadata": {},
     "output_type": "execute_result"
    },
    {
     "data": {
      "image/png": "[encoded data removed]",
      "text/plain": [
       "<Figure size 640x480 with 1 Axes>"
      ]
     },
     "metadata": {},
     "output_type": "display_data"
    }
   ],
   "source": [
    "from tqdm import tqdm\n",
    "\n",
    "@todataframe\n",
    "def df():\n",
    "    for name,spec in tqdm(specs.items()):\n",
    "        train, test = np.stack([ gap(spec) for _ in range(100) ]).T\n",
    "        yield [name, test]\n",
    "\n",
    "sns.boxplot(x='value', y='variable', data=df.melt())\n",
    "sns.stripplot(x='value', y='variable', data=df.melt(), size=4, color = '.3')"
   ]
  },
  {
   "cell_type": "code",
   "execution_count": null,
   "id": "099592dc-2fb7-4c6d-a910-ce91e8ac3185",
   "metadata": {},
   "outputs": [],
   "source": []
  },
  {
   "cell_type": "code",
   "execution_count": null,
   "id": "06b22be2-d34e-4ec8-bb8a-c16b87b62f19",
   "metadata": {},
   "outputs": [],
   "source": []
  },
  {
   "cell_type": "code",
   "execution_count": null,
   "id": "648c50dd-a16a-45dd-b1ca-f13aba755090",
   "metadata": {},
   "outputs": [],
   "source": []
  },
  {
   "cell_type": "code",
   "execution_count": null,
   "id": "aee83b8c-a27c-4d9c-8980-9e3369180145",
   "metadata": {},
   "outputs": [],
   "source": []
  }
 ],
 "metadata": {
  "kernelspec": {
   "display_name": "Python 3 (ipykernel)",
   "language": "python",
   "name": "python3"
  },
  "language_info": {
   "codemirror_mode": {
    "name": "ipython",
    "version": 3
   },
   "file_extension": ".py",
   "mimetype": "text/x-python",
   "name": "python",
   "nbconvert_exporter": "python",
   "pygments_lexer": "ipython3",
   "version": "3.10.8"
  }
 },
 "nbformat": 4,
 "nbformat_minor": 5
}
